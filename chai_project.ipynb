{
 "cells": [
  {
   "cell_type": "markdown",
   "id": "6bf37e83",
   "metadata": {},
   "source": [
    "## CHAI CO.data 분석"
   ]
  },
  {
   "cell_type": "code",
   "execution_count": 1,
   "id": "daaba19e",
   "metadata": {
    "ExecuteTime": {
     "end_time": "2022-07-30T06:35:39.206792Z",
     "start_time": "2022-07-30T06:35:31.157994Z"
    }
   },
   "outputs": [],
   "source": [
    "import pandas as pd\n",
    "pd.set_option('display.float_format','{:.2f}'.format)\n",
    "import numpy as np\n",
    "from datetime import datetime\n",
    "import matplotlib as mpl\n",
    "import matplotlib.pyplot as plt\n",
    "%matplotlib inline\n",
    "import seaborn as sns\n",
    "\n",
    "# 그래프 한글폰트 사용\n",
    "plt.rc('font', family='Malgun Gothic')"
   ]
  },
  {
   "cell_type": "code",
   "execution_count": 5,
   "id": "b9a30fdc",
   "metadata": {
    "ExecuteTime": {
     "end_time": "2022-07-30T06:40:34.148940Z",
     "start_time": "2022-07-30T06:39:52.403889Z"
    },
    "scrolled": true
   },
   "outputs": [
    {
     "data": {
      "text/html": [
       "<div>\n",
       "<style scoped>\n",
       "    .dataframe tbody tr th:only-of-type {\n",
       "        vertical-align: middle;\n",
       "    }\n",
       "\n",
       "    .dataframe tbody tr th {\n",
       "        vertical-align: top;\n",
       "    }\n",
       "\n",
       "    .dataframe thead th {\n",
       "        text-align: right;\n",
       "    }\n",
       "</style>\n",
       "<table border=\"1\" class=\"dataframe\">\n",
       "  <thead>\n",
       "    <tr style=\"text-align: right;\">\n",
       "      <th></th>\n",
       "      <th>customer_id</th>\n",
       "      <th>created_at</th>\n",
       "      <th>pre_discount</th>\n",
       "      <th>post_discount</th>\n",
       "      <th>cashback_amount</th>\n",
       "      <th>discount_amount</th>\n",
       "      <th>total_promotion</th>\n",
       "      <th>push_permission</th>\n",
       "      <th>gender</th>\n",
       "      <th>is_foreigner</th>\n",
       "      <th>birthday</th>\n",
       "      <th>sign_up_date</th>\n",
       "      <th>merchant_id</th>\n",
       "    </tr>\n",
       "  </thead>\n",
       "  <tbody>\n",
       "    <tr>\n",
       "      <th>0</th>\n",
       "      <td>207317</td>\n",
       "      <td>2020-03-22 10:27:52.498</td>\n",
       "      <td>36236</td>\n",
       "      <td>36236</td>\n",
       "      <td>1087</td>\n",
       "      <td>0</td>\n",
       "      <td>1087</td>\n",
       "      <td>True</td>\n",
       "      <td>female</td>\n",
       "      <td>False</td>\n",
       "      <td>1957-11-05</td>\n",
       "      <td>2019-11-30 16:48:19.339</td>\n",
       "      <td>9</td>\n",
       "    </tr>\n",
       "    <tr>\n",
       "      <th>1</th>\n",
       "      <td>95246</td>\n",
       "      <td>2020-03-12 09:41:09.845</td>\n",
       "      <td>12900</td>\n",
       "      <td>12900</td>\n",
       "      <td>387</td>\n",
       "      <td>0</td>\n",
       "      <td>387</td>\n",
       "      <td>True</td>\n",
       "      <td>female</td>\n",
       "      <td>False</td>\n",
       "      <td>1983-10-23</td>\n",
       "      <td>2019-07-09 08:21:14.098</td>\n",
       "      <td>6</td>\n",
       "    </tr>\n",
       "    <tr>\n",
       "      <th>2</th>\n",
       "      <td>208074</td>\n",
       "      <td>2020-02-01 08:54:53.246</td>\n",
       "      <td>7500</td>\n",
       "      <td>7500</td>\n",
       "      <td>225</td>\n",
       "      <td>0</td>\n",
       "      <td>225</td>\n",
       "      <td>True</td>\n",
       "      <td>female</td>\n",
       "      <td>False</td>\n",
       "      <td>1975-07-06</td>\n",
       "      <td>2019-08-15 01:02:13.336</td>\n",
       "      <td>9</td>\n",
       "    </tr>\n",
       "    <tr>\n",
       "      <th>3</th>\n",
       "      <td>15552</td>\n",
       "      <td>2020-03-06 10:23:21.183</td>\n",
       "      <td>11800</td>\n",
       "      <td>11800</td>\n",
       "      <td>354</td>\n",
       "      <td>0</td>\n",
       "      <td>354</td>\n",
       "      <td>False</td>\n",
       "      <td>male</td>\n",
       "      <td>False</td>\n",
       "      <td>1996-08-21</td>\n",
       "      <td>2019-08-06 02:09:28.712</td>\n",
       "      <td>4</td>\n",
       "    </tr>\n",
       "    <tr>\n",
       "      <th>4</th>\n",
       "      <td>511595</td>\n",
       "      <td>2020-03-13 12:00:27.914</td>\n",
       "      <td>29700</td>\n",
       "      <td>29700</td>\n",
       "      <td>891</td>\n",
       "      <td>0</td>\n",
       "      <td>891</td>\n",
       "      <td>True</td>\n",
       "      <td>female</td>\n",
       "      <td>False</td>\n",
       "      <td>1999-01-23</td>\n",
       "      <td>2020-03-12 00:33:46.147</td>\n",
       "      <td>5</td>\n",
       "    </tr>\n",
       "  </tbody>\n",
       "</table>\n",
       "</div>"
      ],
      "text/plain": [
       "   customer_id               created_at  pre_discount  post_discount  \\\n",
       "0       207317  2020-03-22 10:27:52.498         36236          36236   \n",
       "1        95246  2020-03-12 09:41:09.845         12900          12900   \n",
       "2       208074  2020-02-01 08:54:53.246          7500           7500   \n",
       "3        15552  2020-03-06 10:23:21.183         11800          11800   \n",
       "4       511595  2020-03-13 12:00:27.914         29700          29700   \n",
       "\n",
       "   cashback_amount  discount_amount  total_promotion  push_permission  gender  \\\n",
       "0             1087                0             1087             True  female   \n",
       "1              387                0              387             True  female   \n",
       "2              225                0              225             True  female   \n",
       "3              354                0              354            False    male   \n",
       "4              891                0              891             True  female   \n",
       "\n",
       "   is_foreigner    birthday             sign_up_date  merchant_id  \n",
       "0         False  1957-11-05  2019-11-30 16:48:19.339            9  \n",
       "1         False  1983-10-23  2019-07-09 08:21:14.098            6  \n",
       "2         False  1975-07-06  2019-08-15 01:02:13.336            9  \n",
       "3         False  1996-08-21  2019-08-06 02:09:28.712            4  \n",
       "4         False  1999-01-23  2020-03-12 00:33:46.147            5  "
      ]
     },
     "execution_count": 5,
     "metadata": {},
     "output_type": "execute_result"
    }
   ],
   "source": [
    "# 데이터 불러오기 \n",
    "chai = pd.read_csv('BA_assesment.csv')\n",
    "\n",
    "chai.head()"
   ]
  },
  {
   "cell_type": "code",
   "execution_count": 20,
   "id": "a79b6cc6",
   "metadata": {
    "ExecuteTime": {
     "end_time": "2022-07-30T08:06:03.627733Z",
     "start_time": "2022-07-30T08:06:03.511516Z"
    }
   },
   "outputs": [
    {
     "name": "stdout",
     "output_type": "stream",
     "text": [
      "(5623810, 22)\n"
     ]
    },
    {
     "data": {
      "text/plain": [
       "Index(['customer_id', 'created_at', 'pre_discount', 'post_discount',\n",
       "       'cashback_amount', 'discount_amount', 'total_promotion',\n",
       "       'push_permission', 'gender', 'is_foreigner', 'birthday', 'sign_up_date',\n",
       "       'merchant_id', 'created-year', 'created-month', 'created-day',\n",
       "       'created-hour', 'created-minute', 'birth-year', 'birth-month',\n",
       "       'birth-day', 'age'],\n",
       "      dtype='object')"
      ]
     },
     "execution_count": 20,
     "metadata": {},
     "output_type": "execute_result"
    }
   ],
   "source": [
    "# 컬럼 13개 / 로우 5,623,810개\n",
    "print(chai.shape)\n",
    "chai.columns"
   ]
  },
  {
   "cell_type": "code",
   "execution_count": 23,
   "id": "39736ef6",
   "metadata": {
    "ExecuteTime": {
     "end_time": "2022-07-30T08:42:44.002028Z",
     "start_time": "2022-07-30T08:42:08.937483Z"
    }
   },
   "outputs": [
    {
     "data": {
      "text/html": [
       "<div>\n",
       "<style scoped>\n",
       "    .dataframe tbody tr th:only-of-type {\n",
       "        vertical-align: middle;\n",
       "    }\n",
       "\n",
       "    .dataframe tbody tr th {\n",
       "        vertical-align: top;\n",
       "    }\n",
       "\n",
       "    .dataframe thead th {\n",
       "        text-align: right;\n",
       "    }\n",
       "</style>\n",
       "<table border=\"1\" class=\"dataframe\">\n",
       "  <thead>\n",
       "    <tr style=\"text-align: right;\">\n",
       "      <th></th>\n",
       "      <th>customer_id</th>\n",
       "      <th>pre_discount</th>\n",
       "      <th>post_discount</th>\n",
       "      <th>cashback_amount</th>\n",
       "      <th>discount_amount</th>\n",
       "      <th>total_promotion</th>\n",
       "      <th>push_permission</th>\n",
       "      <th>is_foreigner</th>\n",
       "      <th>merchant_id</th>\n",
       "      <th>created-year</th>\n",
       "      <th>created-month</th>\n",
       "      <th>created-day</th>\n",
       "      <th>created-hour</th>\n",
       "      <th>created-minute</th>\n",
       "      <th>birth-year</th>\n",
       "      <th>birth-month</th>\n",
       "      <th>birth-day</th>\n",
       "      <th>age</th>\n",
       "    </tr>\n",
       "  </thead>\n",
       "  <tbody>\n",
       "    <tr>\n",
       "      <th>customer_id</th>\n",
       "      <td>1.00</td>\n",
       "      <td>0.00</td>\n",
       "      <td>0.00</td>\n",
       "      <td>0.00</td>\n",
       "      <td>-0.00</td>\n",
       "      <td>-0.00</td>\n",
       "      <td>0.00</td>\n",
       "      <td>0.00</td>\n",
       "      <td>0.00</td>\n",
       "      <td>0.00</td>\n",
       "      <td>-0.00</td>\n",
       "      <td>0.00</td>\n",
       "      <td>0.00</td>\n",
       "      <td>-0.00</td>\n",
       "      <td>-0.00</td>\n",
       "      <td>0.00</td>\n",
       "      <td>-0.00</td>\n",
       "      <td>0.00</td>\n",
       "    </tr>\n",
       "    <tr>\n",
       "      <th>pre_discount</th>\n",
       "      <td>0.00</td>\n",
       "      <td>1.00</td>\n",
       "      <td>1.00</td>\n",
       "      <td>0.23</td>\n",
       "      <td>0.61</td>\n",
       "      <td>0.68</td>\n",
       "      <td>-0.02</td>\n",
       "      <td>-0.00</td>\n",
       "      <td>-0.00</td>\n",
       "      <td>-0.03</td>\n",
       "      <td>0.03</td>\n",
       "      <td>0.03</td>\n",
       "      <td>-0.00</td>\n",
       "      <td>0.01</td>\n",
       "      <td>0.00</td>\n",
       "      <td>-0.00</td>\n",
       "      <td>-0.00</td>\n",
       "      <td>-0.00</td>\n",
       "    </tr>\n",
       "    <tr>\n",
       "      <th>post_discount</th>\n",
       "      <td>0.00</td>\n",
       "      <td>1.00</td>\n",
       "      <td>1.00</td>\n",
       "      <td>0.24</td>\n",
       "      <td>0.59</td>\n",
       "      <td>0.66</td>\n",
       "      <td>-0.02</td>\n",
       "      <td>-0.00</td>\n",
       "      <td>-0.00</td>\n",
       "      <td>-0.02</td>\n",
       "      <td>0.02</td>\n",
       "      <td>0.03</td>\n",
       "      <td>-0.00</td>\n",
       "      <td>0.01</td>\n",
       "      <td>0.00</td>\n",
       "      <td>-0.00</td>\n",
       "      <td>-0.00</td>\n",
       "      <td>-0.00</td>\n",
       "    </tr>\n",
       "    <tr>\n",
       "      <th>cashback_amount</th>\n",
       "      <td>0.00</td>\n",
       "      <td>0.23</td>\n",
       "      <td>0.24</td>\n",
       "      <td>1.00</td>\n",
       "      <td>-0.12</td>\n",
       "      <td>0.18</td>\n",
       "      <td>0.01</td>\n",
       "      <td>0.01</td>\n",
       "      <td>0.00</td>\n",
       "      <td>0.25</td>\n",
       "      <td>-0.22</td>\n",
       "      <td>0.00</td>\n",
       "      <td>0.01</td>\n",
       "      <td>-0.00</td>\n",
       "      <td>0.01</td>\n",
       "      <td>0.00</td>\n",
       "      <td>0.00</td>\n",
       "      <td>-0.01</td>\n",
       "    </tr>\n",
       "    <tr>\n",
       "      <th>discount_amount</th>\n",
       "      <td>-0.00</td>\n",
       "      <td>0.61</td>\n",
       "      <td>0.59</td>\n",
       "      <td>-0.12</td>\n",
       "      <td>1.00</td>\n",
       "      <td>0.95</td>\n",
       "      <td>-0.05</td>\n",
       "      <td>-0.02</td>\n",
       "      <td>0.00</td>\n",
       "      <td>-0.26</td>\n",
       "      <td>0.20</td>\n",
       "      <td>0.00</td>\n",
       "      <td>-0.02</td>\n",
       "      <td>0.02</td>\n",
       "      <td>-0.00</td>\n",
       "      <td>-0.00</td>\n",
       "      <td>-0.00</td>\n",
       "      <td>0.00</td>\n",
       "    </tr>\n",
       "    <tr>\n",
       "      <th>total_promotion</th>\n",
       "      <td>-0.00</td>\n",
       "      <td>0.68</td>\n",
       "      <td>0.66</td>\n",
       "      <td>0.18</td>\n",
       "      <td>0.95</td>\n",
       "      <td>1.00</td>\n",
       "      <td>-0.04</td>\n",
       "      <td>-0.02</td>\n",
       "      <td>0.00</td>\n",
       "      <td>-0.18</td>\n",
       "      <td>0.13</td>\n",
       "      <td>0.00</td>\n",
       "      <td>-0.01</td>\n",
       "      <td>0.02</td>\n",
       "      <td>-0.00</td>\n",
       "      <td>-0.00</td>\n",
       "      <td>-0.00</td>\n",
       "      <td>0.00</td>\n",
       "    </tr>\n",
       "    <tr>\n",
       "      <th>push_permission</th>\n",
       "      <td>0.00</td>\n",
       "      <td>-0.02</td>\n",
       "      <td>-0.02</td>\n",
       "      <td>0.01</td>\n",
       "      <td>-0.05</td>\n",
       "      <td>-0.04</td>\n",
       "      <td>1.00</td>\n",
       "      <td>0.07</td>\n",
       "      <td>0.00</td>\n",
       "      <td>-0.01</td>\n",
       "      <td>0.02</td>\n",
       "      <td>0.00</td>\n",
       "      <td>0.02</td>\n",
       "      <td>-0.01</td>\n",
       "      <td>-0.22</td>\n",
       "      <td>-0.00</td>\n",
       "      <td>-0.00</td>\n",
       "      <td>0.22</td>\n",
       "    </tr>\n",
       "    <tr>\n",
       "      <th>is_foreigner</th>\n",
       "      <td>0.00</td>\n",
       "      <td>-0.00</td>\n",
       "      <td>-0.00</td>\n",
       "      <td>0.01</td>\n",
       "      <td>-0.02</td>\n",
       "      <td>-0.02</td>\n",
       "      <td>0.07</td>\n",
       "      <td>1.00</td>\n",
       "      <td>-0.00</td>\n",
       "      <td>0.01</td>\n",
       "      <td>-0.00</td>\n",
       "      <td>0.00</td>\n",
       "      <td>0.00</td>\n",
       "      <td>0.00</td>\n",
       "      <td>0.04</td>\n",
       "      <td>0.01</td>\n",
       "      <td>-0.00</td>\n",
       "      <td>-0.04</td>\n",
       "    </tr>\n",
       "    <tr>\n",
       "      <th>merchant_id</th>\n",
       "      <td>0.00</td>\n",
       "      <td>-0.00</td>\n",
       "      <td>-0.00</td>\n",
       "      <td>0.00</td>\n",
       "      <td>0.00</td>\n",
       "      <td>0.00</td>\n",
       "      <td>0.00</td>\n",
       "      <td>-0.00</td>\n",
       "      <td>1.00</td>\n",
       "      <td>-0.00</td>\n",
       "      <td>-0.00</td>\n",
       "      <td>-0.00</td>\n",
       "      <td>-0.00</td>\n",
       "      <td>-0.00</td>\n",
       "      <td>-0.00</td>\n",
       "      <td>-0.00</td>\n",
       "      <td>-0.00</td>\n",
       "      <td>0.00</td>\n",
       "    </tr>\n",
       "    <tr>\n",
       "      <th>created-year</th>\n",
       "      <td>0.00</td>\n",
       "      <td>-0.03</td>\n",
       "      <td>-0.02</td>\n",
       "      <td>0.25</td>\n",
       "      <td>-0.26</td>\n",
       "      <td>-0.18</td>\n",
       "      <td>-0.01</td>\n",
       "      <td>0.01</td>\n",
       "      <td>-0.00</td>\n",
       "      <td>1.00</td>\n",
       "      <td>-0.96</td>\n",
       "      <td>-0.02</td>\n",
       "      <td>-0.03</td>\n",
       "      <td>0.00</td>\n",
       "      <td>0.04</td>\n",
       "      <td>0.00</td>\n",
       "      <td>0.00</td>\n",
       "      <td>-0.04</td>\n",
       "    </tr>\n",
       "    <tr>\n",
       "      <th>created-month</th>\n",
       "      <td>-0.00</td>\n",
       "      <td>0.03</td>\n",
       "      <td>0.02</td>\n",
       "      <td>-0.22</td>\n",
       "      <td>0.20</td>\n",
       "      <td>0.13</td>\n",
       "      <td>0.02</td>\n",
       "      <td>-0.00</td>\n",
       "      <td>-0.00</td>\n",
       "      <td>-0.96</td>\n",
       "      <td>1.00</td>\n",
       "      <td>0.01</td>\n",
       "      <td>0.03</td>\n",
       "      <td>-0.00</td>\n",
       "      <td>-0.04</td>\n",
       "      <td>-0.00</td>\n",
       "      <td>-0.00</td>\n",
       "      <td>0.04</td>\n",
       "    </tr>\n",
       "    <tr>\n",
       "      <th>created-day</th>\n",
       "      <td>0.00</td>\n",
       "      <td>0.03</td>\n",
       "      <td>0.03</td>\n",
       "      <td>0.00</td>\n",
       "      <td>0.00</td>\n",
       "      <td>0.00</td>\n",
       "      <td>0.00</td>\n",
       "      <td>0.00</td>\n",
       "      <td>-0.00</td>\n",
       "      <td>-0.02</td>\n",
       "      <td>0.01</td>\n",
       "      <td>1.00</td>\n",
       "      <td>-0.00</td>\n",
       "      <td>-0.00</td>\n",
       "      <td>0.01</td>\n",
       "      <td>0.00</td>\n",
       "      <td>-0.00</td>\n",
       "      <td>-0.01</td>\n",
       "    </tr>\n",
       "    <tr>\n",
       "      <th>created-hour</th>\n",
       "      <td>0.00</td>\n",
       "      <td>-0.00</td>\n",
       "      <td>-0.00</td>\n",
       "      <td>0.01</td>\n",
       "      <td>-0.02</td>\n",
       "      <td>-0.01</td>\n",
       "      <td>0.02</td>\n",
       "      <td>0.00</td>\n",
       "      <td>-0.00</td>\n",
       "      <td>-0.03</td>\n",
       "      <td>0.03</td>\n",
       "      <td>-0.00</td>\n",
       "      <td>1.00</td>\n",
       "      <td>-0.05</td>\n",
       "      <td>-0.03</td>\n",
       "      <td>0.00</td>\n",
       "      <td>0.00</td>\n",
       "      <td>0.03</td>\n",
       "    </tr>\n",
       "    <tr>\n",
       "      <th>created-minute</th>\n",
       "      <td>-0.00</td>\n",
       "      <td>0.01</td>\n",
       "      <td>0.01</td>\n",
       "      <td>-0.00</td>\n",
       "      <td>0.02</td>\n",
       "      <td>0.02</td>\n",
       "      <td>-0.01</td>\n",
       "      <td>0.00</td>\n",
       "      <td>-0.00</td>\n",
       "      <td>0.00</td>\n",
       "      <td>-0.00</td>\n",
       "      <td>-0.00</td>\n",
       "      <td>-0.05</td>\n",
       "      <td>1.00</td>\n",
       "      <td>0.02</td>\n",
       "      <td>0.00</td>\n",
       "      <td>0.00</td>\n",
       "      <td>-0.02</td>\n",
       "    </tr>\n",
       "    <tr>\n",
       "      <th>birth-year</th>\n",
       "      <td>-0.00</td>\n",
       "      <td>0.00</td>\n",
       "      <td>0.00</td>\n",
       "      <td>0.01</td>\n",
       "      <td>-0.00</td>\n",
       "      <td>-0.00</td>\n",
       "      <td>-0.22</td>\n",
       "      <td>0.04</td>\n",
       "      <td>-0.00</td>\n",
       "      <td>0.04</td>\n",
       "      <td>-0.04</td>\n",
       "      <td>0.01</td>\n",
       "      <td>-0.03</td>\n",
       "      <td>0.02</td>\n",
       "      <td>1.00</td>\n",
       "      <td>0.01</td>\n",
       "      <td>0.04</td>\n",
       "      <td>-1.00</td>\n",
       "    </tr>\n",
       "    <tr>\n",
       "      <th>birth-month</th>\n",
       "      <td>0.00</td>\n",
       "      <td>-0.00</td>\n",
       "      <td>-0.00</td>\n",
       "      <td>0.00</td>\n",
       "      <td>-0.00</td>\n",
       "      <td>-0.00</td>\n",
       "      <td>-0.00</td>\n",
       "      <td>0.01</td>\n",
       "      <td>-0.00</td>\n",
       "      <td>0.00</td>\n",
       "      <td>-0.00</td>\n",
       "      <td>0.00</td>\n",
       "      <td>0.00</td>\n",
       "      <td>0.00</td>\n",
       "      <td>0.01</td>\n",
       "      <td>1.00</td>\n",
       "      <td>0.02</td>\n",
       "      <td>-0.01</td>\n",
       "    </tr>\n",
       "    <tr>\n",
       "      <th>birth-day</th>\n",
       "      <td>-0.00</td>\n",
       "      <td>-0.00</td>\n",
       "      <td>-0.00</td>\n",
       "      <td>0.00</td>\n",
       "      <td>-0.00</td>\n",
       "      <td>-0.00</td>\n",
       "      <td>-0.00</td>\n",
       "      <td>-0.00</td>\n",
       "      <td>-0.00</td>\n",
       "      <td>0.00</td>\n",
       "      <td>-0.00</td>\n",
       "      <td>-0.00</td>\n",
       "      <td>0.00</td>\n",
       "      <td>0.00</td>\n",
       "      <td>0.04</td>\n",
       "      <td>0.02</td>\n",
       "      <td>1.00</td>\n",
       "      <td>-0.04</td>\n",
       "    </tr>\n",
       "    <tr>\n",
       "      <th>age</th>\n",
       "      <td>0.00</td>\n",
       "      <td>-0.00</td>\n",
       "      <td>-0.00</td>\n",
       "      <td>-0.01</td>\n",
       "      <td>0.00</td>\n",
       "      <td>0.00</td>\n",
       "      <td>0.22</td>\n",
       "      <td>-0.04</td>\n",
       "      <td>0.00</td>\n",
       "      <td>-0.04</td>\n",
       "      <td>0.04</td>\n",
       "      <td>-0.01</td>\n",
       "      <td>0.03</td>\n",
       "      <td>-0.02</td>\n",
       "      <td>-1.00</td>\n",
       "      <td>-0.01</td>\n",
       "      <td>-0.04</td>\n",
       "      <td>1.00</td>\n",
       "    </tr>\n",
       "  </tbody>\n",
       "</table>\n",
       "</div>"
      ],
      "text/plain": [
       "                 customer_id  pre_discount  post_discount  cashback_amount  \\\n",
       "customer_id             1.00          0.00           0.00             0.00   \n",
       "pre_discount            0.00          1.00           1.00             0.23   \n",
       "post_discount           0.00          1.00           1.00             0.24   \n",
       "cashback_amount         0.00          0.23           0.24             1.00   \n",
       "discount_amount        -0.00          0.61           0.59            -0.12   \n",
       "total_promotion        -0.00          0.68           0.66             0.18   \n",
       "push_permission         0.00         -0.02          -0.02             0.01   \n",
       "is_foreigner            0.00         -0.00          -0.00             0.01   \n",
       "merchant_id             0.00         -0.00          -0.00             0.00   \n",
       "created-year            0.00         -0.03          -0.02             0.25   \n",
       "created-month          -0.00          0.03           0.02            -0.22   \n",
       "created-day             0.00          0.03           0.03             0.00   \n",
       "created-hour            0.00         -0.00          -0.00             0.01   \n",
       "created-minute         -0.00          0.01           0.01            -0.00   \n",
       "birth-year             -0.00          0.00           0.00             0.01   \n",
       "birth-month             0.00         -0.00          -0.00             0.00   \n",
       "birth-day              -0.00         -0.00          -0.00             0.00   \n",
       "age                     0.00         -0.00          -0.00            -0.01   \n",
       "\n",
       "                 discount_amount  total_promotion  push_permission  \\\n",
       "customer_id                -0.00            -0.00             0.00   \n",
       "pre_discount                0.61             0.68            -0.02   \n",
       "post_discount               0.59             0.66            -0.02   \n",
       "cashback_amount            -0.12             0.18             0.01   \n",
       "discount_amount             1.00             0.95            -0.05   \n",
       "total_promotion             0.95             1.00            -0.04   \n",
       "push_permission            -0.05            -0.04             1.00   \n",
       "is_foreigner               -0.02            -0.02             0.07   \n",
       "merchant_id                 0.00             0.00             0.00   \n",
       "created-year               -0.26            -0.18            -0.01   \n",
       "created-month               0.20             0.13             0.02   \n",
       "created-day                 0.00             0.00             0.00   \n",
       "created-hour               -0.02            -0.01             0.02   \n",
       "created-minute              0.02             0.02            -0.01   \n",
       "birth-year                 -0.00            -0.00            -0.22   \n",
       "birth-month                -0.00            -0.00            -0.00   \n",
       "birth-day                  -0.00            -0.00            -0.00   \n",
       "age                         0.00             0.00             0.22   \n",
       "\n",
       "                 is_foreigner  merchant_id  created-year  created-month  \\\n",
       "customer_id              0.00         0.00          0.00          -0.00   \n",
       "pre_discount            -0.00        -0.00         -0.03           0.03   \n",
       "post_discount           -0.00        -0.00         -0.02           0.02   \n",
       "cashback_amount          0.01         0.00          0.25          -0.22   \n",
       "discount_amount         -0.02         0.00         -0.26           0.20   \n",
       "total_promotion         -0.02         0.00         -0.18           0.13   \n",
       "push_permission          0.07         0.00         -0.01           0.02   \n",
       "is_foreigner             1.00        -0.00          0.01          -0.00   \n",
       "merchant_id             -0.00         1.00         -0.00          -0.00   \n",
       "created-year             0.01        -0.00          1.00          -0.96   \n",
       "created-month           -0.00        -0.00         -0.96           1.00   \n",
       "created-day              0.00        -0.00         -0.02           0.01   \n",
       "created-hour             0.00        -0.00         -0.03           0.03   \n",
       "created-minute           0.00        -0.00          0.00          -0.00   \n",
       "birth-year               0.04        -0.00          0.04          -0.04   \n",
       "birth-month              0.01        -0.00          0.00          -0.00   \n",
       "birth-day               -0.00        -0.00          0.00          -0.00   \n",
       "age                     -0.04         0.00         -0.04           0.04   \n",
       "\n",
       "                 created-day  created-hour  created-minute  birth-year  \\\n",
       "customer_id             0.00          0.00           -0.00       -0.00   \n",
       "pre_discount            0.03         -0.00            0.01        0.00   \n",
       "post_discount           0.03         -0.00            0.01        0.00   \n",
       "cashback_amount         0.00          0.01           -0.00        0.01   \n",
       "discount_amount         0.00         -0.02            0.02       -0.00   \n",
       "total_promotion         0.00         -0.01            0.02       -0.00   \n",
       "push_permission         0.00          0.02           -0.01       -0.22   \n",
       "is_foreigner            0.00          0.00            0.00        0.04   \n",
       "merchant_id            -0.00         -0.00           -0.00       -0.00   \n",
       "created-year           -0.02         -0.03            0.00        0.04   \n",
       "created-month           0.01          0.03           -0.00       -0.04   \n",
       "created-day             1.00         -0.00           -0.00        0.01   \n",
       "created-hour           -0.00          1.00           -0.05       -0.03   \n",
       "created-minute         -0.00         -0.05            1.00        0.02   \n",
       "birth-year              0.01         -0.03            0.02        1.00   \n",
       "birth-month             0.00          0.00            0.00        0.01   \n",
       "birth-day              -0.00          0.00            0.00        0.04   \n",
       "age                    -0.01          0.03           -0.02       -1.00   \n",
       "\n",
       "                 birth-month  birth-day   age  \n",
       "customer_id             0.00      -0.00  0.00  \n",
       "pre_discount           -0.00      -0.00 -0.00  \n",
       "post_discount          -0.00      -0.00 -0.00  \n",
       "cashback_amount         0.00       0.00 -0.01  \n",
       "discount_amount        -0.00      -0.00  0.00  \n",
       "total_promotion        -0.00      -0.00  0.00  \n",
       "push_permission        -0.00      -0.00  0.22  \n",
       "is_foreigner            0.01      -0.00 -0.04  \n",
       "merchant_id            -0.00      -0.00  0.00  \n",
       "created-year            0.00       0.00 -0.04  \n",
       "created-month          -0.00      -0.00  0.04  \n",
       "created-day             0.00      -0.00 -0.01  \n",
       "created-hour            0.00       0.00  0.03  \n",
       "created-minute          0.00       0.00 -0.02  \n",
       "birth-year              0.01       0.04 -1.00  \n",
       "birth-month             1.00       0.02 -0.01  \n",
       "birth-day               0.02       1.00 -0.04  \n",
       "age                    -0.01      -0.04  1.00  "
      ]
     },
     "execution_count": 23,
     "metadata": {},
     "output_type": "execute_result"
    }
   ],
   "source": [
    "# 컬럼간 상관관계 확인\n",
    "chai.corr(method='pearson')"
   ]
  },
  {
   "cell_type": "code",
   "execution_count": 3,
   "id": "00246996",
   "metadata": {
    "ExecuteTime": {
     "end_time": "2022-05-18T01:38:26.687859Z",
     "start_time": "2022-05-18T01:37:12.838214Z"
    },
    "scrolled": true
   },
   "outputs": [
    {
     "name": "stderr",
     "output_type": "stream",
     "text": [
      "C:\\Users\\a\\anaconda3\\lib\\site-packages\\statsmodels\\stats\\outliers_influence.py:195: RuntimeWarning: divide by zero encountered in double_scalars\n",
      "  vif = 1. / (1. - r_squared_i)\n"
     ]
    },
    {
     "name": "stdout",
     "output_type": "stream",
     "text": [
      "   VIF_Factor          Feature\n",
      "0   101004.68     pre_discount\n",
      "1  2160825.51    post_discount\n",
      "2         inf  cashback_amount\n",
      "3         inf  discount_amount\n",
      "4         inf  total_promotion\n"
     ]
    }
   ],
   "source": [
    "# 컬럼간 다중공선성 확인\n",
    "\n",
    "import statsmodels.api as sm\n",
    "from statsmodels.stats.outliers_influence import variance_inflation_factor\n",
    "\n",
    "chai = pd.read_csv('BA_assesment.csv')\n",
    "\n",
    "X_train = chai[['pre_discount', 'post_discount', 'cashback_amount', 'discount_amount','total_promotion']]\n",
    "\n",
    "def feature_engineering_XbyVIF(X_train):\n",
    "    vif = pd.DataFrame()\n",
    "    vif['VIF_Factor'] = [variance_inflation_factor(X_train.values, i)\n",
    "                         for i in range(X_train.shape[1])]\n",
    "    vif['Feature'] = X_train.columns\n",
    "    return vif\n",
    "vif = feature_engineering_XbyVIF(X_train)\n",
    "print(vif)\n"
   ]
  },
  {
   "cell_type": "markdown",
   "id": "c6a8f2ff",
   "metadata": {},
   "source": [
    "###  데이터 살펴보기"
   ]
  },
  {
   "cell_type": "code",
   "execution_count": 6,
   "id": "bf7e2dae",
   "metadata": {
    "ExecuteTime": {
     "end_time": "2022-07-30T06:40:48.871332Z",
     "start_time": "2022-07-30T06:40:45.483111Z"
    }
   },
   "outputs": [
    {
     "data": {
      "text/plain": [
       "customer_id        0\n",
       "created_at         0\n",
       "pre_discount       0\n",
       "post_discount      0\n",
       "cashback_amount    0\n",
       "discount_amount    0\n",
       "total_promotion    0\n",
       "push_permission    0\n",
       "gender             0\n",
       "is_foreigner       0\n",
       "birthday           0\n",
       "sign_up_date       0\n",
       "merchant_id        0\n",
       "dtype: int64"
      ]
     },
     "execution_count": 6,
     "metadata": {},
     "output_type": "execute_result"
    }
   ],
   "source": [
    "# null 값 확인하기\n",
    "chai.isnull().sum()"
   ]
  },
  {
   "cell_type": "code",
   "execution_count": 5,
   "id": "64b84cb4",
   "metadata": {
    "ExecuteTime": {
     "end_time": "2022-05-09T03:23:02.187470Z",
     "start_time": "2022-05-09T03:23:01.850467Z"
    },
    "scrolled": true
   },
   "outputs": [
    {
     "name": "stdout",
     "output_type": "stream",
     "text": [
      "<class 'pandas.core.frame.DataFrame'>\n",
      "RangeIndex: 5623810 entries, 0 to 5623809\n",
      "Data columns (total 13 columns):\n",
      " #   Column           Dtype \n",
      "---  ------           ----- \n",
      " 0   customer_id      int64 \n",
      " 1   created_at       object\n",
      " 2   pre_discount     int64 \n",
      " 3   post_discount    int64 \n",
      " 4   cashback_amount  int64 \n",
      " 5   discount_amount  int64 \n",
      " 6   total_promotion  int64 \n",
      " 7   push_permission  bool  \n",
      " 8   gender           object\n",
      " 9   is_foreigner     bool  \n",
      " 10  birthday         object\n",
      " 11  sign_up_date     object\n",
      " 12  merchant_id      int64 \n",
      "dtypes: bool(2), int64(7), object(4)\n",
      "memory usage: 482.7+ MB\n"
     ]
    }
   ],
   "source": [
    "# 컬럼의 데이터 타입 확인\n",
    "chai.info()"
   ]
  },
  {
   "cell_type": "code",
   "execution_count": null,
   "id": "1a6318b7",
   "metadata": {},
   "outputs": [],
   "source": [
    "# 컬럼별 value 확인"
   ]
  },
  {
   "cell_type": "code",
   "execution_count": 29,
   "id": "9c44682a",
   "metadata": {
    "ExecuteTime": {
     "end_time": "2022-05-09T01:58:40.672503Z",
     "start_time": "2022-05-09T01:58:40.378494Z"
    }
   },
   "outputs": [
    {
     "data": {
      "text/plain": [
       "True     2907346\n",
       "False    2716464\n",
       "Name: push_permission, dtype: int64"
      ]
     },
     "execution_count": 29,
     "metadata": {},
     "output_type": "execute_result"
    }
   ],
   "source": [
    "chai['push_permission'].value_counts()"
   ]
  },
  {
   "cell_type": "code",
   "execution_count": 30,
   "id": "3b73bdb9",
   "metadata": {
    "ExecuteTime": {
     "end_time": "2022-05-09T01:59:15.277316Z",
     "start_time": "2022-05-09T01:59:13.384772Z"
    }
   },
   "outputs": [
    {
     "data": {
      "text/plain": [
       "female    4070077\n",
       "male      1553733\n",
       "Name: gender, dtype: int64"
      ]
     },
     "execution_count": 30,
     "metadata": {},
     "output_type": "execute_result"
    }
   ],
   "source": [
    "chai['gender'].value_counts()"
   ]
  },
  {
   "cell_type": "code",
   "execution_count": 31,
   "id": "6cc30818",
   "metadata": {
    "ExecuteTime": {
     "end_time": "2022-05-09T01:59:43.105690Z",
     "start_time": "2022-05-09T01:59:42.771386Z"
    }
   },
   "outputs": [
    {
     "data": {
      "text/plain": [
       "False    5561804\n",
       "True       62006\n",
       "Name: is_foreigner, dtype: int64"
      ]
     },
     "execution_count": 31,
     "metadata": {},
     "output_type": "execute_result"
    }
   ],
   "source": [
    "chai['is_foreigner'].value_counts()"
   ]
  },
  {
   "cell_type": "code",
   "execution_count": 19,
   "id": "fd56297c",
   "metadata": {
    "ExecuteTime": {
     "end_time": "2022-05-09T03:36:51.532417Z",
     "start_time": "2022-05-09T03:36:51.406697Z"
    }
   },
   "outputs": [
    {
     "data": {
      "text/plain": [
       "1     312192\n",
       "2     624058\n",
       "3     626313\n",
       "4     625101\n",
       "5     624215\n",
       "6     624720\n",
       "7     624287\n",
       "8     624806\n",
       "9     626019\n",
       "10    312099\n",
       "Name: merchant_id, dtype: int64"
      ]
     },
     "execution_count": 19,
     "metadata": {},
     "output_type": "execute_result"
    }
   ],
   "source": [
    "chai['merchant_id'].value_counts().sort_index()"
   ]
  },
  {
   "cell_type": "markdown",
   "id": "730ab60b",
   "metadata": {
    "ExecuteTime": {
     "end_time": "2022-05-09T01:26:05.490363Z",
     "start_time": "2022-05-09T01:26:05.464576Z"
    }
   },
   "source": [
    "### 전처리 Parse datetime\n",
    "> created_at 과 birthday, sign_up_date 컬럼 date type 으로 변경"
   ]
  },
  {
   "cell_type": "code",
   "execution_count": 28,
   "id": "d9feac9f",
   "metadata": {
    "ExecuteTime": {
     "end_time": "2022-07-30T09:01:00.278144Z",
     "start_time": "2022-07-30T09:00:53.139708Z"
    }
   },
   "outputs": [
    {
     "name": "stdout",
     "output_type": "stream",
     "text": [
      "(5623810, 26)\n"
     ]
    },
    {
     "data": {
      "text/html": [
       "<div>\n",
       "<style scoped>\n",
       "    .dataframe tbody tr th:only-of-type {\n",
       "        vertical-align: middle;\n",
       "    }\n",
       "\n",
       "    .dataframe tbody tr th {\n",
       "        vertical-align: top;\n",
       "    }\n",
       "\n",
       "    .dataframe thead th {\n",
       "        text-align: right;\n",
       "    }\n",
       "</style>\n",
       "<table border=\"1\" class=\"dataframe\">\n",
       "  <thead>\n",
       "    <tr style=\"text-align: right;\">\n",
       "      <th></th>\n",
       "      <th>created_at</th>\n",
       "      <th>created-year</th>\n",
       "      <th>created-month</th>\n",
       "      <th>created-day</th>\n",
       "      <th>created-hour</th>\n",
       "      <th>created-minute</th>\n",
       "    </tr>\n",
       "  </thead>\n",
       "  <tbody>\n",
       "    <tr>\n",
       "      <th>0</th>\n",
       "      <td>2020-03-22 10:27:52.498</td>\n",
       "      <td>2020</td>\n",
       "      <td>3</td>\n",
       "      <td>22</td>\n",
       "      <td>10</td>\n",
       "      <td>27</td>\n",
       "    </tr>\n",
       "    <tr>\n",
       "      <th>1</th>\n",
       "      <td>2020-03-12 09:41:09.845</td>\n",
       "      <td>2020</td>\n",
       "      <td>3</td>\n",
       "      <td>12</td>\n",
       "      <td>9</td>\n",
       "      <td>41</td>\n",
       "    </tr>\n",
       "    <tr>\n",
       "      <th>2</th>\n",
       "      <td>2020-02-01 08:54:53.246</td>\n",
       "      <td>2020</td>\n",
       "      <td>2</td>\n",
       "      <td>1</td>\n",
       "      <td>8</td>\n",
       "      <td>54</td>\n",
       "    </tr>\n",
       "    <tr>\n",
       "      <th>3</th>\n",
       "      <td>2020-03-06 10:23:21.183</td>\n",
       "      <td>2020</td>\n",
       "      <td>3</td>\n",
       "      <td>6</td>\n",
       "      <td>10</td>\n",
       "      <td>23</td>\n",
       "    </tr>\n",
       "    <tr>\n",
       "      <th>4</th>\n",
       "      <td>2020-03-13 12:00:27.914</td>\n",
       "      <td>2020</td>\n",
       "      <td>3</td>\n",
       "      <td>13</td>\n",
       "      <td>12</td>\n",
       "      <td>0</td>\n",
       "    </tr>\n",
       "  </tbody>\n",
       "</table>\n",
       "</div>"
      ],
      "text/plain": [
       "               created_at  created-year  created-month  created-day  \\\n",
       "0 2020-03-22 10:27:52.498          2020              3           22   \n",
       "1 2020-03-12 09:41:09.845          2020              3           12   \n",
       "2 2020-02-01 08:54:53.246          2020              2            1   \n",
       "3 2020-03-06 10:23:21.183          2020              3            6   \n",
       "4 2020-03-13 12:00:27.914          2020              3           13   \n",
       "\n",
       "   created-hour  created-minute  \n",
       "0            10              27  \n",
       "1             9              41  \n",
       "2             8              54  \n",
       "3            10              23  \n",
       "4            12               0  "
      ]
     },
     "execution_count": 28,
     "metadata": {},
     "output_type": "execute_result"
    }
   ],
   "source": [
    "# 결제일시 데이터타입 변환하기 \n",
    "chai[\"created_at\"] = pd.to_datetime(chai[\"created_at\"])\n",
    "\n",
    "chai[\"created-year\"]= chai['created_at'].dt.year\n",
    "chai[\"created-month\"]= chai['created_at'].dt.month\n",
    "chai[\"created-day\"]= chai['created_at'].dt.day\n",
    "chai[\"created-hour\"]= chai['created_at'].dt.hour\n",
    "chai[\"created-minute\"]= chai['created_at'].dt.minute\n",
    "\n",
    "print(chai.shape)\n",
    "chai[[\"created_at\",\"created-year\",\"created-month\",\"created-day\",\"created-hour\",'created-minute']].head()"
   ]
  },
  {
   "cell_type": "code",
   "execution_count": 8,
   "id": "08b15064",
   "metadata": {
    "ExecuteTime": {
     "end_time": "2022-07-30T06:44:41.915687Z",
     "start_time": "2022-07-30T06:44:20.811661Z"
    },
    "scrolled": true
   },
   "outputs": [
    {
     "name": "stdout",
     "output_type": "stream",
     "text": [
      "(5623810, 21)\n"
     ]
    },
    {
     "data": {
      "text/html": [
       "<div>\n",
       "<style scoped>\n",
       "    .dataframe tbody tr th:only-of-type {\n",
       "        vertical-align: middle;\n",
       "    }\n",
       "\n",
       "    .dataframe tbody tr th {\n",
       "        vertical-align: top;\n",
       "    }\n",
       "\n",
       "    .dataframe thead th {\n",
       "        text-align: right;\n",
       "    }\n",
       "</style>\n",
       "<table border=\"1\" class=\"dataframe\">\n",
       "  <thead>\n",
       "    <tr style=\"text-align: right;\">\n",
       "      <th></th>\n",
       "      <th>birthday</th>\n",
       "      <th>birth-year</th>\n",
       "      <th>birth-month</th>\n",
       "      <th>birth-day</th>\n",
       "    </tr>\n",
       "  </thead>\n",
       "  <tbody>\n",
       "    <tr>\n",
       "      <th>0</th>\n",
       "      <td>1957-11-05</td>\n",
       "      <td>1957</td>\n",
       "      <td>11</td>\n",
       "      <td>5</td>\n",
       "    </tr>\n",
       "    <tr>\n",
       "      <th>1</th>\n",
       "      <td>1983-10-23</td>\n",
       "      <td>1983</td>\n",
       "      <td>10</td>\n",
       "      <td>23</td>\n",
       "    </tr>\n",
       "    <tr>\n",
       "      <th>2</th>\n",
       "      <td>1975-07-06</td>\n",
       "      <td>1975</td>\n",
       "      <td>7</td>\n",
       "      <td>6</td>\n",
       "    </tr>\n",
       "    <tr>\n",
       "      <th>3</th>\n",
       "      <td>1996-08-21</td>\n",
       "      <td>1996</td>\n",
       "      <td>8</td>\n",
       "      <td>21</td>\n",
       "    </tr>\n",
       "    <tr>\n",
       "      <th>4</th>\n",
       "      <td>1999-01-23</td>\n",
       "      <td>1999</td>\n",
       "      <td>1</td>\n",
       "      <td>23</td>\n",
       "    </tr>\n",
       "  </tbody>\n",
       "</table>\n",
       "</div>"
      ],
      "text/plain": [
       "    birthday  birth-year  birth-month  birth-day\n",
       "0 1957-11-05        1957           11          5\n",
       "1 1983-10-23        1983           10         23\n",
       "2 1975-07-06        1975            7          6\n",
       "3 1996-08-21        1996            8         21\n",
       "4 1999-01-23        1999            1         23"
      ]
     },
     "execution_count": 8,
     "metadata": {},
     "output_type": "execute_result"
    }
   ],
   "source": [
    "# 생년월일 데이터타입 변환하기 \n",
    "chai[\"birthday\"] = pd.to_datetime(chai[\"birthday\"])\n",
    "\n",
    "chai[\"birth-year\"]= chai['birthday'].dt.year\n",
    "chai[\"birth-month\"]= chai['birthday'].dt.month\n",
    "chai[\"birth-day\"]= chai['birthday'].dt.day\n",
    "\n",
    "\n",
    "print(chai.shape)\n",
    "chai[[\"birthday\",\"birth-year\",\"birth-month\",\"birth-day\"]].head()"
   ]
  },
  {
   "cell_type": "code",
   "execution_count": 9,
   "id": "af45dc50",
   "metadata": {
    "ExecuteTime": {
     "end_time": "2022-07-30T06:45:03.621748Z",
     "start_time": "2022-07-30T06:45:02.308202Z"
    }
   },
   "outputs": [
    {
     "data": {
      "text/plain": [
       "5623805    45\n",
       "5623806    31\n",
       "5623807    35\n",
       "5623808    37\n",
       "5623809    33\n",
       "Name: age, dtype: int64"
      ]
     },
     "execution_count": 9,
     "metadata": {},
     "output_type": "execute_result"
    }
   ],
   "source": [
    "# age 컬럼 생성하기 (chai 마지막 데이터 날짜기준 2020년으로 설정)\n",
    "chai['age'] = 2020 - chai['birthday'].dt.year\n",
    "chai['age'].tail()"
   ]
  },
  {
   "cell_type": "code",
   "execution_count": null,
   "id": "f28922d6",
   "metadata": {},
   "outputs": [],
   "source": [
    "# age 이상치 8919건 (1900년 1월 생) 평균 나이값으로 채우기 "
   ]
  },
  {
   "cell_type": "code",
   "execution_count": 10,
   "id": "8cf22e06",
   "metadata": {
    "ExecuteTime": {
     "end_time": "2022-07-30T06:47:43.286178Z",
     "start_time": "2022-07-30T06:47:34.315928Z"
    }
   },
   "outputs": [
    {
     "data": {
      "text/html": [
       "<div>\n",
       "<style scoped>\n",
       "    .dataframe tbody tr th:only-of-type {\n",
       "        vertical-align: middle;\n",
       "    }\n",
       "\n",
       "    .dataframe tbody tr th {\n",
       "        vertical-align: top;\n",
       "    }\n",
       "\n",
       "    .dataframe thead th {\n",
       "        text-align: right;\n",
       "    }\n",
       "</style>\n",
       "<table border=\"1\" class=\"dataframe\">\n",
       "  <thead>\n",
       "    <tr style=\"text-align: right;\">\n",
       "      <th></th>\n",
       "      <th>customer_id</th>\n",
       "      <th>created_at</th>\n",
       "      <th>pre_discount</th>\n",
       "      <th>post_discount</th>\n",
       "      <th>cashback_amount</th>\n",
       "      <th>discount_amount</th>\n",
       "      <th>total_promotion</th>\n",
       "      <th>push_permission</th>\n",
       "      <th>gender</th>\n",
       "      <th>is_foreigner</th>\n",
       "      <th>...</th>\n",
       "      <th>merchant_id</th>\n",
       "      <th>created-year</th>\n",
       "      <th>created-month</th>\n",
       "      <th>created-day</th>\n",
       "      <th>created-hour</th>\n",
       "      <th>created-minute</th>\n",
       "      <th>birth-year</th>\n",
       "      <th>birth-month</th>\n",
       "      <th>birth-day</th>\n",
       "      <th>age</th>\n",
       "    </tr>\n",
       "  </thead>\n",
       "  <tbody>\n",
       "    <tr>\n",
       "      <th>5092</th>\n",
       "      <td>521724</td>\n",
       "      <td>2019-09-05 13:42:00.829</td>\n",
       "      <td>13500</td>\n",
       "      <td>12000</td>\n",
       "      <td>0</td>\n",
       "      <td>1500</td>\n",
       "      <td>1500</td>\n",
       "      <td>False</td>\n",
       "      <td>male</td>\n",
       "      <td>False</td>\n",
       "      <td>...</td>\n",
       "      <td>3</td>\n",
       "      <td>2019</td>\n",
       "      <td>9</td>\n",
       "      <td>5</td>\n",
       "      <td>13</td>\n",
       "      <td>42</td>\n",
       "      <td>1900</td>\n",
       "      <td>1</td>\n",
       "      <td>1</td>\n",
       "      <td>120</td>\n",
       "    </tr>\n",
       "    <tr>\n",
       "      <th>5340</th>\n",
       "      <td>494776</td>\n",
       "      <td>2019-09-18 10:06:26.595</td>\n",
       "      <td>16020</td>\n",
       "      <td>14240</td>\n",
       "      <td>0</td>\n",
       "      <td>1780</td>\n",
       "      <td>1780</td>\n",
       "      <td>False</td>\n",
       "      <td>male</td>\n",
       "      <td>False</td>\n",
       "      <td>...</td>\n",
       "      <td>9</td>\n",
       "      <td>2019</td>\n",
       "      <td>9</td>\n",
       "      <td>18</td>\n",
       "      <td>10</td>\n",
       "      <td>6</td>\n",
       "      <td>1900</td>\n",
       "      <td>1</td>\n",
       "      <td>1</td>\n",
       "      <td>120</td>\n",
       "    </tr>\n",
       "    <tr>\n",
       "      <th>5473</th>\n",
       "      <td>205950</td>\n",
       "      <td>2019-11-29 07:20:18.092</td>\n",
       "      <td>980</td>\n",
       "      <td>980</td>\n",
       "      <td>0</td>\n",
       "      <td>0</td>\n",
       "      <td>0</td>\n",
       "      <td>False</td>\n",
       "      <td>female</td>\n",
       "      <td>False</td>\n",
       "      <td>...</td>\n",
       "      <td>2</td>\n",
       "      <td>2019</td>\n",
       "      <td>11</td>\n",
       "      <td>29</td>\n",
       "      <td>7</td>\n",
       "      <td>20</td>\n",
       "      <td>1900</td>\n",
       "      <td>1</td>\n",
       "      <td>1</td>\n",
       "      <td>120</td>\n",
       "    </tr>\n",
       "    <tr>\n",
       "      <th>5475</th>\n",
       "      <td>539734</td>\n",
       "      <td>2019-08-27 16:52:43.181</td>\n",
       "      <td>12000</td>\n",
       "      <td>8000</td>\n",
       "      <td>0</td>\n",
       "      <td>4000</td>\n",
       "      <td>4000</td>\n",
       "      <td>False</td>\n",
       "      <td>female</td>\n",
       "      <td>False</td>\n",
       "      <td>...</td>\n",
       "      <td>1</td>\n",
       "      <td>2019</td>\n",
       "      <td>8</td>\n",
       "      <td>27</td>\n",
       "      <td>16</td>\n",
       "      <td>52</td>\n",
       "      <td>1900</td>\n",
       "      <td>1</td>\n",
       "      <td>1</td>\n",
       "      <td>120</td>\n",
       "    </tr>\n",
       "    <tr>\n",
       "      <th>6054</th>\n",
       "      <td>58827</td>\n",
       "      <td>2019-08-09 22:53:01.618</td>\n",
       "      <td>9000</td>\n",
       "      <td>8000</td>\n",
       "      <td>0</td>\n",
       "      <td>1000</td>\n",
       "      <td>1000</td>\n",
       "      <td>False</td>\n",
       "      <td>male</td>\n",
       "      <td>False</td>\n",
       "      <td>...</td>\n",
       "      <td>2</td>\n",
       "      <td>2019</td>\n",
       "      <td>8</td>\n",
       "      <td>9</td>\n",
       "      <td>22</td>\n",
       "      <td>53</td>\n",
       "      <td>1900</td>\n",
       "      <td>1</td>\n",
       "      <td>1</td>\n",
       "      <td>120</td>\n",
       "    </tr>\n",
       "    <tr>\n",
       "      <th>...</th>\n",
       "      <td>...</td>\n",
       "      <td>...</td>\n",
       "      <td>...</td>\n",
       "      <td>...</td>\n",
       "      <td>...</td>\n",
       "      <td>...</td>\n",
       "      <td>...</td>\n",
       "      <td>...</td>\n",
       "      <td>...</td>\n",
       "      <td>...</td>\n",
       "      <td>...</td>\n",
       "      <td>...</td>\n",
       "      <td>...</td>\n",
       "      <td>...</td>\n",
       "      <td>...</td>\n",
       "      <td>...</td>\n",
       "      <td>...</td>\n",
       "      <td>...</td>\n",
       "      <td>...</td>\n",
       "      <td>...</td>\n",
       "      <td>...</td>\n",
       "    </tr>\n",
       "    <tr>\n",
       "      <th>5620310</th>\n",
       "      <td>536831</td>\n",
       "      <td>2019-11-18 09:18:39.556</td>\n",
       "      <td>5049</td>\n",
       "      <td>4488</td>\n",
       "      <td>0</td>\n",
       "      <td>561</td>\n",
       "      <td>561</td>\n",
       "      <td>False</td>\n",
       "      <td>female</td>\n",
       "      <td>False</td>\n",
       "      <td>...</td>\n",
       "      <td>4</td>\n",
       "      <td>2019</td>\n",
       "      <td>11</td>\n",
       "      <td>18</td>\n",
       "      <td>9</td>\n",
       "      <td>18</td>\n",
       "      <td>1900</td>\n",
       "      <td>1</td>\n",
       "      <td>1</td>\n",
       "      <td>120</td>\n",
       "    </tr>\n",
       "    <tr>\n",
       "      <th>5620500</th>\n",
       "      <td>330938</td>\n",
       "      <td>2019-08-14 20:04:47.443</td>\n",
       "      <td>9300</td>\n",
       "      <td>5600</td>\n",
       "      <td>0</td>\n",
       "      <td>3700</td>\n",
       "      <td>3700</td>\n",
       "      <td>True</td>\n",
       "      <td>female</td>\n",
       "      <td>False</td>\n",
       "      <td>...</td>\n",
       "      <td>1</td>\n",
       "      <td>2019</td>\n",
       "      <td>8</td>\n",
       "      <td>14</td>\n",
       "      <td>20</td>\n",
       "      <td>4</td>\n",
       "      <td>1900</td>\n",
       "      <td>1</td>\n",
       "      <td>1</td>\n",
       "      <td>120</td>\n",
       "    </tr>\n",
       "    <tr>\n",
       "      <th>5621189</th>\n",
       "      <td>324042</td>\n",
       "      <td>2019-09-17 11:35:44.510</td>\n",
       "      <td>8010</td>\n",
       "      <td>7120</td>\n",
       "      <td>0</td>\n",
       "      <td>890</td>\n",
       "      <td>890</td>\n",
       "      <td>False</td>\n",
       "      <td>female</td>\n",
       "      <td>False</td>\n",
       "      <td>...</td>\n",
       "      <td>7</td>\n",
       "      <td>2019</td>\n",
       "      <td>9</td>\n",
       "      <td>17</td>\n",
       "      <td>11</td>\n",
       "      <td>35</td>\n",
       "      <td>1900</td>\n",
       "      <td>1</td>\n",
       "      <td>1</td>\n",
       "      <td>120</td>\n",
       "    </tr>\n",
       "    <tr>\n",
       "      <th>5621846</th>\n",
       "      <td>219625</td>\n",
       "      <td>2019-08-01 17:17:50.823</td>\n",
       "      <td>15000</td>\n",
       "      <td>7000</td>\n",
       "      <td>0</td>\n",
       "      <td>8000</td>\n",
       "      <td>8000</td>\n",
       "      <td>False</td>\n",
       "      <td>female</td>\n",
       "      <td>False</td>\n",
       "      <td>...</td>\n",
       "      <td>3</td>\n",
       "      <td>2019</td>\n",
       "      <td>8</td>\n",
       "      <td>1</td>\n",
       "      <td>17</td>\n",
       "      <td>17</td>\n",
       "      <td>1900</td>\n",
       "      <td>1</td>\n",
       "      <td>1</td>\n",
       "      <td>120</td>\n",
       "    </tr>\n",
       "    <tr>\n",
       "      <th>5622960</th>\n",
       "      <td>536831</td>\n",
       "      <td>2019-11-13 16:33:05.488</td>\n",
       "      <td>3492</td>\n",
       "      <td>3104</td>\n",
       "      <td>0</td>\n",
       "      <td>388</td>\n",
       "      <td>388</td>\n",
       "      <td>False</td>\n",
       "      <td>female</td>\n",
       "      <td>False</td>\n",
       "      <td>...</td>\n",
       "      <td>7</td>\n",
       "      <td>2019</td>\n",
       "      <td>11</td>\n",
       "      <td>13</td>\n",
       "      <td>16</td>\n",
       "      <td>33</td>\n",
       "      <td>1900</td>\n",
       "      <td>1</td>\n",
       "      <td>1</td>\n",
       "      <td>120</td>\n",
       "    </tr>\n",
       "  </tbody>\n",
       "</table>\n",
       "<p>8919 rows × 22 columns</p>\n",
       "</div>"
      ],
      "text/plain": [
       "         customer_id              created_at  pre_discount  post_discount  \\\n",
       "5092          521724 2019-09-05 13:42:00.829         13500          12000   \n",
       "5340          494776 2019-09-18 10:06:26.595         16020          14240   \n",
       "5473          205950 2019-11-29 07:20:18.092           980            980   \n",
       "5475          539734 2019-08-27 16:52:43.181         12000           8000   \n",
       "6054           58827 2019-08-09 22:53:01.618          9000           8000   \n",
       "...              ...                     ...           ...            ...   \n",
       "5620310       536831 2019-11-18 09:18:39.556          5049           4488   \n",
       "5620500       330938 2019-08-14 20:04:47.443          9300           5600   \n",
       "5621189       324042 2019-09-17 11:35:44.510          8010           7120   \n",
       "5621846       219625 2019-08-01 17:17:50.823         15000           7000   \n",
       "5622960       536831 2019-11-13 16:33:05.488          3492           3104   \n",
       "\n",
       "         cashback_amount  discount_amount  total_promotion  push_permission  \\\n",
       "5092                   0             1500             1500            False   \n",
       "5340                   0             1780             1780            False   \n",
       "5473                   0                0                0            False   \n",
       "5475                   0             4000             4000            False   \n",
       "6054                   0             1000             1000            False   \n",
       "...                  ...              ...              ...              ...   \n",
       "5620310                0              561              561            False   \n",
       "5620500                0             3700             3700             True   \n",
       "5621189                0              890              890            False   \n",
       "5621846                0             8000             8000            False   \n",
       "5622960                0              388              388            False   \n",
       "\n",
       "         gender  is_foreigner  ... merchant_id created-year  created-month  \\\n",
       "5092       male         False  ...           3         2019              9   \n",
       "5340       male         False  ...           9         2019              9   \n",
       "5473     female         False  ...           2         2019             11   \n",
       "5475     female         False  ...           1         2019              8   \n",
       "6054       male         False  ...           2         2019              8   \n",
       "...         ...           ...  ...         ...          ...            ...   \n",
       "5620310  female         False  ...           4         2019             11   \n",
       "5620500  female         False  ...           1         2019              8   \n",
       "5621189  female         False  ...           7         2019              9   \n",
       "5621846  female         False  ...           3         2019              8   \n",
       "5622960  female         False  ...           7         2019             11   \n",
       "\n",
       "         created-day  created-hour  created-minute  birth-year  birth-month  \\\n",
       "5092               5            13              42        1900            1   \n",
       "5340              18            10               6        1900            1   \n",
       "5473              29             7              20        1900            1   \n",
       "5475              27            16              52        1900            1   \n",
       "6054               9            22              53        1900            1   \n",
       "...              ...           ...             ...         ...          ...   \n",
       "5620310           18             9              18        1900            1   \n",
       "5620500           14            20               4        1900            1   \n",
       "5621189           17            11              35        1900            1   \n",
       "5621846            1            17              17        1900            1   \n",
       "5622960           13            16              33        1900            1   \n",
       "\n",
       "         birth-day  age  \n",
       "5092             1  120  \n",
       "5340             1  120  \n",
       "5473             1  120  \n",
       "5475             1  120  \n",
       "6054             1  120  \n",
       "...            ...  ...  \n",
       "5620310          1  120  \n",
       "5620500          1  120  \n",
       "5621189          1  120  \n",
       "5621846          1  120  \n",
       "5622960          1  120  \n",
       "\n",
       "[8919 rows x 22 columns]"
      ]
     },
     "execution_count": 10,
     "metadata": {},
     "output_type": "execute_result"
    }
   ],
   "source": [
    "chai[chai['age']>100]"
   ]
  },
  {
   "cell_type": "code",
   "execution_count": 77,
   "id": "eef50191",
   "metadata": {
    "ExecuteTime": {
     "end_time": "2022-05-09T05:34:46.946530Z",
     "start_time": "2022-05-09T05:34:46.472595Z"
    }
   },
   "outputs": [
    {
     "data": {
      "text/plain": [
       "39.34893604158035"
      ]
     },
     "execution_count": 77,
     "metadata": {},
     "output_type": "execute_result"
    }
   ],
   "source": [
    "chai['age'].mean()"
   ]
  },
  {
   "cell_type": "code",
   "execution_count": 86,
   "id": "919c510c",
   "metadata": {
    "ExecuteTime": {
     "end_time": "2022-05-09T05:41:50.692439Z",
     "start_time": "2022-05-09T05:41:47.777974Z"
    }
   },
   "outputs": [],
   "source": [
    "chai.loc[chai['birth-year'] == 1900, 'age'] = chai['age'].mean()"
   ]
  },
  {
   "cell_type": "code",
   "execution_count": null,
   "id": "ec4b4a2f",
   "metadata": {},
   "outputs": [],
   "source": [
    "# 또는 이상치 제거하기 \n",
    "old_outlier= chai[chai['age'] > 100].index\n",
    "chai.drop(old_outlier,inplace=True)\n",
    "chai.head()"
   ]
  },
  {
   "cell_type": "code",
   "execution_count": 10,
   "id": "b095ef92",
   "metadata": {
    "ExecuteTime": {
     "end_time": "2022-05-18T01:53:34.200188Z",
     "start_time": "2022-05-18T01:53:33.933187Z"
    },
    "scrolled": true
   },
   "outputs": [
    {
     "data": {
      "text/html": [
       "<div>\n",
       "<style scoped>\n",
       "    .dataframe tbody tr th:only-of-type {\n",
       "        vertical-align: middle;\n",
       "    }\n",
       "\n",
       "    .dataframe tbody tr th {\n",
       "        vertical-align: top;\n",
       "    }\n",
       "\n",
       "    .dataframe thead th {\n",
       "        text-align: right;\n",
       "    }\n",
       "</style>\n",
       "<table border=\"1\" class=\"dataframe\">\n",
       "  <thead>\n",
       "    <tr style=\"text-align: right;\">\n",
       "      <th></th>\n",
       "      <th>customer_id</th>\n",
       "      <th>created_at</th>\n",
       "      <th>pre_discount</th>\n",
       "      <th>post_discount</th>\n",
       "      <th>cashback_amount</th>\n",
       "      <th>discount_amount</th>\n",
       "      <th>total_promotion</th>\n",
       "      <th>push_permission</th>\n",
       "      <th>gender</th>\n",
       "      <th>is_foreigner</th>\n",
       "      <th>...</th>\n",
       "      <th>merchant_id</th>\n",
       "      <th>created-year</th>\n",
       "      <th>created-month</th>\n",
       "      <th>created-day</th>\n",
       "      <th>created-hour</th>\n",
       "      <th>created-minute</th>\n",
       "      <th>birth-year</th>\n",
       "      <th>birth-month</th>\n",
       "      <th>birth-day</th>\n",
       "      <th>age</th>\n",
       "    </tr>\n",
       "  </thead>\n",
       "  <tbody>\n",
       "  </tbody>\n",
       "</table>\n",
       "<p>0 rows × 22 columns</p>\n",
       "</div>"
      ],
      "text/plain": [
       "Empty DataFrame\n",
       "Columns: [customer_id, created_at, pre_discount, post_discount, cashback_amount, discount_amount, total_promotion, push_permission, gender, is_foreigner, birthday, sign_up_date, merchant_id, created-year, created-month, created-day, created-hour, created-minute, birth-year, birth-month, birth-day, age]\n",
       "Index: []\n",
       "\n",
       "[0 rows x 22 columns]"
      ]
     },
     "execution_count": 10,
     "metadata": {},
     "output_type": "execute_result"
    }
   ],
   "source": [
    "chai[chai['age']>100]"
   ]
  },
  {
   "cell_type": "code",
   "execution_count": 29,
   "id": "ad4664c7",
   "metadata": {
    "ExecuteTime": {
     "end_time": "2022-07-30T09:02:04.996350Z",
     "start_time": "2022-07-30T09:02:00.242038Z"
    }
   },
   "outputs": [
    {
     "name": "stdout",
     "output_type": "stream",
     "text": [
      "(5623810, 26)\n"
     ]
    },
    {
     "data": {
      "text/html": [
       "<div>\n",
       "<style scoped>\n",
       "    .dataframe tbody tr th:only-of-type {\n",
       "        vertical-align: middle;\n",
       "    }\n",
       "\n",
       "    .dataframe tbody tr th {\n",
       "        vertical-align: top;\n",
       "    }\n",
       "\n",
       "    .dataframe thead th {\n",
       "        text-align: right;\n",
       "    }\n",
       "</style>\n",
       "<table border=\"1\" class=\"dataframe\">\n",
       "  <thead>\n",
       "    <tr style=\"text-align: right;\">\n",
       "      <th></th>\n",
       "      <th>sign_up_date</th>\n",
       "      <th>signup-year</th>\n",
       "      <th>signup-month</th>\n",
       "      <th>signup-day</th>\n",
       "      <th>signup-hour</th>\n",
       "    </tr>\n",
       "  </thead>\n",
       "  <tbody>\n",
       "    <tr>\n",
       "      <th>0</th>\n",
       "      <td>2019-11-30 16:48:19.339</td>\n",
       "      <td>2019</td>\n",
       "      <td>11</td>\n",
       "      <td>30</td>\n",
       "      <td>16</td>\n",
       "    </tr>\n",
       "    <tr>\n",
       "      <th>1</th>\n",
       "      <td>2019-07-09 08:21:14.098</td>\n",
       "      <td>2019</td>\n",
       "      <td>7</td>\n",
       "      <td>9</td>\n",
       "      <td>8</td>\n",
       "    </tr>\n",
       "    <tr>\n",
       "      <th>2</th>\n",
       "      <td>2019-08-15 01:02:13.336</td>\n",
       "      <td>2019</td>\n",
       "      <td>8</td>\n",
       "      <td>15</td>\n",
       "      <td>1</td>\n",
       "    </tr>\n",
       "    <tr>\n",
       "      <th>3</th>\n",
       "      <td>2019-08-06 02:09:28.712</td>\n",
       "      <td>2019</td>\n",
       "      <td>8</td>\n",
       "      <td>6</td>\n",
       "      <td>2</td>\n",
       "    </tr>\n",
       "    <tr>\n",
       "      <th>4</th>\n",
       "      <td>2020-03-12 00:33:46.147</td>\n",
       "      <td>2020</td>\n",
       "      <td>3</td>\n",
       "      <td>12</td>\n",
       "      <td>0</td>\n",
       "    </tr>\n",
       "  </tbody>\n",
       "</table>\n",
       "</div>"
      ],
      "text/plain": [
       "             sign_up_date  signup-year  signup-month  signup-day  signup-hour\n",
       "0 2019-11-30 16:48:19.339         2019            11          30           16\n",
       "1 2019-07-09 08:21:14.098         2019             7           9            8\n",
       "2 2019-08-15 01:02:13.336         2019             8          15            1\n",
       "3 2019-08-06 02:09:28.712         2019             8           6            2\n",
       "4 2020-03-12 00:33:46.147         2020             3          12            0"
      ]
     },
     "execution_count": 29,
     "metadata": {},
     "output_type": "execute_result"
    }
   ],
   "source": [
    "# 가입일 데이터타입 변환하기 \n",
    "chai[\"sign_up_date\"] = pd.to_datetime(chai[\"sign_up_date\"])\n",
    "\n",
    "chai[\"signup-year\"]= chai['sign_up_date'].dt.year\n",
    "chai[\"signup-month\"]= chai['sign_up_date'].dt.month\n",
    "chai[\"signup-day\"]= chai['sign_up_date'].dt.day\n",
    "chai[\"signup-hour\"]= chai['sign_up_date'].dt.hour\n",
    "\n",
    "\n",
    "print(chai.shape)\n",
    "chai[[\"sign_up_date\",\"signup-year\",\"signup-month\",\"signup-day\",\"signup-hour\"]].head()"
   ]
  },
  {
   "cell_type": "markdown",
   "id": "aaadecee",
   "metadata": {},
   "source": [
    "### 분석"
   ]
  },
  {
   "cell_type": "markdown",
   "id": "2ee11b01",
   "metadata": {
    "ExecuteTime": {
     "end_time": "2022-05-11T09:14:17.177958Z",
     "start_time": "2022-05-11T09:14:17.138899Z"
    }
   },
   "source": [
    "> 궁금 : 가입 후 첫 구매가 평균 며칠 이내에 이루어졌는지 \n",
    ">> 가설 : 가입후 일주일내 첫구매가 이뤄질 것이다 but 평균 25.67일소요 → 첫 구매를 앞당기기 위해 혜택을 늘리거나 알람?\n",
    "  >>> 이상치 5,6,7월 제거후 평균 4일 → but 10월가입자 평균 9일소요. 왜? 프로모션 개선 필요?"
   ]
  },
  {
   "cell_type": "code",
   "execution_count": 9,
   "id": "a302d68d",
   "metadata": {
    "ExecuteTime": {
     "end_time": "2022-05-19T05:20:02.288010Z",
     "start_time": "2022-05-19T05:19:59.295997Z"
    }
   },
   "outputs": [],
   "source": [
    "# 아이디별 최초주문일 컬럼 만들기 \n",
    "customer_group = chai.groupby('customer_id')['created_at']\n",
    "chai['first_created'] = customer_group.transform(np.min)"
   ]
  },
  {
   "cell_type": "code",
   "execution_count": 12,
   "id": "c5fda156",
   "metadata": {
    "ExecuteTime": {
     "end_time": "2022-05-19T05:21:03.581106Z",
     "start_time": "2022-05-19T05:21:03.452107Z"
    }
   },
   "outputs": [],
   "source": [
    "# 최초주문일 컬럼을 todatetime으로 변경하기 \n",
    "chai[\"first_created\"] = pd.to_datetime(chai[\"first_created\"])"
   ]
  },
  {
   "cell_type": "code",
   "execution_count": null,
   "id": "7ebfd34f",
   "metadata": {
    "ExecuteTime": {
     "end_time": "2022-05-19T05:20:38.041890Z",
     "start_time": "2022-05-19T05:20:31.077831Z"
    }
   },
   "outputs": [],
   "source": [
    "# 가입월자 5,6,7월 데이터 드롭\n",
    "\n",
    "nodata = chai[(chai['sign_up_date'].dt.month >= 5) & (chai['sign_up_date'].dt.month <= 7) ].index "
   ]
  },
  {
   "cell_type": "code",
   "execution_count": 15,
   "id": "d950f543",
   "metadata": {
    "ExecuteTime": {
     "end_time": "2022-05-19T05:22:24.744424Z",
     "start_time": "2022-05-19T05:22:14.110842Z"
    }
   },
   "outputs": [
    {
     "data": {
      "text/html": [
       "<div>\n",
       "<style scoped>\n",
       "    .dataframe tbody tr th:only-of-type {\n",
       "        vertical-align: middle;\n",
       "    }\n",
       "\n",
       "    .dataframe tbody tr th {\n",
       "        vertical-align: top;\n",
       "    }\n",
       "\n",
       "    .dataframe thead th {\n",
       "        text-align: right;\n",
       "    }\n",
       "</style>\n",
       "<table border=\"1\" class=\"dataframe\">\n",
       "  <thead>\n",
       "    <tr style=\"text-align: right;\">\n",
       "      <th></th>\n",
       "      <th>customer_id</th>\n",
       "      <th>created_at</th>\n",
       "      <th>pre_discount</th>\n",
       "      <th>post_discount</th>\n",
       "      <th>cashback_amount</th>\n",
       "      <th>discount_amount</th>\n",
       "      <th>total_promotion</th>\n",
       "      <th>push_permission</th>\n",
       "      <th>gender</th>\n",
       "      <th>is_foreigner</th>\n",
       "      <th>...</th>\n",
       "      <th>created-minute</th>\n",
       "      <th>birth-year</th>\n",
       "      <th>birth-month</th>\n",
       "      <th>birth-day</th>\n",
       "      <th>age</th>\n",
       "      <th>signup-year</th>\n",
       "      <th>signup-month</th>\n",
       "      <th>signup-day</th>\n",
       "      <th>signup-hour</th>\n",
       "      <th>first_created</th>\n",
       "    </tr>\n",
       "  </thead>\n",
       "  <tbody>\n",
       "    <tr>\n",
       "      <th>1</th>\n",
       "      <td>95246</td>\n",
       "      <td>2020-03-12 09:41:09.845</td>\n",
       "      <td>12900</td>\n",
       "      <td>12900</td>\n",
       "      <td>387</td>\n",
       "      <td>0</td>\n",
       "      <td>387</td>\n",
       "      <td>True</td>\n",
       "      <td>female</td>\n",
       "      <td>False</td>\n",
       "      <td>...</td>\n",
       "      <td>41</td>\n",
       "      <td>1983</td>\n",
       "      <td>10</td>\n",
       "      <td>23</td>\n",
       "      <td>37</td>\n",
       "      <td>2019</td>\n",
       "      <td>7</td>\n",
       "      <td>9</td>\n",
       "      <td>8</td>\n",
       "      <td>2020-01-02 11:22:49.008</td>\n",
       "    </tr>\n",
       "    <tr>\n",
       "      <th>5</th>\n",
       "      <td>542961</td>\n",
       "      <td>2020-03-02 19:32:27.893</td>\n",
       "      <td>30900</td>\n",
       "      <td>30900</td>\n",
       "      <td>927</td>\n",
       "      <td>0</td>\n",
       "      <td>927</td>\n",
       "      <td>False</td>\n",
       "      <td>female</td>\n",
       "      <td>False</td>\n",
       "      <td>...</td>\n",
       "      <td>32</td>\n",
       "      <td>1979</td>\n",
       "      <td>8</td>\n",
       "      <td>12</td>\n",
       "      <td>41</td>\n",
       "      <td>2019</td>\n",
       "      <td>6</td>\n",
       "      <td>27</td>\n",
       "      <td>11</td>\n",
       "      <td>2019-10-23 14:37:11.456</td>\n",
       "    </tr>\n",
       "    <tr>\n",
       "      <th>6</th>\n",
       "      <td>31330</td>\n",
       "      <td>2020-01-07 21:03:33.007</td>\n",
       "      <td>32100</td>\n",
       "      <td>31100</td>\n",
       "      <td>1605</td>\n",
       "      <td>1000</td>\n",
       "      <td>2605</td>\n",
       "      <td>True</td>\n",
       "      <td>female</td>\n",
       "      <td>False</td>\n",
       "      <td>...</td>\n",
       "      <td>3</td>\n",
       "      <td>1974</td>\n",
       "      <td>2</td>\n",
       "      <td>16</td>\n",
       "      <td>46</td>\n",
       "      <td>2019</td>\n",
       "      <td>6</td>\n",
       "      <td>19</td>\n",
       "      <td>10</td>\n",
       "      <td>2019-08-01 09:07:32.901</td>\n",
       "    </tr>\n",
       "    <tr>\n",
       "      <th>8</th>\n",
       "      <td>524243</td>\n",
       "      <td>2020-03-23 15:55:17.518</td>\n",
       "      <td>15900</td>\n",
       "      <td>13900</td>\n",
       "      <td>318</td>\n",
       "      <td>2000</td>\n",
       "      <td>2318</td>\n",
       "      <td>True</td>\n",
       "      <td>female</td>\n",
       "      <td>False</td>\n",
       "      <td>...</td>\n",
       "      <td>55</td>\n",
       "      <td>1987</td>\n",
       "      <td>7</td>\n",
       "      <td>20</td>\n",
       "      <td>33</td>\n",
       "      <td>2019</td>\n",
       "      <td>7</td>\n",
       "      <td>22</td>\n",
       "      <td>21</td>\n",
       "      <td>2019-08-01 13:32:38.485</td>\n",
       "    </tr>\n",
       "    <tr>\n",
       "      <th>11</th>\n",
       "      <td>201742</td>\n",
       "      <td>2020-03-30 07:41:55.693</td>\n",
       "      <td>16660</td>\n",
       "      <td>16660</td>\n",
       "      <td>499</td>\n",
       "      <td>0</td>\n",
       "      <td>499</td>\n",
       "      <td>True</td>\n",
       "      <td>female</td>\n",
       "      <td>False</td>\n",
       "      <td>...</td>\n",
       "      <td>41</td>\n",
       "      <td>1990</td>\n",
       "      <td>3</td>\n",
       "      <td>12</td>\n",
       "      <td>30</td>\n",
       "      <td>2019</td>\n",
       "      <td>7</td>\n",
       "      <td>16</td>\n",
       "      <td>22</td>\n",
       "      <td>2019-08-05 08:24:36.840</td>\n",
       "    </tr>\n",
       "    <tr>\n",
       "      <th>...</th>\n",
       "      <td>...</td>\n",
       "      <td>...</td>\n",
       "      <td>...</td>\n",
       "      <td>...</td>\n",
       "      <td>...</td>\n",
       "      <td>...</td>\n",
       "      <td>...</td>\n",
       "      <td>...</td>\n",
       "      <td>...</td>\n",
       "      <td>...</td>\n",
       "      <td>...</td>\n",
       "      <td>...</td>\n",
       "      <td>...</td>\n",
       "      <td>...</td>\n",
       "      <td>...</td>\n",
       "      <td>...</td>\n",
       "      <td>...</td>\n",
       "      <td>...</td>\n",
       "      <td>...</td>\n",
       "      <td>...</td>\n",
       "      <td>...</td>\n",
       "    </tr>\n",
       "    <tr>\n",
       "      <th>5623803</th>\n",
       "      <td>272949</td>\n",
       "      <td>2020-01-14 10:00:48.964</td>\n",
       "      <td>11900</td>\n",
       "      <td>10900</td>\n",
       "      <td>0</td>\n",
       "      <td>1000</td>\n",
       "      <td>1000</td>\n",
       "      <td>False</td>\n",
       "      <td>female</td>\n",
       "      <td>False</td>\n",
       "      <td>...</td>\n",
       "      <td>0</td>\n",
       "      <td>1984</td>\n",
       "      <td>6</td>\n",
       "      <td>3</td>\n",
       "      <td>36</td>\n",
       "      <td>2019</td>\n",
       "      <td>6</td>\n",
       "      <td>17</td>\n",
       "      <td>11</td>\n",
       "      <td>2019-08-01 09:25:08.697</td>\n",
       "    </tr>\n",
       "    <tr>\n",
       "      <th>5623804</th>\n",
       "      <td>77185</td>\n",
       "      <td>2019-12-06 10:02:27.436</td>\n",
       "      <td>13200</td>\n",
       "      <td>12200</td>\n",
       "      <td>0</td>\n",
       "      <td>1000</td>\n",
       "      <td>1000</td>\n",
       "      <td>False</td>\n",
       "      <td>female</td>\n",
       "      <td>False</td>\n",
       "      <td>...</td>\n",
       "      <td>2</td>\n",
       "      <td>1985</td>\n",
       "      <td>9</td>\n",
       "      <td>23</td>\n",
       "      <td>35</td>\n",
       "      <td>2019</td>\n",
       "      <td>6</td>\n",
       "      <td>14</td>\n",
       "      <td>20</td>\n",
       "      <td>2019-08-02 22:32:36.469</td>\n",
       "    </tr>\n",
       "    <tr>\n",
       "      <th>5623805</th>\n",
       "      <td>434398</td>\n",
       "      <td>2019-12-12 07:48:51.491</td>\n",
       "      <td>7547</td>\n",
       "      <td>7547</td>\n",
       "      <td>0</td>\n",
       "      <td>0</td>\n",
       "      <td>0</td>\n",
       "      <td>True</td>\n",
       "      <td>female</td>\n",
       "      <td>False</td>\n",
       "      <td>...</td>\n",
       "      <td>48</td>\n",
       "      <td>1975</td>\n",
       "      <td>2</td>\n",
       "      <td>6</td>\n",
       "      <td>45</td>\n",
       "      <td>2019</td>\n",
       "      <td>6</td>\n",
       "      <td>17</td>\n",
       "      <td>11</td>\n",
       "      <td>2019-08-01 11:54:13.514</td>\n",
       "    </tr>\n",
       "    <tr>\n",
       "      <th>5623808</th>\n",
       "      <td>430962</td>\n",
       "      <td>2019-10-01 03:32:17.435</td>\n",
       "      <td>15921</td>\n",
       "      <td>14152</td>\n",
       "      <td>0</td>\n",
       "      <td>1769</td>\n",
       "      <td>1769</td>\n",
       "      <td>False</td>\n",
       "      <td>male</td>\n",
       "      <td>False</td>\n",
       "      <td>...</td>\n",
       "      <td>32</td>\n",
       "      <td>1983</td>\n",
       "      <td>7</td>\n",
       "      <td>25</td>\n",
       "      <td>37</td>\n",
       "      <td>2019</td>\n",
       "      <td>6</td>\n",
       "      <td>20</td>\n",
       "      <td>0</td>\n",
       "      <td>2019-08-01 10:10:04.725</td>\n",
       "    </tr>\n",
       "    <tr>\n",
       "      <th>5623809</th>\n",
       "      <td>246136</td>\n",
       "      <td>2019-11-07 11:33:34.230</td>\n",
       "      <td>6750</td>\n",
       "      <td>6000</td>\n",
       "      <td>0</td>\n",
       "      <td>750</td>\n",
       "      <td>750</td>\n",
       "      <td>True</td>\n",
       "      <td>female</td>\n",
       "      <td>False</td>\n",
       "      <td>...</td>\n",
       "      <td>33</td>\n",
       "      <td>1987</td>\n",
       "      <td>8</td>\n",
       "      <td>20</td>\n",
       "      <td>33</td>\n",
       "      <td>2019</td>\n",
       "      <td>7</td>\n",
       "      <td>16</td>\n",
       "      <td>5</td>\n",
       "      <td>2019-09-02 12:52:10.496</td>\n",
       "    </tr>\n",
       "  </tbody>\n",
       "</table>\n",
       "<p>2882800 rows × 27 columns</p>\n",
       "</div>"
      ],
      "text/plain": [
       "         customer_id              created_at  pre_discount  post_discount  \\\n",
       "1              95246 2020-03-12 09:41:09.845         12900          12900   \n",
       "5             542961 2020-03-02 19:32:27.893         30900          30900   \n",
       "6              31330 2020-01-07 21:03:33.007         32100          31100   \n",
       "8             524243 2020-03-23 15:55:17.518         15900          13900   \n",
       "11            201742 2020-03-30 07:41:55.693         16660          16660   \n",
       "...              ...                     ...           ...            ...   \n",
       "5623803       272949 2020-01-14 10:00:48.964         11900          10900   \n",
       "5623804        77185 2019-12-06 10:02:27.436         13200          12200   \n",
       "5623805       434398 2019-12-12 07:48:51.491          7547           7547   \n",
       "5623808       430962 2019-10-01 03:32:17.435         15921          14152   \n",
       "5623809       246136 2019-11-07 11:33:34.230          6750           6000   \n",
       "\n",
       "         cashback_amount  discount_amount  total_promotion  push_permission  \\\n",
       "1                    387                0              387             True   \n",
       "5                    927                0              927            False   \n",
       "6                   1605             1000             2605             True   \n",
       "8                    318             2000             2318             True   \n",
       "11                   499                0              499             True   \n",
       "...                  ...              ...              ...              ...   \n",
       "5623803                0             1000             1000            False   \n",
       "5623804                0             1000             1000            False   \n",
       "5623805                0                0                0             True   \n",
       "5623808                0             1769             1769            False   \n",
       "5623809                0              750              750             True   \n",
       "\n",
       "         gender  is_foreigner  ... created-minute birth-year  birth-month  \\\n",
       "1        female         False  ...             41       1983           10   \n",
       "5        female         False  ...             32       1979            8   \n",
       "6        female         False  ...              3       1974            2   \n",
       "8        female         False  ...             55       1987            7   \n",
       "11       female         False  ...             41       1990            3   \n",
       "...         ...           ...  ...            ...        ...          ...   \n",
       "5623803  female         False  ...              0       1984            6   \n",
       "5623804  female         False  ...              2       1985            9   \n",
       "5623805  female         False  ...             48       1975            2   \n",
       "5623808    male         False  ...             32       1983            7   \n",
       "5623809  female         False  ...             33       1987            8   \n",
       "\n",
       "         birth-day  age  signup-year  signup-month  signup-day  signup-hour  \\\n",
       "1               23   37         2019             7           9            8   \n",
       "5               12   41         2019             6          27           11   \n",
       "6               16   46         2019             6          19           10   \n",
       "8               20   33         2019             7          22           21   \n",
       "11              12   30         2019             7          16           22   \n",
       "...            ...  ...          ...           ...         ...          ...   \n",
       "5623803          3   36         2019             6          17           11   \n",
       "5623804         23   35         2019             6          14           20   \n",
       "5623805          6   45         2019             6          17           11   \n",
       "5623808         25   37         2019             6          20            0   \n",
       "5623809         20   33         2019             7          16            5   \n",
       "\n",
       "                  first_created  \n",
       "1       2020-01-02 11:22:49.008  \n",
       "5       2019-10-23 14:37:11.456  \n",
       "6       2019-08-01 09:07:32.901  \n",
       "8       2019-08-01 13:32:38.485  \n",
       "11      2019-08-05 08:24:36.840  \n",
       "...                         ...  \n",
       "5623803 2019-08-01 09:25:08.697  \n",
       "5623804 2019-08-02 22:32:36.469  \n",
       "5623805 2019-08-01 11:54:13.514  \n",
       "5623808 2019-08-01 10:10:04.725  \n",
       "5623809 2019-09-02 12:52:10.496  \n",
       "\n",
       "[2882800 rows x 27 columns]"
      ]
     },
     "execution_count": 15,
     "metadata": {},
     "output_type": "execute_result"
    }
   ],
   "source": [
    "chai[(chai['sign_up_date'].dt.month >= 5) & (chai['sign_up_date'].dt.month <= 7)]"
   ]
  },
  {
   "cell_type": "code",
   "execution_count": null,
   "id": "0d9ddfc3",
   "metadata": {},
   "outputs": [],
   "source": [
    "chai.drop(nodata,inplace=True)"
   ]
  },
  {
   "cell_type": "code",
   "execution_count": 21,
   "id": "c748814f",
   "metadata": {
    "ExecuteTime": {
     "end_time": "2022-05-11T10:57:16.596459Z",
     "start_time": "2022-05-11T10:57:16.268748Z"
    }
   },
   "outputs": [
    {
     "data": {
      "text/html": [
       "<div>\n",
       "<style scoped>\n",
       "    .dataframe tbody tr th:only-of-type {\n",
       "        vertical-align: middle;\n",
       "    }\n",
       "\n",
       "    .dataframe tbody tr th {\n",
       "        vertical-align: top;\n",
       "    }\n",
       "\n",
       "    .dataframe thead th {\n",
       "        text-align: right;\n",
       "    }\n",
       "</style>\n",
       "<table border=\"1\" class=\"dataframe\">\n",
       "  <thead>\n",
       "    <tr style=\"text-align: right;\">\n",
       "      <th></th>\n",
       "      <th>diff</th>\n",
       "    </tr>\n",
       "  </thead>\n",
       "  <tbody>\n",
       "    <tr>\n",
       "      <th>0</th>\n",
       "      <td>1 days 07:59:34.269000</td>\n",
       "    </tr>\n",
       "    <tr>\n",
       "      <th>2</th>\n",
       "      <td>0 days 00:02:40.414000</td>\n",
       "    </tr>\n",
       "    <tr>\n",
       "      <th>3</th>\n",
       "      <td>20 days 05:19:25.512000</td>\n",
       "    </tr>\n",
       "    <tr>\n",
       "      <th>4</th>\n",
       "      <td>-1 days +23:58:51.408000</td>\n",
       "    </tr>\n",
       "    <tr>\n",
       "      <th>7</th>\n",
       "      <td>0 days 00:01:56.611000</td>\n",
       "    </tr>\n",
       "  </tbody>\n",
       "</table>\n",
       "</div>"
      ],
      "text/plain": [
       "                      diff\n",
       "0   1 days 07:59:34.269000\n",
       "2   0 days 00:02:40.414000\n",
       "3  20 days 05:19:25.512000\n",
       "4 -1 days +23:58:51.408000\n",
       "7   0 days 00:01:56.611000"
      ]
     },
     "execution_count": 21,
     "metadata": {},
     "output_type": "execute_result"
    }
   ],
   "source": [
    "# 가입일과 최초주문일 간 날짜차이 컬럼을 만들기\n",
    "chai['diff'] = chai['first_created'] - chai['sign_up_date']\n",
    "chai[['diff']].head()"
   ]
  },
  {
   "cell_type": "code",
   "execution_count": 22,
   "id": "11116845",
   "metadata": {
    "ExecuteTime": {
     "end_time": "2022-05-11T10:58:36.692767Z",
     "start_time": "2022-05-11T10:58:35.529464Z"
    }
   },
   "outputs": [
    {
     "data": {
      "text/html": [
       "<div>\n",
       "<style scoped>\n",
       "    .dataframe tbody tr th:only-of-type {\n",
       "        vertical-align: middle;\n",
       "    }\n",
       "\n",
       "    .dataframe tbody tr th {\n",
       "        vertical-align: top;\n",
       "    }\n",
       "\n",
       "    .dataframe thead th {\n",
       "        text-align: right;\n",
       "    }\n",
       "</style>\n",
       "<table border=\"1\" class=\"dataframe\">\n",
       "  <thead>\n",
       "    <tr style=\"text-align: right;\">\n",
       "      <th></th>\n",
       "      <th>diff</th>\n",
       "    </tr>\n",
       "  </thead>\n",
       "  <tbody>\n",
       "    <tr>\n",
       "      <th>0</th>\n",
       "      <td>1</td>\n",
       "    </tr>\n",
       "    <tr>\n",
       "      <th>2</th>\n",
       "      <td>0</td>\n",
       "    </tr>\n",
       "    <tr>\n",
       "      <th>3</th>\n",
       "      <td>20</td>\n",
       "    </tr>\n",
       "    <tr>\n",
       "      <th>4</th>\n",
       "      <td>-1</td>\n",
       "    </tr>\n",
       "    <tr>\n",
       "      <th>7</th>\n",
       "      <td>0</td>\n",
       "    </tr>\n",
       "  </tbody>\n",
       "</table>\n",
       "</div>"
      ],
      "text/plain": [
       "   diff\n",
       "0     1\n",
       "2     0\n",
       "3    20\n",
       "4    -1\n",
       "7     0"
      ]
     },
     "execution_count": 22,
     "metadata": {},
     "output_type": "execute_result"
    }
   ],
   "source": [
    "# timedelta 데이터를 int 형식으로 변환\n",
    "chai['diff'] = chai['diff'].dt.days\n",
    "chai[['diff']].head()"
   ]
  },
  {
   "cell_type": "code",
   "execution_count": 23,
   "id": "8b49b9b6",
   "metadata": {
    "ExecuteTime": {
     "end_time": "2022-05-11T10:59:04.440239Z",
     "start_time": "2022-05-11T10:59:03.635747Z"
    }
   },
   "outputs": [
    {
     "data": {
      "text/html": [
       "<div>\n",
       "<style scoped>\n",
       "    .dataframe tbody tr th:only-of-type {\n",
       "        vertical-align: middle;\n",
       "    }\n",
       "\n",
       "    .dataframe tbody tr th {\n",
       "        vertical-align: top;\n",
       "    }\n",
       "\n",
       "    .dataframe thead th {\n",
       "        text-align: right;\n",
       "    }\n",
       "</style>\n",
       "<table border=\"1\" class=\"dataframe\">\n",
       "  <thead>\n",
       "    <tr style=\"text-align: right;\">\n",
       "      <th></th>\n",
       "      <th>diff</th>\n",
       "    </tr>\n",
       "    <tr>\n",
       "      <th>gender</th>\n",
       "      <th></th>\n",
       "    </tr>\n",
       "  </thead>\n",
       "  <tbody>\n",
       "    <tr>\n",
       "      <th>female</th>\n",
       "      <td>4.202807</td>\n",
       "    </tr>\n",
       "    <tr>\n",
       "      <th>male</th>\n",
       "      <td>5.263625</td>\n",
       "    </tr>\n",
       "  </tbody>\n",
       "</table>\n",
       "</div>"
      ],
      "text/plain": [
       "            diff\n",
       "gender          \n",
       "female  4.202807\n",
       "male    5.263625"
      ]
     },
     "execution_count": 23,
     "metadata": {},
     "output_type": "execute_result"
    }
   ],
   "source": [
    "# gender와 첫구매까지 날짜차이에 상관이 있을까? \n",
    "# 남성이 첫구매까지 1일 더 늦음 -> 유의미한가는 잘 모르겠다.\n",
    "\n",
    "pd.pivot_table(chai,index=\"gender\", values =\"diff\")"
   ]
  },
  {
   "cell_type": "code",
   "execution_count": 24,
   "id": "066b12f0",
   "metadata": {
    "ExecuteTime": {
     "end_time": "2022-05-11T10:59:08.717378Z",
     "start_time": "2022-05-11T10:59:08.390004Z"
    }
   },
   "outputs": [
    {
     "data": {
      "text/html": [
       "<div>\n",
       "<style scoped>\n",
       "    .dataframe tbody tr th:only-of-type {\n",
       "        vertical-align: middle;\n",
       "    }\n",
       "\n",
       "    .dataframe tbody tr th {\n",
       "        vertical-align: top;\n",
       "    }\n",
       "\n",
       "    .dataframe thead th {\n",
       "        text-align: right;\n",
       "    }\n",
       "</style>\n",
       "<table border=\"1\" class=\"dataframe\">\n",
       "  <thead>\n",
       "    <tr style=\"text-align: right;\">\n",
       "      <th></th>\n",
       "      <th>diff</th>\n",
       "    </tr>\n",
       "    <tr>\n",
       "      <th>is_foreigner</th>\n",
       "      <th></th>\n",
       "    </tr>\n",
       "  </thead>\n",
       "  <tbody>\n",
       "    <tr>\n",
       "      <th>False</th>\n",
       "      <td>4.563504</td>\n",
       "    </tr>\n",
       "    <tr>\n",
       "      <th>True</th>\n",
       "      <td>3.316160</td>\n",
       "    </tr>\n",
       "  </tbody>\n",
       "</table>\n",
       "</div>"
      ],
      "text/plain": [
       "                  diff\n",
       "is_foreigner          \n",
       "False         4.563504\n",
       "True          3.316160"
      ]
     },
     "execution_count": 24,
     "metadata": {},
     "output_type": "execute_result"
    }
   ],
   "source": [
    "# 외국인이 첫구매까지 1일 더 빠름 -> 왜? \n",
    "# 하루차이가 유의미하다고 볼 수 있는 근거는? \n",
    "\n",
    "pd.pivot_table(chai,index=\"is_foreigner\", values =\"diff\")"
   ]
  },
  {
   "cell_type": "code",
   "execution_count": 30,
   "id": "89c9f3a0",
   "metadata": {
    "ExecuteTime": {
     "end_time": "2022-05-11T11:04:40.073466Z",
     "start_time": "2022-05-11T11:04:39.446465Z"
    }
   },
   "outputs": [
    {
     "data": {
      "text/html": [
       "<div>\n",
       "<style scoped>\n",
       "    .dataframe tbody tr th:only-of-type {\n",
       "        vertical-align: middle;\n",
       "    }\n",
       "\n",
       "    .dataframe tbody tr th {\n",
       "        vertical-align: top;\n",
       "    }\n",
       "\n",
       "    .dataframe thead th {\n",
       "        text-align: right;\n",
       "    }\n",
       "</style>\n",
       "<table border=\"1\" class=\"dataframe\">\n",
       "  <thead>\n",
       "    <tr style=\"text-align: right;\">\n",
       "      <th></th>\n",
       "      <th></th>\n",
       "      <th>diff</th>\n",
       "    </tr>\n",
       "    <tr>\n",
       "      <th>signup-year</th>\n",
       "      <th>signup-month</th>\n",
       "      <th></th>\n",
       "    </tr>\n",
       "  </thead>\n",
       "  <tbody>\n",
       "    <tr>\n",
       "      <th rowspan=\"5\" valign=\"top\">2019</th>\n",
       "      <th>8</th>\n",
       "      <td>3.515248</td>\n",
       "    </tr>\n",
       "    <tr>\n",
       "      <th>9</th>\n",
       "      <td>3.858620</td>\n",
       "    </tr>\n",
       "    <tr>\n",
       "      <th>10</th>\n",
       "      <td>9.665772</td>\n",
       "    </tr>\n",
       "    <tr>\n",
       "      <th>11</th>\n",
       "      <td>6.002505</td>\n",
       "    </tr>\n",
       "    <tr>\n",
       "      <th>12</th>\n",
       "      <td>5.134959</td>\n",
       "    </tr>\n",
       "    <tr>\n",
       "      <th rowspan=\"3\" valign=\"top\">2020</th>\n",
       "      <th>1</th>\n",
       "      <td>2.798928</td>\n",
       "    </tr>\n",
       "    <tr>\n",
       "      <th>2</th>\n",
       "      <td>1.030706</td>\n",
       "    </tr>\n",
       "    <tr>\n",
       "      <th>3</th>\n",
       "      <td>0.090847</td>\n",
       "    </tr>\n",
       "  </tbody>\n",
       "</table>\n",
       "</div>"
      ],
      "text/plain": [
       "                              diff\n",
       "signup-year signup-month          \n",
       "2019        8             3.515248\n",
       "            9             3.858620\n",
       "            10            9.665772\n",
       "            11            6.002505\n",
       "            12            5.134959\n",
       "2020        1             2.798928\n",
       "            2             1.030706\n",
       "            3             0.090847"
      ]
     },
     "execution_count": 30,
     "metadata": {},
     "output_type": "execute_result"
    }
   ],
   "source": [
    "# 가입월별 첫구매까지 걸리는 날짜. \n",
    "# 평균 4일. 하지만 10월에 가입한 사람들은 첫구매까지 9.6일 소요\n",
    "# 10월 프로모션 파악 및 개선 필요\n",
    "\n",
    "diff = pd.pivot_table(chai,index=['signup-year',\"signup-month\"], values =\"diff\", aggfunc='mean')\n",
    "diff"
   ]
  },
  {
   "cell_type": "code",
   "execution_count": 9,
   "id": "b03c9fb7",
   "metadata": {
    "ExecuteTime": {
     "end_time": "2022-05-11T11:02:19.323582Z",
     "start_time": "2022-05-11T11:02:18.080400Z"
    }
   },
   "outputs": [
    {
     "data": {
      "text/html": [
       "<div>\n",
       "<style scoped>\n",
       "    .dataframe tbody tr th:only-of-type {\n",
       "        vertical-align: middle;\n",
       "    }\n",
       "\n",
       "    .dataframe tbody tr th {\n",
       "        vertical-align: top;\n",
       "    }\n",
       "\n",
       "    .dataframe thead th {\n",
       "        text-align: right;\n",
       "    }\n",
       "</style>\n",
       "<table border=\"1\" class=\"dataframe\">\n",
       "  <thead>\n",
       "    <tr style=\"text-align: right;\">\n",
       "      <th></th>\n",
       "      <th>signup-year</th>\n",
       "      <th>signup-month</th>\n",
       "      <th>customer_id</th>\n",
       "    </tr>\n",
       "  </thead>\n",
       "  <tbody>\n",
       "    <tr>\n",
       "      <th>0</th>\n",
       "      <td>2019</td>\n",
       "      <td>5</td>\n",
       "      <td>23</td>\n",
       "    </tr>\n",
       "    <tr>\n",
       "      <th>1</th>\n",
       "      <td>2019</td>\n",
       "      <td>6</td>\n",
       "      <td>74510</td>\n",
       "    </tr>\n",
       "    <tr>\n",
       "      <th>2</th>\n",
       "      <td>2019</td>\n",
       "      <td>7</td>\n",
       "      <td>77839</td>\n",
       "    </tr>\n",
       "    <tr>\n",
       "      <th>3</th>\n",
       "      <td>2019</td>\n",
       "      <td>8</td>\n",
       "      <td>109528</td>\n",
       "    </tr>\n",
       "    <tr>\n",
       "      <th>4</th>\n",
       "      <td>2019</td>\n",
       "      <td>9</td>\n",
       "      <td>35740</td>\n",
       "    </tr>\n",
       "    <tr>\n",
       "      <th>5</th>\n",
       "      <td>2019</td>\n",
       "      <td>10</td>\n",
       "      <td>47772</td>\n",
       "    </tr>\n",
       "    <tr>\n",
       "      <th>6</th>\n",
       "      <td>2019</td>\n",
       "      <td>11</td>\n",
       "      <td>39663</td>\n",
       "    </tr>\n",
       "    <tr>\n",
       "      <th>7</th>\n",
       "      <td>2019</td>\n",
       "      <td>12</td>\n",
       "      <td>51209</td>\n",
       "    </tr>\n",
       "    <tr>\n",
       "      <th>8</th>\n",
       "      <td>2020</td>\n",
       "      <td>1</td>\n",
       "      <td>56062</td>\n",
       "    </tr>\n",
       "    <tr>\n",
       "      <th>9</th>\n",
       "      <td>2020</td>\n",
       "      <td>2</td>\n",
       "      <td>32098</td>\n",
       "    </tr>\n",
       "    <tr>\n",
       "      <th>10</th>\n",
       "      <td>2020</td>\n",
       "      <td>3</td>\n",
       "      <td>16574</td>\n",
       "    </tr>\n",
       "  </tbody>\n",
       "</table>\n",
       "</div>"
      ],
      "text/plain": [
       "    signup-year  signup-month  customer_id\n",
       "0          2019             5           23\n",
       "1          2019             6        74510\n",
       "2          2019             7        77839\n",
       "3          2019             8       109528\n",
       "4          2019             9        35740\n",
       "5          2019            10        47772\n",
       "6          2019            11        39663\n",
       "7          2019            12        51209\n",
       "8          2020             1        56062\n",
       "9          2020             2        32098\n",
       "10         2020             3        16574"
      ]
     },
     "execution_count": 9,
     "metadata": {},
     "output_type": "execute_result"
    }
   ],
   "source": [
    "# 가입 회원수 월별 고유카운트 : 8월가입자수 가장 많음. 8월 프로모션 소비금액은 얼마나 될까?  \n",
    "\n",
    "def get_unique_no(x):\n",
    "    return len(np.unique(x))\n",
    "\n",
    "signup_group = chai.groupby(['signup-year','signup-month'])\n",
    "signup_df = signup_group['customer_id'].apply(get_unique_no).reset_index()\n",
    "signup_df"
   ]
  },
  {
   "cell_type": "code",
   "execution_count": null,
   "id": "c93913d3",
   "metadata": {},
   "outputs": [],
   "source": []
  },
  {
   "cell_type": "markdown",
   "id": "c7ca0526",
   "metadata": {},
   "source": [
    "> 가설 : 가입하고 한번 쓰고 떠난 고객들이 있을것이다 → 이탈한 고객들을 찾아 푸시를 보내면 어떨지"
   ]
  },
  {
   "cell_type": "code",
   "execution_count": 12,
   "id": "b2fbb51f",
   "metadata": {
    "ExecuteTime": {
     "end_time": "2022-07-30T07:01:24.313013Z",
     "start_time": "2022-07-30T07:01:21.539417Z"
    },
    "scrolled": false
   },
   "outputs": [
    {
     "data": {
      "text/html": [
       "<div>\n",
       "<style scoped>\n",
       "    .dataframe tbody tr th:only-of-type {\n",
       "        vertical-align: middle;\n",
       "    }\n",
       "\n",
       "    .dataframe tbody tr th {\n",
       "        vertical-align: top;\n",
       "    }\n",
       "\n",
       "    .dataframe thead th {\n",
       "        text-align: right;\n",
       "    }\n",
       "</style>\n",
       "<table border=\"1\" class=\"dataframe\">\n",
       "  <thead>\n",
       "    <tr style=\"text-align: right;\">\n",
       "      <th></th>\n",
       "      <th>created_at</th>\n",
       "    </tr>\n",
       "    <tr>\n",
       "      <th>customer_id</th>\n",
       "      <th></th>\n",
       "    </tr>\n",
       "  </thead>\n",
       "  <tbody>\n",
       "    <tr>\n",
       "      <th>1</th>\n",
       "      <td>2</td>\n",
       "    </tr>\n",
       "    <tr>\n",
       "      <th>2</th>\n",
       "      <td>2</td>\n",
       "    </tr>\n",
       "    <tr>\n",
       "      <th>3</th>\n",
       "      <td>1</td>\n",
       "    </tr>\n",
       "    <tr>\n",
       "      <th>4</th>\n",
       "      <td>8</td>\n",
       "    </tr>\n",
       "    <tr>\n",
       "      <th>5</th>\n",
       "      <td>6</td>\n",
       "    </tr>\n",
       "    <tr>\n",
       "      <th>...</th>\n",
       "      <td>...</td>\n",
       "    </tr>\n",
       "    <tr>\n",
       "      <th>544917</th>\n",
       "      <td>2</td>\n",
       "    </tr>\n",
       "    <tr>\n",
       "      <th>544918</th>\n",
       "      <td>21</td>\n",
       "    </tr>\n",
       "    <tr>\n",
       "      <th>544919</th>\n",
       "      <td>43</td>\n",
       "    </tr>\n",
       "    <tr>\n",
       "      <th>544920</th>\n",
       "      <td>7</td>\n",
       "    </tr>\n",
       "    <tr>\n",
       "      <th>544921</th>\n",
       "      <td>10</td>\n",
       "    </tr>\n",
       "  </tbody>\n",
       "</table>\n",
       "<p>544921 rows × 1 columns</p>\n",
       "</div>"
      ],
      "text/plain": [
       "             created_at\n",
       "customer_id            \n",
       "1                     2\n",
       "2                     2\n",
       "3                     1\n",
       "4                     8\n",
       "5                     6\n",
       "...                 ...\n",
       "544917                2\n",
       "544918               21\n",
       "544919               43\n",
       "544920                7\n",
       "544921               10\n",
       "\n",
       "[544921 rows x 1 columns]"
      ]
     },
     "execution_count": 12,
     "metadata": {},
     "output_type": "execute_result"
    }
   ],
   "source": [
    "# 고객별 결제건수 \n",
    "count_created = pd.pivot_table(chai, index='customer_id',values='created_at',aggfunc='count')\n",
    "count_created"
   ]
  },
  {
   "cell_type": "code",
   "execution_count": 13,
   "id": "26556973",
   "metadata": {
    "ExecuteTime": {
     "end_time": "2022-07-30T07:01:47.680987Z",
     "start_time": "2022-07-30T07:01:47.387959Z"
    }
   },
   "outputs": [
    {
     "data": {
      "text/html": [
       "<div>\n",
       "<style scoped>\n",
       "    .dataframe tbody tr th:only-of-type {\n",
       "        vertical-align: middle;\n",
       "    }\n",
       "\n",
       "    .dataframe tbody tr th {\n",
       "        vertical-align: top;\n",
       "    }\n",
       "\n",
       "    .dataframe thead th {\n",
       "        text-align: right;\n",
       "    }\n",
       "</style>\n",
       "<table border=\"1\" class=\"dataframe\">\n",
       "  <thead>\n",
       "    <tr style=\"text-align: right;\">\n",
       "      <th></th>\n",
       "      <th>created_at</th>\n",
       "    </tr>\n",
       "    <tr>\n",
       "      <th>customer_id</th>\n",
       "      <th></th>\n",
       "    </tr>\n",
       "  </thead>\n",
       "  <tbody>\n",
       "    <tr>\n",
       "      <th>3</th>\n",
       "      <td>1</td>\n",
       "    </tr>\n",
       "    <tr>\n",
       "      <th>7</th>\n",
       "      <td>1</td>\n",
       "    </tr>\n",
       "    <tr>\n",
       "      <th>8</th>\n",
       "      <td>1</td>\n",
       "    </tr>\n",
       "    <tr>\n",
       "      <th>9</th>\n",
       "      <td>1</td>\n",
       "    </tr>\n",
       "    <tr>\n",
       "      <th>22</th>\n",
       "      <td>1</td>\n",
       "    </tr>\n",
       "    <tr>\n",
       "      <th>...</th>\n",
       "      <td>...</td>\n",
       "    </tr>\n",
       "    <tr>\n",
       "      <th>544895</th>\n",
       "      <td>1</td>\n",
       "    </tr>\n",
       "    <tr>\n",
       "      <th>544906</th>\n",
       "      <td>1</td>\n",
       "    </tr>\n",
       "    <tr>\n",
       "      <th>544909</th>\n",
       "      <td>1</td>\n",
       "    </tr>\n",
       "    <tr>\n",
       "      <th>544910</th>\n",
       "      <td>1</td>\n",
       "    </tr>\n",
       "    <tr>\n",
       "      <th>544913</th>\n",
       "      <td>1</td>\n",
       "    </tr>\n",
       "  </tbody>\n",
       "</table>\n",
       "<p>163227 rows × 1 columns</p>\n",
       "</div>"
      ],
      "text/plain": [
       "             created_at\n",
       "customer_id            \n",
       "3                     1\n",
       "7                     1\n",
       "8                     1\n",
       "9                     1\n",
       "22                    1\n",
       "...                 ...\n",
       "544895                1\n",
       "544906                1\n",
       "544909                1\n",
       "544910                1\n",
       "544913                1\n",
       "\n",
       "[163227 rows x 1 columns]"
      ]
     },
     "execution_count": 13,
     "metadata": {},
     "output_type": "execute_result"
    }
   ],
   "source": [
    "# 단 1회만 결제한 고객 (전체 고객의 29.9%)\n",
    "# 1회만 사용하고 이탈하는 약 30%의 고객을 붙잡아둘 프로모션 필요 \n",
    "# 1회만 사용하고 이탈하는 고객 중 체리피커의 비율은 얼마나 될까? \n",
    "\n",
    "one_created = count_created[count_created['created_at'] < 2]\n",
    "one_created"
   ]
  },
  {
   "cell_type": "code",
   "execution_count": 14,
   "id": "0594a48f",
   "metadata": {
    "ExecuteTime": {
     "end_time": "2022-07-30T07:02:04.940295Z",
     "start_time": "2022-07-30T07:02:04.806196Z"
    }
   },
   "outputs": [
    {
     "data": {
      "text/plain": [
       "29.95425024911868"
      ]
     },
     "execution_count": 14,
     "metadata": {},
     "output_type": "execute_result"
    }
   ],
   "source": [
    "(163227/544921)*100"
   ]
  },
  {
   "cell_type": "code",
   "execution_count": 36,
   "id": "a53e68c8",
   "metadata": {
    "ExecuteTime": {
     "end_time": "2022-05-11T11:24:13.119182Z",
     "start_time": "2022-05-11T11:24:13.091150Z"
    }
   },
   "outputs": [
    {
     "data": {
      "text/plain": [
       "created_at    2705\n",
       "dtype: int64"
      ]
     },
     "execution_count": 36,
     "metadata": {},
     "output_type": "execute_result"
    }
   ],
   "source": [
    "# 구매건수 최대값\n",
    "count_created.max()"
   ]
  },
  {
   "cell_type": "code",
   "execution_count": 38,
   "id": "89f34df3",
   "metadata": {
    "ExecuteTime": {
     "end_time": "2022-05-11T11:24:33.030403Z",
     "start_time": "2022-05-11T11:24:32.960407Z"
    },
    "scrolled": true
   },
   "outputs": [
    {
     "data": {
      "text/html": [
       "<div>\n",
       "<style scoped>\n",
       "    .dataframe tbody tr th:only-of-type {\n",
       "        vertical-align: middle;\n",
       "    }\n",
       "\n",
       "    .dataframe tbody tr th {\n",
       "        vertical-align: top;\n",
       "    }\n",
       "\n",
       "    .dataframe thead th {\n",
       "        text-align: right;\n",
       "    }\n",
       "</style>\n",
       "<table border=\"1\" class=\"dataframe\">\n",
       "  <thead>\n",
       "    <tr style=\"text-align: right;\">\n",
       "      <th></th>\n",
       "      <th>created_at</th>\n",
       "    </tr>\n",
       "  </thead>\n",
       "  <tbody>\n",
       "    <tr>\n",
       "      <th>0</th>\n",
       "      <td>1</td>\n",
       "    </tr>\n",
       "  </tbody>\n",
       "</table>\n",
       "</div>"
      ],
      "text/plain": [
       "   created_at\n",
       "0           1"
      ]
     },
     "execution_count": 38,
     "metadata": {},
     "output_type": "execute_result"
    }
   ],
   "source": [
    "# 구매건수 최빈값\n",
    "count_created.mode()"
   ]
  },
  {
   "cell_type": "code",
   "execution_count": 40,
   "id": "8ae365eb",
   "metadata": {
    "ExecuteTime": {
     "end_time": "2022-05-11T11:25:29.686874Z",
     "start_time": "2022-05-11T11:25:29.648812Z"
    }
   },
   "outputs": [
    {
     "data": {
      "text/plain": [
       "created_at    10.320413\n",
       "dtype: float64"
      ]
     },
     "execution_count": 40,
     "metadata": {},
     "output_type": "execute_result"
    }
   ],
   "source": [
    "# 구매건수 평균\n",
    "count_created.mean()"
   ]
  },
  {
   "cell_type": "markdown",
   "id": "ef8197de",
   "metadata": {},
   "source": [
    "> 가설 : 연령별 가입시간대/사용시간대가 다를것이다. 주타켓층인 20-40대의 사용 패턴은?  "
   ]
  },
  {
   "cell_type": "code",
   "execution_count": 27,
   "id": "c5ae392b",
   "metadata": {
    "ExecuteTime": {
     "end_time": "2022-07-30T08:59:31.815853Z",
     "start_time": "2022-07-30T08:58:58.342006Z"
    }
   },
   "outputs": [],
   "source": [
    "# 60대 이상 사용자 묶음 \n",
    "chai_ten = chai[(chai['age'] >= 0) & (chai['age'] < 20)]\n",
    "chai_twenty = chai[(chai['age'] >= 20) & (chai['age'] < 30)]\n",
    "chai_thirty = chai[(chai['age'] >= 30) & (chai['age'] < 40)]\n",
    "chai_forty = chai[(chai['age'] >= 40) & (chai['age'] < 50)]\n",
    "chai_fifty = chai[(chai['age'] >= 50) & (chai['age'] < 60)]\n",
    "chai_old = chai[(chai['age'] >= 60) & (chai['age'] < 101)]"
   ]
  },
  {
   "cell_type": "code",
   "execution_count": 30,
   "id": "df7b9bb5",
   "metadata": {
    "ExecuteTime": {
     "end_time": "2022-07-30T09:03:46.233790Z",
     "start_time": "2022-07-30T09:03:30.746285Z"
    }
   },
   "outputs": [
    {
     "data": {
      "text/plain": [
       "<AxesSubplot:xlabel='signup-hour', ylabel='count'>"
      ]
     },
     "execution_count": 30,
     "metadata": {},
     "output_type": "execute_result"
    },
    {
     "data": {
      "image/png": "[encoded data removed]",
      "text/plain": [
       "<Figure size 1296x432 with 6 Axes>"
      ]
     },
     "metadata": {
      "needs_background": "light"
     },
     "output_type": "display_data"
    }
   ],
   "source": [
    "# 연령별 가입시간대 패턴\n",
    "figure, ((ax1, ax2, ax3),(ax4, ax5, ax6)) = plt.subplots(nrows = 2, ncols = 3)\n",
    "figure.set_size_inches(18,6)\n",
    "\n",
    "sns.countplot(data=chai_ten, x=\"signup-hour\", ax = ax1)\n",
    "sns.countplot(data=chai_twenty, x=\"signup-hour\", ax = ax2)\n",
    "sns.countplot(data=chai_thirty, x=\"signup-hour\", ax = ax3)\n",
    "sns.countplot(data=chai_forty, x=\"signup-hour\", ax = ax4)\n",
    "sns.countplot(data=chai_fifty, x=\"signup-hour\", ax = ax5)\n",
    "sns.countplot(data=chai_old, x=\"signup-hour\", ax = ax6)"
   ]
  },
  {
   "cell_type": "code",
   "execution_count": 31,
   "id": "ba0f598d",
   "metadata": {
    "ExecuteTime": {
     "end_time": "2022-07-30T09:04:43.923134Z",
     "start_time": "2022-07-30T09:04:36.805359Z"
    }
   },
   "outputs": [
    {
     "data": {
      "text/plain": [
       "<AxesSubplot:xlabel='created-hour', ylabel='count'>"
      ]
     },
     "execution_count": 31,
     "metadata": {},
     "output_type": "execute_result"
    },
    {
     "data": {
      "image/png": "[encoded data removed]",
      "text/plain": [
       "<Figure size 1296x432 with 6 Axes>"
      ]
     },
     "metadata": {
      "needs_background": "light"
     },
     "output_type": "display_data"
    }
   ],
   "source": [
    "# 연령별 사용시간대 패턴\n",
    "figure, ((ax1, ax2, ax3),(ax4, ax5, ax6)) = plt.subplots(nrows = 2, ncols = 3)\n",
    "figure.set_size_inches(18,6)\n",
    "\n",
    "sns.countplot(data=chai_ten, x=\"created-hour\", ax = ax1)\n",
    "sns.countplot(data=chai_twenty, x=\"created-hour\", ax = ax2)\n",
    "sns.countplot(data=chai_thirty, x=\"created-hour\", ax = ax3)\n",
    "sns.countplot(data=chai_forty, x=\"created-hour\", ax = ax4)\n",
    "sns.countplot(data=chai_fifty, x=\"created-hour\", ax = ax5)\n",
    "sns.countplot(data=chai_old, x=\"created-hour\", ax = ax6)"
   ]
  },
  {
   "cell_type": "markdown",
   "id": "bf37d4ab",
   "metadata": {},
   "source": [
    "> 가설 : 20대 초반과 후반의 결제패턴은 다르지 않을까?  "
   ]
  },
  {
   "cell_type": "code",
   "execution_count": 33,
   "id": "d6a89b6f",
   "metadata": {
    "ExecuteTime": {
     "end_time": "2022-07-30T09:07:22.540524Z",
     "start_time": "2022-07-30T09:07:12.105827Z"
    }
   },
   "outputs": [],
   "source": [
    "chai_twenty_early = chai[(chai['age'] >= 20) & (chai['age'] < 25)]\n",
    "chai_twenty_late = chai[(chai['age'] >= 25) & (chai['age'] < 30)]"
   ]
  },
  {
   "cell_type": "code",
   "execution_count": 46,
   "id": "1cee0f2b",
   "metadata": {
    "ExecuteTime": {
     "end_time": "2022-05-17T04:43:31.164973Z",
     "start_time": "2022-05-17T04:43:30.828449Z"
    }
   },
   "outputs": [
    {
     "data": {
      "text/plain": [
       "55787"
      ]
     },
     "execution_count": 46,
     "metadata": {},
     "output_type": "execute_result"
    }
   ],
   "source": [
    "# 20대 초반 고객수\n",
    "len(chai_twenty_early['customer_id'].unique())"
   ]
  },
  {
   "cell_type": "code",
   "execution_count": 47,
   "id": "a2c4b7ee",
   "metadata": {
    "ExecuteTime": {
     "end_time": "2022-05-17T04:46:09.361073Z",
     "start_time": "2022-05-17T04:46:09.145067Z"
    }
   },
   "outputs": [
    {
     "data": {
      "text/plain": [
       "95196"
      ]
     },
     "execution_count": 47,
     "metadata": {},
     "output_type": "execute_result"
    }
   ],
   "source": [
    "# 20대 후반 고객수\n",
    "len(chai_twenty_late['customer_id'].unique())"
   ]
  },
  {
   "cell_type": "code",
   "execution_count": 36,
   "id": "79804db5",
   "metadata": {
    "ExecuteTime": {
     "end_time": "2022-07-30T09:11:33.748074Z",
     "start_time": "2022-07-30T09:11:30.968471Z"
    }
   },
   "outputs": [
    {
     "data": {
      "text/plain": [
       "<AxesSubplot:xlabel='created-hour', ylabel='count'>"
      ]
     },
     "execution_count": 36,
     "metadata": {},
     "output_type": "execute_result"
    },
    {
     "data": {
      "image/png": "[encoded data removed]",
      "text/plain": [
       "<Figure size 1080x288 with 2 Axes>"
      ]
     },
     "metadata": {
      "needs_background": "light"
     },
     "output_type": "display_data"
    }
   ],
   "source": [
    "# 20대 초반과 후반의 결제시간대 \n",
    "figure, (ax1, ax2) = plt.subplots(nrows = 1, ncols = 2)\n",
    "figure.set_size_inches(15,4)\n",
    "\n",
    "sns.countplot(data=chai_twenty_early, x=\"created-hour\", ax = ax1)\n",
    "sns.countplot(data=chai_twenty_late, x=\"created-hour\", ax = ax2)"
   ]
  },
  {
   "cell_type": "markdown",
   "id": "6cc0d2e3",
   "metadata": {},
   "source": [
    "- 20대 초반/후반 인당 결제금액 중앙값"
   ]
  },
  {
   "cell_type": "code",
   "execution_count": 20,
   "id": "044116f9",
   "metadata": {
    "ExecuteTime": {
     "end_time": "2022-05-18T02:06:32.737473Z",
     "start_time": "2022-05-18T02:06:31.805428Z"
    }
   },
   "outputs": [
    {
     "data": {
      "text/plain": [
       "55800.0"
      ]
     },
     "execution_count": 20,
     "metadata": {},
     "output_type": "execute_result"
    }
   ],
   "source": [
    "# 20대 초반 고객의 인당 결제금액 중앙값 \n",
    "chai_twenty_early.groupby('customer_id')['post_discount'].sum().median()"
   ]
  },
  {
   "cell_type": "code",
   "execution_count": 21,
   "id": "03f3bb61",
   "metadata": {
    "ExecuteTime": {
     "end_time": "2022-05-18T02:07:33.613221Z",
     "start_time": "2022-05-18T02:07:32.950058Z"
    }
   },
   "outputs": [
    {
     "data": {
      "text/plain": [
       "57720.0"
      ]
     },
     "execution_count": 21,
     "metadata": {},
     "output_type": "execute_result"
    }
   ],
   "source": [
    "# 20대 후반 고객의 인당 결제금액 중앙값\n",
    "chai_twenty_late.groupby('customer_id')['post_discount'].sum().median()"
   ]
  },
  {
   "cell_type": "markdown",
   "id": "e2526020",
   "metadata": {},
   "source": [
    "- 20대 초반/후반 성별에 따른 결제패턴 차이 : 취직 시기와 상관? "
   ]
  },
  {
   "cell_type": "code",
   "execution_count": 24,
   "id": "94496031",
   "metadata": {
    "ExecuteTime": {
     "end_time": "2022-05-18T02:16:39.103584Z",
     "start_time": "2022-05-18T02:16:38.408820Z"
    }
   },
   "outputs": [],
   "source": [
    "chai_te_m = chai_twenty_early[chai_twenty_early['gender']=='male']\n",
    "chai_te_f = chai_twenty_early[chai_twenty_early['gender']=='female']"
   ]
  },
  {
   "cell_type": "code",
   "execution_count": 44,
   "id": "8340149e",
   "metadata": {
    "ExecuteTime": {
     "end_time": "2022-05-18T02:35:29.783544Z",
     "start_time": "2022-05-18T02:35:28.681169Z"
    }
   },
   "outputs": [],
   "source": [
    "chai_tl_m = chai_twenty_late[chai_twenty_late['gender']=='male']\n",
    "chai_tl_f = chai_twenty_late[chai_twenty_late['gender']=='female']"
   ]
  },
  {
   "cell_type": "code",
   "execution_count": 26,
   "id": "170ddd18",
   "metadata": {
    "ExecuteTime": {
     "end_time": "2022-05-18T02:18:35.354479Z",
     "start_time": "2022-05-18T02:18:34.929481Z"
    }
   },
   "outputs": [
    {
     "data": {
      "text/plain": [
       "54600.0"
      ]
     },
     "execution_count": 26,
     "metadata": {},
     "output_type": "execute_result"
    }
   ],
   "source": [
    "# 20대 초반 남성의 인당 결제금액 중앙값\n",
    "chai_te_m.groupby('customer_id')['post_discount'].sum().median()"
   ]
  },
  {
   "cell_type": "code",
   "execution_count": 27,
   "id": "0ce39f9a",
   "metadata": {
    "ExecuteTime": {
     "end_time": "2022-05-18T02:19:37.834676Z",
     "start_time": "2022-05-18T02:19:37.522143Z"
    }
   },
   "outputs": [
    {
     "data": {
      "text/plain": [
       "56800.0"
      ]
     },
     "execution_count": 27,
     "metadata": {},
     "output_type": "execute_result"
    }
   ],
   "source": [
    "# 20대 초반 여성의 인당 결제금액 중앙값\n",
    "chai_te_f.groupby('customer_id')['post_discount'].sum().median()"
   ]
  },
  {
   "cell_type": "code",
   "execution_count": 31,
   "id": "92f98245",
   "metadata": {
    "ExecuteTime": {
     "end_time": "2022-05-18T02:22:14.815418Z",
     "start_time": "2022-05-18T02:22:13.953521Z"
    }
   },
   "outputs": [
    {
     "data": {
      "text/plain": [
       "52700.0"
      ]
     },
     "execution_count": 31,
     "metadata": {},
     "output_type": "execute_result"
    }
   ],
   "source": [
    "# 20대 후반 남성의 인당 결제금액 중앙값\n",
    "chai_tl_m.groupby('customer_id')['post_discount'].sum().median()"
   ]
  },
  {
   "cell_type": "code",
   "execution_count": 33,
   "id": "fa9f367f",
   "metadata": {
    "ExecuteTime": {
     "end_time": "2022-05-18T02:24:10.462903Z",
     "start_time": "2022-05-18T02:24:10.062903Z"
    }
   },
   "outputs": [
    {
     "data": {
      "text/plain": [
       "60960.0"
      ]
     },
     "execution_count": 33,
     "metadata": {},
     "output_type": "execute_result"
    }
   ],
   "source": [
    "# 20대 후반 여성의 인당 결제금액 중앙값\n",
    "Chai_tl_f.groupby('customer_id')['post_discount'].sum().median()"
   ]
  },
  {
   "cell_type": "markdown",
   "id": "fd55d1cf",
   "metadata": {},
   "source": [
    "> 사용금액 분석"
   ]
  },
  {
   "cell_type": "code",
   "execution_count": 11,
   "id": "d7682b55",
   "metadata": {
    "ExecuteTime": {
     "end_time": "2022-05-12T14:35:36.193970Z",
     "start_time": "2022-05-12T14:35:36.162936Z"
    }
   },
   "outputs": [
    {
     "data": {
      "text/plain": [
       "106802665559"
      ]
     },
     "execution_count": 11,
     "metadata": {},
     "output_type": "execute_result"
    }
   ],
   "source": [
    "# chai페이 전체 사용금액\n",
    "total_amount = chai['post_discount'].sum()\n",
    "total_amount"
   ]
  },
  {
   "cell_type": "markdown",
   "id": "1eb0ad88",
   "metadata": {},
   "source": [
    "- 가설 : 앱 알람 허용여부에 따라 결제금액에 차이가 있을것이다\n",
    "> 알람거부 세그먼트 결제금액합계가 더 큼. 알람 거부자 수가 많기 때문일수있음. 보다 자세히 뜯어볼 필요."
   ]
  },
  {
   "cell_type": "code",
   "execution_count": 18,
   "id": "083584cf",
   "metadata": {
    "ExecuteTime": {
     "end_time": "2022-07-30T07:28:06.285996Z",
     "start_time": "2022-07-30T07:28:05.874529Z"
    },
    "scrolled": true
   },
   "outputs": [
    {
     "data": {
      "text/plain": [
       "push_permission\n",
       "False    14831825875\n",
       "True      9040607530\n",
       "Name: post_discount, dtype: int64"
      ]
     },
     "execution_count": 18,
     "metadata": {},
     "output_type": "execute_result"
    }
   ],
   "source": [
    "chai_twenty.groupby('push_permission')['post_discount'].sum()"
   ]
  },
  {
   "cell_type": "markdown",
   "id": "034b5132",
   "metadata": {},
   "source": [
    "- product별 사용금액 (가공된 값이 아닌가 싶음)"
   ]
  },
  {
   "cell_type": "code",
   "execution_count": 7,
   "id": "d3a792b1",
   "metadata": {
    "ExecuteTime": {
     "end_time": "2022-05-12T14:37:49.167688Z",
     "start_time": "2022-05-12T14:37:48.540634Z"
    }
   },
   "outputs": [
    {
     "data": {
      "text/plain": [
       "merchant_id\n",
       "1      5948217545\n",
       "2     11872086811\n",
       "3     11965516853\n",
       "4     11902724074\n",
       "5     11849276972\n",
       "6     11898923726\n",
       "7     11917445562\n",
       "8     11893576426\n",
       "9     11839230944\n",
       "10     5956323322\n",
       "Name: post_discount, dtype: int64"
      ]
     },
     "execution_count": 7,
     "metadata": {},
     "output_type": "execute_result"
    }
   ],
   "source": [
    "amount_by_product = chai.groupby('merchant_id')['post_discount'].sum()\n",
    "amount_by_product"
   ]
  },
  {
   "cell_type": "markdown",
   "id": "c907ce02",
   "metadata": {},
   "source": [
    "- 월별 매출: 1월 매출 가장 높음. 보통 5,12월 매출이 높은데 1월 매출이 높은 이유는 무엇?  프로모션 무엇인지 확인 필요"
   ]
  },
  {
   "cell_type": "code",
   "execution_count": 20,
   "id": "08fb4ed9",
   "metadata": {
    "ExecuteTime": {
     "end_time": "2022-05-19T05:34:18.085976Z",
     "start_time": "2022-05-19T05:34:17.969074Z"
    }
   },
   "outputs": [],
   "source": [
    "def extract_month(date):\n",
    "    month = str(date.month)\n",
    "    if date.month < 10:\n",
    "        month = '0' + month\n",
    "    return str(date.year)+month"
   ]
  },
  {
   "cell_type": "code",
   "execution_count": 13,
   "id": "6465ccfb",
   "metadata": {
    "ExecuteTime": {
     "end_time": "2022-05-12T14:53:47.673399Z",
     "start_time": "2022-05-12T14:51:55.530660Z"
    }
   },
   "outputs": [
    {
     "data": {
      "text/plain": [
       "created_at\n",
       "201908    10140004315\n",
       "201909    11011597431\n",
       "201910    16588333816\n",
       "201911    13267905077\n",
       "201912    15045601451\n",
       "202001    18357805126\n",
       "202002    11718702444\n",
       "202003    10913372575\n",
       "Name: post_discount, dtype: int64"
      ]
     },
     "execution_count": 13,
     "metadata": {},
     "output_type": "execute_result"
    }
   ],
   "source": [
    "amount_by_month = chai.set_index('created_at').groupby(extract_month)['post_discount'].sum()\n",
    "amount_by_month"
   ]
  },
  {
   "cell_type": "code",
   "execution_count": 44,
   "id": "3332d2cd",
   "metadata": {
    "ExecuteTime": {
     "end_time": "2022-05-19T06:37:13.551337Z",
     "start_time": "2022-05-19T06:37:11.843297Z"
    }
   },
   "outputs": [
    {
     "data": {
      "text/plain": [
       "<AxesSubplot:xlabel='created_at'>"
      ]
     },
     "execution_count": 44,
     "metadata": {},
     "output_type": "execute_result"
    },
    {
     "data": {
      "image/png": "[encoded data removed]",
      "text/plain": [
       "<Figure size 432x288 with 1 Axes>"
      ]
     },
     "metadata": {
      "needs_background": "light"
     },
     "output_type": "display_data"
    }
   ],
   "source": [
    "amount_by_month.plot(kind='bar',grid=False)"
   ]
  },
  {
   "cell_type": "code",
   "execution_count": null,
   "id": "450604dd",
   "metadata": {},
   "outputs": [],
   "source": [
    "# 일자별 매출"
   ]
  },
  {
   "cell_type": "code",
   "execution_count": 7,
   "id": "ff0b03cf",
   "metadata": {
    "ExecuteTime": {
     "end_time": "2022-05-13T00:48:24.220056Z",
     "start_time": "2022-05-13T00:48:24.190059Z"
    }
   },
   "outputs": [],
   "source": [
    "def extract_month_day(date):\n",
    "    month = str(date.month)\n",
    "    day = str(date.day)\n",
    "    if date.month < 10:\n",
    "        month = '0' + month\n",
    "    if date.day < 10:\n",
    "        day = '0' + day\n",
    "    return str(date.year)+month+day"
   ]
  },
  {
   "cell_type": "code",
   "execution_count": 8,
   "id": "0cfb1e42",
   "metadata": {
    "ExecuteTime": {
     "end_time": "2022-05-13T00:50:42.475641Z",
     "start_time": "2022-05-13T00:48:27.117714Z"
    }
   },
   "outputs": [
    {
     "data": {
      "text/plain": [
       "created_at\n",
       "20190801    495544744\n",
       "20190802    306446705\n",
       "20190803    209610795\n",
       "20190804    249243967\n",
       "20190805    436840205\n",
       "              ...    \n",
       "20200327    383513990\n",
       "20200328    320072010\n",
       "20200329    305677917\n",
       "20200330    472264088\n",
       "20200331    380008638\n",
       "Name: post_discount, Length: 244, dtype: int64"
      ]
     },
     "execution_count": 8,
     "metadata": {},
     "output_type": "execute_result"
    }
   ],
   "source": [
    "amount_by_month_day = chai.set_index('created_at').groupby(extract_month_day)['post_discount'].sum()\n",
    "amount_by_month_day"
   ]
  },
  {
   "cell_type": "code",
   "execution_count": 21,
   "id": "5dca10e0",
   "metadata": {
    "ExecuteTime": {
     "end_time": "2022-05-13T01:29:24.135150Z",
     "start_time": "2022-05-13T01:29:24.110151Z"
    }
   },
   "outputs": [
    {
     "data": {
      "text/plain": [
       "'20191021'"
      ]
     },
     "execution_count": 21,
     "metadata": {},
     "output_type": "execute_result"
    }
   ],
   "source": [
    "amount_by_month_day.idxmax()"
   ]
  },
  {
   "cell_type": "code",
   "execution_count": 24,
   "id": "0bcb6726",
   "metadata": {
    "ExecuteTime": {
     "end_time": "2022-05-13T01:35:47.649161Z",
     "start_time": "2022-05-13T01:35:35.456637Z"
    },
    "scrolled": false
   },
   "outputs": [
    {
     "data": {
      "text/plain": [
       "<AxesSubplot:xlabel='created_at'>"
      ]
     },
     "execution_count": 24,
     "metadata": {},
     "output_type": "execute_result"
    },
    {
     "data": {
      "image/png": "[encoded data removed]",
      "text/plain": [
       "<Figure size 1296x288 with 1 Axes>"
      ]
     },
     "metadata": {
      "needs_background": "light"
     },
     "output_type": "display_data"
    }
   ],
   "source": [
    "amount_by_month_day.plot(kind='bar',grid=False, figsize=(18,4))"
   ]
  },
  {
   "cell_type": "code",
   "execution_count": 29,
   "id": "40012fba",
   "metadata": {
    "ExecuteTime": {
     "end_time": "2022-05-13T01:56:12.704458Z",
     "start_time": "2022-05-13T01:55:54.610041Z"
    }
   },
   "outputs": [
    {
     "data": {
      "text/plain": [
       "<AxesSubplot:>"
      ]
     },
     "execution_count": 29,
     "metadata": {},
     "output_type": "execute_result"
    },
    {
     "data": {
      "image/png": "[encoded data removed]",
      "text/plain": [
       "<Figure size 1296x288 with 1 Axes>"
      ]
     },
     "metadata": {
      "needs_background": "light"
     },
     "output_type": "display_data"
    }
   ],
   "source": [
    "# 네이버데이터랩에서 차이검색량이 높았던 날짜와 매치하는지 알아보기위해 가져옴. 10월 검색량 높았지만 일자는 일치하지 않음. \n",
    "datalab.plot(kind='bar', grid=False, figsize=(18,4))"
   ]
  },
  {
   "cell_type": "code",
   "execution_count": 11,
   "id": "f41517eb",
   "metadata": {
    "ExecuteTime": {
     "end_time": "2022-05-13T01:14:05.898517Z",
     "start_time": "2022-05-13T01:14:05.530179Z"
    },
    "scrolled": false
   },
   "outputs": [
    {
     "data": {
      "text/html": [
       "<div>\n",
       "<style scoped>\n",
       "    .dataframe tbody tr th:only-of-type {\n",
       "        vertical-align: middle;\n",
       "    }\n",
       "\n",
       "    .dataframe tbody tr th {\n",
       "        vertical-align: top;\n",
       "    }\n",
       "\n",
       "    .dataframe thead th {\n",
       "        text-align: right;\n",
       "    }\n",
       "</style>\n",
       "<table border=\"1\" class=\"dataframe\">\n",
       "  <thead>\n",
       "    <tr style=\"text-align: right;\">\n",
       "      <th></th>\n",
       "      <th>날짜</th>\n",
       "      <th>차이앱</th>\n",
       "      <th>차이페이</th>\n",
       "      <th>차이코퍼레이션</th>\n",
       "    </tr>\n",
       "  </thead>\n",
       "  <tbody>\n",
       "    <tr>\n",
       "      <th>0</th>\n",
       "      <td>2019-06-01</td>\n",
       "      <td>0</td>\n",
       "      <td>0</td>\n",
       "      <td>0</td>\n",
       "    </tr>\n",
       "    <tr>\n",
       "      <th>1</th>\n",
       "      <td>2019-06-02</td>\n",
       "      <td>0</td>\n",
       "      <td>0</td>\n",
       "      <td>0</td>\n",
       "    </tr>\n",
       "    <tr>\n",
       "      <th>2</th>\n",
       "      <td>2019-06-03</td>\n",
       "      <td>0</td>\n",
       "      <td>0</td>\n",
       "      <td>0</td>\n",
       "    </tr>\n",
       "    <tr>\n",
       "      <th>3</th>\n",
       "      <td>2019-06-04</td>\n",
       "      <td>0</td>\n",
       "      <td>0</td>\n",
       "      <td>0</td>\n",
       "    </tr>\n",
       "    <tr>\n",
       "      <th>4</th>\n",
       "      <td>2019-06-05</td>\n",
       "      <td>0</td>\n",
       "      <td>1</td>\n",
       "      <td>0</td>\n",
       "    </tr>\n",
       "    <tr>\n",
       "      <th>...</th>\n",
       "      <td>...</td>\n",
       "      <td>...</td>\n",
       "      <td>...</td>\n",
       "      <td>...</td>\n",
       "    </tr>\n",
       "    <tr>\n",
       "      <th>300</th>\n",
       "      <td>2020-03-27</td>\n",
       "      <td>4</td>\n",
       "      <td>7</td>\n",
       "      <td>3</td>\n",
       "    </tr>\n",
       "    <tr>\n",
       "      <th>301</th>\n",
       "      <td>2020-03-28</td>\n",
       "      <td>4</td>\n",
       "      <td>6</td>\n",
       "      <td>1</td>\n",
       "    </tr>\n",
       "    <tr>\n",
       "      <th>302</th>\n",
       "      <td>2020-03-29</td>\n",
       "      <td>4</td>\n",
       "      <td>7</td>\n",
       "      <td>1</td>\n",
       "    </tr>\n",
       "    <tr>\n",
       "      <th>303</th>\n",
       "      <td>2020-03-30</td>\n",
       "      <td>4</td>\n",
       "      <td>9</td>\n",
       "      <td>7</td>\n",
       "    </tr>\n",
       "    <tr>\n",
       "      <th>304</th>\n",
       "      <td>2020-03-31</td>\n",
       "      <td>3</td>\n",
       "      <td>10</td>\n",
       "      <td>4</td>\n",
       "    </tr>\n",
       "  </tbody>\n",
       "</table>\n",
       "<p>305 rows × 4 columns</p>\n",
       "</div>"
      ],
      "text/plain": [
       "             날짜  차이앱  차이페이  차이코퍼레이션\n",
       "0    2019-06-01    0     0        0\n",
       "1    2019-06-02    0     0        0\n",
       "2    2019-06-03    0     0        0\n",
       "3    2019-06-04    0     0        0\n",
       "4    2019-06-05    0     1        0\n",
       "..          ...  ...   ...      ...\n",
       "300  2020-03-27    4     7        3\n",
       "301  2020-03-28    4     6        1\n",
       "302  2020-03-29    4     7        1\n",
       "303  2020-03-30    4     9        7\n",
       "304  2020-03-31    3    10        4\n",
       "\n",
       "[305 rows x 4 columns]"
      ]
     },
     "execution_count": 11,
     "metadata": {},
     "output_type": "execute_result"
    }
   ],
   "source": [
    "datalab = pd.read_csv('datalab.csv')\n",
    "datalab"
   ]
  },
  {
   "cell_type": "code",
   "execution_count": null,
   "id": "e4f2c448",
   "metadata": {},
   "outputs": [],
   "source": [
    "# 요일별 페이사용량 : 월요일이 가장 많음 "
   ]
  },
  {
   "cell_type": "code",
   "execution_count": 15,
   "id": "6671d01c",
   "metadata": {
    "ExecuteTime": {
     "end_time": "2022-05-12T14:58:32.421876Z",
     "start_time": "2022-05-12T14:58:22.694126Z"
    }
   },
   "outputs": [
    {
     "data": {
      "text/plain": [
       "created_at\n",
       "0    22730359291\n",
       "1    17079666508\n",
       "2    15599507027\n",
       "3    14145399709\n",
       "4    13308988336\n",
       "5    11075092238\n",
       "6    13104309126\n",
       "Name: post_discount, dtype: int64"
      ]
     },
     "execution_count": 15,
     "metadata": {},
     "output_type": "execute_result"
    }
   ],
   "source": [
    "amount_by_dow = chai.set_index('created_at').groupby(lambda date:date.dayofweek)['post_discount'].sum()\n",
    "amount_by_dow"
   ]
  },
  {
   "cell_type": "code",
   "execution_count": 17,
   "id": "b5779584",
   "metadata": {
    "ExecuteTime": {
     "end_time": "2022-05-12T15:03:20.872028Z",
     "start_time": "2022-05-12T15:03:20.850029Z"
    }
   },
   "outputs": [],
   "source": [
    "day_of_week = np.array(['Mon','Tue','Wed','Thur','Fri','Sat','Sun'])\n",
    "amount_by_dow.index = day_of_week[amount_by_dow.index]"
   ]
  },
  {
   "cell_type": "code",
   "execution_count": 19,
   "id": "657c68c2",
   "metadata": {
    "ExecuteTime": {
     "end_time": "2022-05-12T15:03:31.690556Z",
     "start_time": "2022-05-12T15:03:31.145835Z"
    }
   },
   "outputs": [
    {
     "data": {
      "text/plain": [
       "<AxesSubplot:>"
      ]
     },
     "execution_count": 19,
     "metadata": {},
     "output_type": "execute_result"
    },
    {
     "data": {
      "image/png": "[encoded data removed]",
      "text/plain": [
       "<Figure size 432x288 with 1 Axes>"
      ]
     },
     "metadata": {
      "needs_background": "light"
     },
     "output_type": "display_data"
    }
   ],
   "source": [
    "amount_by_dow.plot(kind='bar',grid=False)"
   ]
  },
  {
   "cell_type": "code",
   "execution_count": 21,
   "id": "33d9a8c4",
   "metadata": {
    "ExecuteTime": {
     "end_time": "2022-05-12T15:07:02.734134Z",
     "start_time": "2022-05-12T15:06:54.877873Z"
    }
   },
   "outputs": [
    {
     "data": {
      "text/plain": [
       "created_at\n",
       "0     6897807881\n",
       "1     5146869886\n",
       "2     2629100790\n",
       "3     1562167447\n",
       "4     1158203198\n",
       "5     1070182572\n",
       "6     1652389116\n",
       "7     2978168935\n",
       "8     4226750481\n",
       "9     5451344521\n",
       "10    7343554236\n",
       "11    6287468668\n",
       "12    5248490560\n",
       "13    5027919991\n",
       "14    4559546338\n",
       "15    5004090211\n",
       "16    5196265698\n",
       "17    4606000181\n",
       "18    4471094873\n",
       "19    4465743917\n",
       "20    5532501336\n",
       "21    5873978696\n",
       "22    6400347733\n",
       "23    4253334970\n",
       "Name: post_discount, dtype: int64"
      ]
     },
     "execution_count": 21,
     "metadata": {},
     "output_type": "execute_result"
    }
   ],
   "source": [
    "# 시간대별 페이사용금액\n",
    "amount_by_hour = chai.set_index('created_at').groupby(lambda date:date.hour)['post_discount'].sum()\n",
    "amount_by_hour"
   ]
  },
  {
   "cell_type": "code",
   "execution_count": 22,
   "id": "176437b2",
   "metadata": {
    "ExecuteTime": {
     "end_time": "2022-05-12T15:07:12.269629Z",
     "start_time": "2022-05-12T15:07:11.173434Z"
    },
    "scrolled": true
   },
   "outputs": [
    {
     "data": {
      "text/plain": [
       "<AxesSubplot:xlabel='created_at'>"
      ]
     },
     "execution_count": 22,
     "metadata": {},
     "output_type": "execute_result"
    },
    {
     "data": {
      "image/png": "[encoded data removed]",
      "text/plain": [
       "<Figure size 432x288 with 1 Axes>"
      ]
     },
     "metadata": {
      "needs_background": "light"
     },
     "output_type": "display_data"
    }
   ],
   "source": [
    "amount_by_hour.plot(kind='bar', grid=False)"
   ]
  },
  {
   "cell_type": "code",
   "execution_count": 21,
   "id": "2a80854f",
   "metadata": {
    "ExecuteTime": {
     "end_time": "2022-05-25T01:04:13.640389Z",
     "start_time": "2022-05-25T01:04:10.665698Z"
    },
    "collapsed": true
   },
   "outputs": [
    {
     "data": {
      "text/plain": [
       "created_at\n",
       "0     1720705541\n",
       "1     1377032577\n",
       "2      776474397\n",
       "3      458659592\n",
       "4      299979173\n",
       "5      226112638\n",
       "6      268484110\n",
       "7      436503611\n",
       "8      685099940\n",
       "9      951967192\n",
       "10    1290536881\n",
       "11    1277780597\n",
       "12    1178222468\n",
       "13    1179290002\n",
       "14    1078053355\n",
       "15    1169998243\n",
       "16    1150541448\n",
       "17    1078794276\n",
       "18    1074069631\n",
       "19    1062943399\n",
       "20    1257198318\n",
       "21    1320943425\n",
       "22    1499283493\n",
       "23    1053759098\n",
       "Name: post_discount, dtype: int64"
      ]
     },
     "execution_count": 21,
     "metadata": {},
     "output_type": "execute_result"
    }
   ],
   "source": [
    "# 20대의 시간대별 매출\n",
    "# amount_by_hour_twenty = chai_twenty.set_index('created_at').groupby(lambda date:date.hour)['post_discount'].sum()\n",
    "# amount_by_hour_twenty"
   ]
  },
  {
   "cell_type": "code",
   "execution_count": 25,
   "id": "536a795f",
   "metadata": {
    "ExecuteTime": {
     "end_time": "2022-05-25T01:09:28.885864Z",
     "start_time": "2022-05-25T01:09:28.680867Z"
    }
   },
   "outputs": [
    {
     "data": {
      "text/plain": [
       "created-hour\n",
       "0     1720705541\n",
       "1     1377032577\n",
       "2      776474397\n",
       "3      458659592\n",
       "4      299979173\n",
       "5      226112638\n",
       "6      268484110\n",
       "7      436503611\n",
       "8      685099940\n",
       "9      951967192\n",
       "10    1290536881\n",
       "11    1277780597\n",
       "12    1178222468\n",
       "13    1179290002\n",
       "14    1078053355\n",
       "15    1169998243\n",
       "16    1150541448\n",
       "17    1078794276\n",
       "18    1074069631\n",
       "19    1062943399\n",
       "20    1257198318\n",
       "21    1320943425\n",
       "22    1499283493\n",
       "23    1053759098\n",
       "Name: post_discount, dtype: int64"
      ]
     },
     "execution_count": 25,
     "metadata": {},
     "output_type": "execute_result"
    }
   ],
   "source": [
    "# 20대의 시간대별 매출\n",
    "amount_by_hour_twenty = chai_twenty.groupby('created-hour')['post_discount'].count()\n",
    "amount_by_hour_twenty"
   ]
  },
  {
   "cell_type": "code",
   "execution_count": 30,
   "id": "42159aee",
   "metadata": {
    "ExecuteTime": {
     "end_time": "2022-05-25T07:48:37.572844Z",
     "start_time": "2022-05-25T07:48:36.248090Z"
    },
    "scrolled": true
   },
   "outputs": [
    {
     "data": {
      "text/plain": [
       "created-hour\n",
       "0     2921713193\n",
       "1     2142188018\n",
       "2     1044140688\n",
       "3      614841030\n",
       "4      453005112\n",
       "5      426395680\n",
       "6      667640476\n",
       "7     1271904262\n",
       "8     1790693655\n",
       "9     2271245957\n",
       "10    2977646370\n",
       "11    2650277663\n",
       "12    2107643034\n",
       "13    1976820463\n",
       "14    1783646370\n",
       "15    1959303067\n",
       "16    2068525793\n",
       "17    1776531213\n",
       "18    1686041920\n",
       "19    1646133894\n",
       "20    2071760243\n",
       "21    2259693387\n",
       "22    2571508082\n",
       "23    1697197831\n",
       "Name: post_discount, dtype: int64"
      ]
     },
     "execution_count": 30,
     "metadata": {},
     "output_type": "execute_result"
    }
   ],
   "source": [
    "# 30대의 시간대별 매출\n",
    "amount_by_hour_thirty = chai_thirty.groupby('created-hour')['post_discount'].sum()\n",
    "amount_by_hour_thirty"
   ]
  },
  {
   "cell_type": "code",
   "execution_count": 49,
   "id": "284c271c",
   "metadata": {
    "ExecuteTime": {
     "end_time": "2022-05-25T12:40:18.353975Z",
     "start_time": "2022-05-25T12:40:17.396761Z"
    }
   },
   "outputs": [
    {
     "data": {
      "text/plain": [
       "created-hour\n",
       "0     1640015655\n",
       "1     1226360346\n",
       "2      607182671\n",
       "3      362559005\n",
       "4      285365413\n",
       "5      304323621\n",
       "6      519952914\n",
       "7      950048187\n",
       "8     1310512959\n",
       "9     1683490713\n",
       "10    2228212135\n",
       "11    1778678764\n",
       "12    1455173585\n",
       "13    1379922661\n",
       "14    1261159545\n",
       "15    1365959959\n",
       "16    1447764741\n",
       "17    1273348074\n",
       "18    1241867427\n",
       "19    1279566370\n",
       "20    1613575937\n",
       "21    1682070392\n",
       "22    1743739307\n",
       "23    1141720241\n",
       "Name: post_discount, dtype: int64"
      ]
     },
     "execution_count": 49,
     "metadata": {},
     "output_type": "execute_result"
    }
   ],
   "source": [
    "# 40대의 시간대별 매출\n",
    "amount_by_hour_forty = chai_forty.groupby('created-hour')['post_discount'].sum()\n",
    "amount_by_hour_forty"
   ]
  },
  {
   "cell_type": "markdown",
   "id": "ba5383e2",
   "metadata": {},
   "source": [
    "> 매출이 가장 큰 1월 결제 분석 : 결제건수도 1월 가장 많음"
   ]
  },
  {
   "cell_type": "code",
   "execution_count": 37,
   "id": "36dfcf18",
   "metadata": {
    "ExecuteTime": {
     "end_time": "2022-07-30T09:20:32.894277Z",
     "start_time": "2022-07-30T09:20:31.872855Z"
    }
   },
   "outputs": [
    {
     "data": {
      "text/plain": [
       "created-month\n",
       "1     938568\n",
       "2     710419\n",
       "3     616408\n",
       "8     695393\n",
       "9     601036\n",
       "10    679559\n",
       "11    724012\n",
       "12    658415\n",
       "Name: created_at, dtype: int64"
      ]
     },
     "execution_count": 37,
     "metadata": {},
     "output_type": "execute_result"
    }
   ],
   "source": [
    "# 월별 결제 건수\n",
    "jan = chai.groupby('created-month')['created_at'].count()\n",
    "jan"
   ]
  },
  {
   "cell_type": "code",
   "execution_count": 38,
   "id": "50434c67",
   "metadata": {
    "ExecuteTime": {
     "end_time": "2022-07-30T09:21:29.467969Z",
     "start_time": "2022-07-30T09:21:27.108380Z"
    }
   },
   "outputs": [
    {
     "data": {
      "text/plain": [
       "<AxesSubplot:xlabel='created-month'>"
      ]
     },
     "execution_count": 38,
     "metadata": {},
     "output_type": "execute_result"
    },
    {
     "data": {
      "image/png": "[encoded data removed]",
      "text/plain": [
       "<Figure size 432x288 with 1 Axes>"
      ]
     },
     "metadata": {
      "needs_background": "light"
     },
     "output_type": "display_data"
    }
   ],
   "source": [
    "jan.plot(kind='bar', grid=False)"
   ]
  },
  {
   "cell_type": "code",
   "execution_count": 39,
   "id": "44600bd5",
   "metadata": {
    "ExecuteTime": {
     "end_time": "2022-07-30T09:24:04.853276Z",
     "start_time": "2022-07-30T09:24:03.593287Z"
    }
   },
   "outputs": [
    {
     "data": {
      "text/plain": [
       "created-month\n",
       "1     1249449283\n",
       "2      788175646\n",
       "3      491610817\n",
       "8     1593204763\n",
       "9     1076203773\n",
       "10    1308505904\n",
       "11    1337060040\n",
       "12     839224689\n",
       "Name: total_promotion, dtype: int64"
      ]
     },
     "execution_count": 39,
     "metadata": {},
     "output_type": "execute_result"
    }
   ],
   "source": [
    "# 월별 프로모션 금액\n",
    "promotion = chai.groupby('created-month')['total_promotion'].sum()\n",
    "promotion"
   ]
  },
  {
   "cell_type": "markdown",
   "id": "67102e93",
   "metadata": {
    "ExecuteTime": {
     "end_time": "2022-07-30T09:25:35.739860Z",
     "start_time": "2022-07-30T09:25:35.498486Z"
    }
   },
   "source": [
    "- 프로모션 금액지출은 1월보다 8월이 더 큼"
   ]
  },
  {
   "cell_type": "code",
   "execution_count": 40,
   "id": "d2469240",
   "metadata": {
    "ExecuteTime": {
     "end_time": "2022-07-30T09:24:49.737115Z",
     "start_time": "2022-07-30T09:24:48.014271Z"
    }
   },
   "outputs": [
    {
     "data": {
      "text/plain": [
       "<AxesSubplot:xlabel='created-month'>"
      ]
     },
     "execution_count": 40,
     "metadata": {},
     "output_type": "execute_result"
    },
    {
     "data": {
      "image/png": "[encoded data removed]",
      "text/plain": [
       "<Figure size 432x288 with 1 Axes>"
      ]
     },
     "metadata": {
      "needs_background": "light"
     },
     "output_type": "display_data"
    }
   ],
   "source": [
    "promotion.plot(kind='bar', grid=False)"
   ]
  },
  {
   "cell_type": "markdown",
   "id": "232f3721",
   "metadata": {},
   "source": [
    "> 8월과 1월의 ROAS 비교(프로모션비용을 홍보비용으로 산정) "
   ]
  },
  {
   "cell_type": "code",
   "execution_count": 43,
   "id": "521abf87",
   "metadata": {
    "ExecuteTime": {
     "end_time": "2022-05-25T11:05:21.396207Z",
     "start_time": "2022-05-25T11:05:04.167165Z"
    },
    "scrolled": true
   },
   "outputs": [
    {
     "data": {
      "text/html": [
       "<div>\n",
       "<style scoped>\n",
       "    .dataframe tbody tr th:only-of-type {\n",
       "        vertical-align: middle;\n",
       "    }\n",
       "\n",
       "    .dataframe tbody tr th {\n",
       "        vertical-align: top;\n",
       "    }\n",
       "\n",
       "    .dataframe thead th {\n",
       "        text-align: right;\n",
       "    }\n",
       "</style>\n",
       "<table border=\"1\" class=\"dataframe\">\n",
       "  <thead>\n",
       "    <tr style=\"text-align: right;\">\n",
       "      <th></th>\n",
       "      <th>customer_id</th>\n",
       "      <th>created_at</th>\n",
       "      <th>pre_discount</th>\n",
       "      <th>post_discount</th>\n",
       "      <th>cashback_amount</th>\n",
       "      <th>discount_amount</th>\n",
       "      <th>total_promotion</th>\n",
       "      <th>push_permission</th>\n",
       "      <th>gender</th>\n",
       "      <th>is_foreigner</th>\n",
       "      <th>...</th>\n",
       "      <th>created-hour</th>\n",
       "      <th>created-minute</th>\n",
       "      <th>birth-year</th>\n",
       "      <th>birth-month</th>\n",
       "      <th>birth-day</th>\n",
       "      <th>age</th>\n",
       "      <th>signup-year</th>\n",
       "      <th>signup-month</th>\n",
       "      <th>signup-day</th>\n",
       "      <th>signup-hour</th>\n",
       "    </tr>\n",
       "  </thead>\n",
       "  <tbody>\n",
       "    <tr>\n",
       "      <th>4146</th>\n",
       "      <td>536616</td>\n",
       "      <td>2019-08-12 02:11:55.432</td>\n",
       "      <td>990</td>\n",
       "      <td>990</td>\n",
       "      <td>0</td>\n",
       "      <td>0</td>\n",
       "      <td>0</td>\n",
       "      <td>True</td>\n",
       "      <td>female</td>\n",
       "      <td>False</td>\n",
       "      <td>...</td>\n",
       "      <td>2</td>\n",
       "      <td>11</td>\n",
       "      <td>1996</td>\n",
       "      <td>2</td>\n",
       "      <td>5</td>\n",
       "      <td>24</td>\n",
       "      <td>2019</td>\n",
       "      <td>8</td>\n",
       "      <td>2</td>\n",
       "      <td>17</td>\n",
       "    </tr>\n",
       "    <tr>\n",
       "      <th>4151</th>\n",
       "      <td>377529</td>\n",
       "      <td>2019-08-11 23:10:47.929</td>\n",
       "      <td>11250</td>\n",
       "      <td>10000</td>\n",
       "      <td>0</td>\n",
       "      <td>1250</td>\n",
       "      <td>1250</td>\n",
       "      <td>False</td>\n",
       "      <td>male</td>\n",
       "      <td>False</td>\n",
       "      <td>...</td>\n",
       "      <td>23</td>\n",
       "      <td>10</td>\n",
       "      <td>1984</td>\n",
       "      <td>12</td>\n",
       "      <td>13</td>\n",
       "      <td>36</td>\n",
       "      <td>2019</td>\n",
       "      <td>7</td>\n",
       "      <td>10</td>\n",
       "      <td>10</td>\n",
       "    </tr>\n",
       "    <tr>\n",
       "      <th>4155</th>\n",
       "      <td>244212</td>\n",
       "      <td>2019-08-17 17:17:48.867</td>\n",
       "      <td>17640</td>\n",
       "      <td>15680</td>\n",
       "      <td>0</td>\n",
       "      <td>1960</td>\n",
       "      <td>1960</td>\n",
       "      <td>False</td>\n",
       "      <td>female</td>\n",
       "      <td>False</td>\n",
       "      <td>...</td>\n",
       "      <td>17</td>\n",
       "      <td>17</td>\n",
       "      <td>1983</td>\n",
       "      <td>5</td>\n",
       "      <td>7</td>\n",
       "      <td>37</td>\n",
       "      <td>2019</td>\n",
       "      <td>8</td>\n",
       "      <td>2</td>\n",
       "      <td>22</td>\n",
       "    </tr>\n",
       "    <tr>\n",
       "      <th>4159</th>\n",
       "      <td>366457</td>\n",
       "      <td>2019-08-26 11:34:07.501</td>\n",
       "      <td>14500</td>\n",
       "      <td>11500</td>\n",
       "      <td>0</td>\n",
       "      <td>3000</td>\n",
       "      <td>3000</td>\n",
       "      <td>True</td>\n",
       "      <td>male</td>\n",
       "      <td>False</td>\n",
       "      <td>...</td>\n",
       "      <td>11</td>\n",
       "      <td>34</td>\n",
       "      <td>1956</td>\n",
       "      <td>1</td>\n",
       "      <td>16</td>\n",
       "      <td>64</td>\n",
       "      <td>2019</td>\n",
       "      <td>6</td>\n",
       "      <td>14</td>\n",
       "      <td>13</td>\n",
       "    </tr>\n",
       "    <tr>\n",
       "      <th>4165</th>\n",
       "      <td>301141</td>\n",
       "      <td>2019-08-11 21:47:03.973</td>\n",
       "      <td>18055</td>\n",
       "      <td>16055</td>\n",
       "      <td>0</td>\n",
       "      <td>2000</td>\n",
       "      <td>2000</td>\n",
       "      <td>True</td>\n",
       "      <td>female</td>\n",
       "      <td>False</td>\n",
       "      <td>...</td>\n",
       "      <td>21</td>\n",
       "      <td>47</td>\n",
       "      <td>1984</td>\n",
       "      <td>1</td>\n",
       "      <td>24</td>\n",
       "      <td>36</td>\n",
       "      <td>2019</td>\n",
       "      <td>6</td>\n",
       "      <td>26</td>\n",
       "      <td>20</td>\n",
       "    </tr>\n",
       "    <tr>\n",
       "      <th>...</th>\n",
       "      <td>...</td>\n",
       "      <td>...</td>\n",
       "      <td>...</td>\n",
       "      <td>...</td>\n",
       "      <td>...</td>\n",
       "      <td>...</td>\n",
       "      <td>...</td>\n",
       "      <td>...</td>\n",
       "      <td>...</td>\n",
       "      <td>...</td>\n",
       "      <td>...</td>\n",
       "      <td>...</td>\n",
       "      <td>...</td>\n",
       "      <td>...</td>\n",
       "      <td>...</td>\n",
       "      <td>...</td>\n",
       "      <td>...</td>\n",
       "      <td>...</td>\n",
       "      <td>...</td>\n",
       "      <td>...</td>\n",
       "      <td>...</td>\n",
       "    </tr>\n",
       "    <tr>\n",
       "      <th>5623785</th>\n",
       "      <td>343621</td>\n",
       "      <td>2019-08-17 17:39:42.667</td>\n",
       "      <td>7020</td>\n",
       "      <td>6240</td>\n",
       "      <td>0</td>\n",
       "      <td>780</td>\n",
       "      <td>780</td>\n",
       "      <td>False</td>\n",
       "      <td>female</td>\n",
       "      <td>False</td>\n",
       "      <td>...</td>\n",
       "      <td>17</td>\n",
       "      <td>39</td>\n",
       "      <td>1983</td>\n",
       "      <td>7</td>\n",
       "      <td>7</td>\n",
       "      <td>37</td>\n",
       "      <td>2019</td>\n",
       "      <td>6</td>\n",
       "      <td>15</td>\n",
       "      <td>1</td>\n",
       "    </tr>\n",
       "    <tr>\n",
       "      <th>5623786</th>\n",
       "      <td>30777</td>\n",
       "      <td>2019-08-19 21:54:50.497</td>\n",
       "      <td>12480</td>\n",
       "      <td>6480</td>\n",
       "      <td>0</td>\n",
       "      <td>6000</td>\n",
       "      <td>6000</td>\n",
       "      <td>False</td>\n",
       "      <td>female</td>\n",
       "      <td>False</td>\n",
       "      <td>...</td>\n",
       "      <td>21</td>\n",
       "      <td>54</td>\n",
       "      <td>1981</td>\n",
       "      <td>9</td>\n",
       "      <td>8</td>\n",
       "      <td>39</td>\n",
       "      <td>2019</td>\n",
       "      <td>8</td>\n",
       "      <td>8</td>\n",
       "      <td>23</td>\n",
       "    </tr>\n",
       "    <tr>\n",
       "      <th>5623787</th>\n",
       "      <td>245229</td>\n",
       "      <td>2019-08-12 15:00:37.629</td>\n",
       "      <td>28800</td>\n",
       "      <td>22800</td>\n",
       "      <td>0</td>\n",
       "      <td>6000</td>\n",
       "      <td>6000</td>\n",
       "      <td>True</td>\n",
       "      <td>female</td>\n",
       "      <td>False</td>\n",
       "      <td>...</td>\n",
       "      <td>15</td>\n",
       "      <td>0</td>\n",
       "      <td>1989</td>\n",
       "      <td>1</td>\n",
       "      <td>17</td>\n",
       "      <td>31</td>\n",
       "      <td>2019</td>\n",
       "      <td>8</td>\n",
       "      <td>12</td>\n",
       "      <td>15</td>\n",
       "    </tr>\n",
       "    <tr>\n",
       "      <th>5623793</th>\n",
       "      <td>95610</td>\n",
       "      <td>2019-08-16 13:22:34.398</td>\n",
       "      <td>16200</td>\n",
       "      <td>14400</td>\n",
       "      <td>0</td>\n",
       "      <td>1800</td>\n",
       "      <td>1800</td>\n",
       "      <td>False</td>\n",
       "      <td>female</td>\n",
       "      <td>False</td>\n",
       "      <td>...</td>\n",
       "      <td>13</td>\n",
       "      <td>22</td>\n",
       "      <td>1984</td>\n",
       "      <td>6</td>\n",
       "      <td>30</td>\n",
       "      <td>36</td>\n",
       "      <td>2019</td>\n",
       "      <td>8</td>\n",
       "      <td>16</td>\n",
       "      <td>13</td>\n",
       "    </tr>\n",
       "    <tr>\n",
       "      <th>5623802</th>\n",
       "      <td>227440</td>\n",
       "      <td>2019-08-29 20:59:35.736</td>\n",
       "      <td>11610</td>\n",
       "      <td>10320</td>\n",
       "      <td>0</td>\n",
       "      <td>1290</td>\n",
       "      <td>1290</td>\n",
       "      <td>True</td>\n",
       "      <td>female</td>\n",
       "      <td>False</td>\n",
       "      <td>...</td>\n",
       "      <td>20</td>\n",
       "      <td>59</td>\n",
       "      <td>1973</td>\n",
       "      <td>10</td>\n",
       "      <td>9</td>\n",
       "      <td>47</td>\n",
       "      <td>2019</td>\n",
       "      <td>6</td>\n",
       "      <td>13</td>\n",
       "      <td>20</td>\n",
       "    </tr>\n",
       "  </tbody>\n",
       "</table>\n",
       "<p>695393 rows × 26 columns</p>\n",
       "</div>"
      ],
      "text/plain": [
       "         customer_id              created_at  pre_discount  post_discount  \\\n",
       "4146          536616 2019-08-12 02:11:55.432           990            990   \n",
       "4151          377529 2019-08-11 23:10:47.929         11250          10000   \n",
       "4155          244212 2019-08-17 17:17:48.867         17640          15680   \n",
       "4159          366457 2019-08-26 11:34:07.501         14500          11500   \n",
       "4165          301141 2019-08-11 21:47:03.973         18055          16055   \n",
       "...              ...                     ...           ...            ...   \n",
       "5623785       343621 2019-08-17 17:39:42.667          7020           6240   \n",
       "5623786        30777 2019-08-19 21:54:50.497         12480           6480   \n",
       "5623787       245229 2019-08-12 15:00:37.629         28800          22800   \n",
       "5623793        95610 2019-08-16 13:22:34.398         16200          14400   \n",
       "5623802       227440 2019-08-29 20:59:35.736         11610          10320   \n",
       "\n",
       "         cashback_amount  discount_amount  total_promotion  push_permission  \\\n",
       "4146                   0                0                0             True   \n",
       "4151                   0             1250             1250            False   \n",
       "4155                   0             1960             1960            False   \n",
       "4159                   0             3000             3000             True   \n",
       "4165                   0             2000             2000             True   \n",
       "...                  ...              ...              ...              ...   \n",
       "5623785                0              780              780            False   \n",
       "5623786                0             6000             6000            False   \n",
       "5623787                0             6000             6000             True   \n",
       "5623793                0             1800             1800            False   \n",
       "5623802                0             1290             1290             True   \n",
       "\n",
       "         gender  is_foreigner  ... created-hour created-minute  birth-year  \\\n",
       "4146     female         False  ...            2             11        1996   \n",
       "4151       male         False  ...           23             10        1984   \n",
       "4155     female         False  ...           17             17        1983   \n",
       "4159       male         False  ...           11             34        1956   \n",
       "4165     female         False  ...           21             47        1984   \n",
       "...         ...           ...  ...          ...            ...         ...   \n",
       "5623785  female         False  ...           17             39        1983   \n",
       "5623786  female         False  ...           21             54        1981   \n",
       "5623787  female         False  ...           15              0        1989   \n",
       "5623793  female         False  ...           13             22        1984   \n",
       "5623802  female         False  ...           20             59        1973   \n",
       "\n",
       "         birth-month  birth-day  age  signup-year  signup-month  signup-day  \\\n",
       "4146               2          5   24         2019             8           2   \n",
       "4151              12         13   36         2019             7          10   \n",
       "4155               5          7   37         2019             8           2   \n",
       "4159               1         16   64         2019             6          14   \n",
       "4165               1         24   36         2019             6          26   \n",
       "...              ...        ...  ...          ...           ...         ...   \n",
       "5623785            7          7   37         2019             6          15   \n",
       "5623786            9          8   39         2019             8           8   \n",
       "5623787            1         17   31         2019             8          12   \n",
       "5623793            6         30   36         2019             8          16   \n",
       "5623802           10          9   47         2019             6          13   \n",
       "\n",
       "         signup-hour  \n",
       "4146              17  \n",
       "4151              10  \n",
       "4155              22  \n",
       "4159              13  \n",
       "4165              20  \n",
       "...              ...  \n",
       "5623785            1  \n",
       "5623786           23  \n",
       "5623787           15  \n",
       "5623793           13  \n",
       "5623802           20  \n",
       "\n",
       "[695393 rows x 26 columns]"
      ]
     },
     "execution_count": 43,
     "metadata": {},
     "output_type": "execute_result"
    }
   ],
   "source": [
    "august = chai[chai['created-month']== 8]\n",
    "august"
   ]
  },
  {
   "cell_type": "code",
   "execution_count": 44,
   "id": "2ff01e5a",
   "metadata": {
    "ExecuteTime": {
     "end_time": "2022-05-25T11:07:03.313027Z",
     "start_time": "2022-05-25T11:07:03.123024Z"
    }
   },
   "outputs": [
    {
     "data": {
      "text/plain": [
       "10140004315"
      ]
     },
     "execution_count": 44,
     "metadata": {},
     "output_type": "execute_result"
    }
   ],
   "source": [
    "august['post_discount'].sum() "
   ]
  },
  {
   "cell_type": "code",
   "execution_count": 45,
   "id": "dde90060",
   "metadata": {
    "ExecuteTime": {
     "end_time": "2022-05-25T12:23:55.316011Z",
     "start_time": "2022-05-25T12:23:54.930258Z"
    }
   },
   "outputs": [
    {
     "data": {
      "text/plain": [
       "1593204763"
      ]
     },
     "execution_count": 45,
     "metadata": {},
     "output_type": "execute_result"
    }
   ],
   "source": [
    "august['total_promotion'].sum()"
   ]
  },
  {
   "cell_type": "code",
   "execution_count": 46,
   "id": "94a06ba2",
   "metadata": {
    "ExecuteTime": {
     "end_time": "2022-05-25T12:27:04.048355Z",
     "start_time": "2022-05-25T12:27:03.508635Z"
    }
   },
   "outputs": [
    {
     "data": {
      "text/plain": [
       "6.364533015772813"
      ]
     },
     "execution_count": 46,
     "metadata": {},
     "output_type": "execute_result"
    }
   ],
   "source": [
    "# 8월 ROAS : 광고를 통해 발생한 수익 / 광고비용\n",
    "august['post_discount'].sum() / august['total_promotion'].sum()"
   ]
  },
  {
   "cell_type": "code",
   "execution_count": 47,
   "id": "225aed71",
   "metadata": {
    "ExecuteTime": {
     "end_time": "2022-05-25T12:29:03.720703Z",
     "start_time": "2022-05-25T12:28:44.656078Z"
    }
   },
   "outputs": [
    {
     "data": {
      "text/html": [
       "<div>\n",
       "<style scoped>\n",
       "    .dataframe tbody tr th:only-of-type {\n",
       "        vertical-align: middle;\n",
       "    }\n",
       "\n",
       "    .dataframe tbody tr th {\n",
       "        vertical-align: top;\n",
       "    }\n",
       "\n",
       "    .dataframe thead th {\n",
       "        text-align: right;\n",
       "    }\n",
       "</style>\n",
       "<table border=\"1\" class=\"dataframe\">\n",
       "  <thead>\n",
       "    <tr style=\"text-align: right;\">\n",
       "      <th></th>\n",
       "      <th>customer_id</th>\n",
       "      <th>created_at</th>\n",
       "      <th>pre_discount</th>\n",
       "      <th>post_discount</th>\n",
       "      <th>cashback_amount</th>\n",
       "      <th>discount_amount</th>\n",
       "      <th>total_promotion</th>\n",
       "      <th>push_permission</th>\n",
       "      <th>gender</th>\n",
       "      <th>is_foreigner</th>\n",
       "      <th>...</th>\n",
       "      <th>created-hour</th>\n",
       "      <th>created-minute</th>\n",
       "      <th>birth-year</th>\n",
       "      <th>birth-month</th>\n",
       "      <th>birth-day</th>\n",
       "      <th>age</th>\n",
       "      <th>signup-year</th>\n",
       "      <th>signup-month</th>\n",
       "      <th>signup-day</th>\n",
       "      <th>signup-hour</th>\n",
       "    </tr>\n",
       "  </thead>\n",
       "  <tbody>\n",
       "    <tr>\n",
       "      <th>6</th>\n",
       "      <td>31330</td>\n",
       "      <td>2020-01-07 21:03:33.007</td>\n",
       "      <td>32100</td>\n",
       "      <td>31100</td>\n",
       "      <td>1605</td>\n",
       "      <td>1000</td>\n",
       "      <td>2605</td>\n",
       "      <td>True</td>\n",
       "      <td>female</td>\n",
       "      <td>False</td>\n",
       "      <td>...</td>\n",
       "      <td>21</td>\n",
       "      <td>3</td>\n",
       "      <td>1974</td>\n",
       "      <td>2</td>\n",
       "      <td>16</td>\n",
       "      <td>46</td>\n",
       "      <td>2019</td>\n",
       "      <td>6</td>\n",
       "      <td>19</td>\n",
       "      <td>10</td>\n",
       "    </tr>\n",
       "    <tr>\n",
       "      <th>9</th>\n",
       "      <td>168043</td>\n",
       "      <td>2020-01-21 20:02:59.730</td>\n",
       "      <td>26750</td>\n",
       "      <td>25750</td>\n",
       "      <td>1337</td>\n",
       "      <td>1000</td>\n",
       "      <td>2337</td>\n",
       "      <td>True</td>\n",
       "      <td>male</td>\n",
       "      <td>False</td>\n",
       "      <td>...</td>\n",
       "      <td>20</td>\n",
       "      <td>2</td>\n",
       "      <td>1977</td>\n",
       "      <td>3</td>\n",
       "      <td>21</td>\n",
       "      <td>43</td>\n",
       "      <td>2019</td>\n",
       "      <td>11</td>\n",
       "      <td>18</td>\n",
       "      <td>17</td>\n",
       "    </tr>\n",
       "    <tr>\n",
       "      <th>14</th>\n",
       "      <td>309564</td>\n",
       "      <td>2020-01-20 05:54:34.147</td>\n",
       "      <td>3720</td>\n",
       "      <td>3720</td>\n",
       "      <td>186</td>\n",
       "      <td>0</td>\n",
       "      <td>186</td>\n",
       "      <td>True</td>\n",
       "      <td>female</td>\n",
       "      <td>False</td>\n",
       "      <td>...</td>\n",
       "      <td>5</td>\n",
       "      <td>54</td>\n",
       "      <td>1978</td>\n",
       "      <td>1</td>\n",
       "      <td>11</td>\n",
       "      <td>42</td>\n",
       "      <td>2019</td>\n",
       "      <td>7</td>\n",
       "      <td>26</td>\n",
       "      <td>16</td>\n",
       "    </tr>\n",
       "    <tr>\n",
       "      <th>15</th>\n",
       "      <td>47489</td>\n",
       "      <td>2020-01-25 08:05:22.665</td>\n",
       "      <td>9890</td>\n",
       "      <td>9890</td>\n",
       "      <td>494</td>\n",
       "      <td>0</td>\n",
       "      <td>494</td>\n",
       "      <td>False</td>\n",
       "      <td>female</td>\n",
       "      <td>False</td>\n",
       "      <td>...</td>\n",
       "      <td>8</td>\n",
       "      <td>5</td>\n",
       "      <td>1988</td>\n",
       "      <td>10</td>\n",
       "      <td>7</td>\n",
       "      <td>32</td>\n",
       "      <td>2019</td>\n",
       "      <td>10</td>\n",
       "      <td>24</td>\n",
       "      <td>18</td>\n",
       "    </tr>\n",
       "    <tr>\n",
       "      <th>29</th>\n",
       "      <td>229733</td>\n",
       "      <td>2020-01-25 09:35:00.042</td>\n",
       "      <td>24280</td>\n",
       "      <td>23280</td>\n",
       "      <td>1214</td>\n",
       "      <td>1000</td>\n",
       "      <td>2214</td>\n",
       "      <td>True</td>\n",
       "      <td>female</td>\n",
       "      <td>False</td>\n",
       "      <td>...</td>\n",
       "      <td>9</td>\n",
       "      <td>35</td>\n",
       "      <td>1980</td>\n",
       "      <td>2</td>\n",
       "      <td>19</td>\n",
       "      <td>40</td>\n",
       "      <td>2019</td>\n",
       "      <td>11</td>\n",
       "      <td>19</td>\n",
       "      <td>3</td>\n",
       "    </tr>\n",
       "    <tr>\n",
       "      <th>...</th>\n",
       "      <td>...</td>\n",
       "      <td>...</td>\n",
       "      <td>...</td>\n",
       "      <td>...</td>\n",
       "      <td>...</td>\n",
       "      <td>...</td>\n",
       "      <td>...</td>\n",
       "      <td>...</td>\n",
       "      <td>...</td>\n",
       "      <td>...</td>\n",
       "      <td>...</td>\n",
       "      <td>...</td>\n",
       "      <td>...</td>\n",
       "      <td>...</td>\n",
       "      <td>...</td>\n",
       "      <td>...</td>\n",
       "      <td>...</td>\n",
       "      <td>...</td>\n",
       "      <td>...</td>\n",
       "      <td>...</td>\n",
       "      <td>...</td>\n",
       "    </tr>\n",
       "    <tr>\n",
       "      <th>5623794</th>\n",
       "      <td>278855</td>\n",
       "      <td>2020-01-12 11:53:14.906</td>\n",
       "      <td>860</td>\n",
       "      <td>860</td>\n",
       "      <td>0</td>\n",
       "      <td>0</td>\n",
       "      <td>0</td>\n",
       "      <td>True</td>\n",
       "      <td>male</td>\n",
       "      <td>False</td>\n",
       "      <td>...</td>\n",
       "      <td>11</td>\n",
       "      <td>53</td>\n",
       "      <td>1984</td>\n",
       "      <td>1</td>\n",
       "      <td>2</td>\n",
       "      <td>36</td>\n",
       "      <td>2019</td>\n",
       "      <td>11</td>\n",
       "      <td>23</td>\n",
       "      <td>14</td>\n",
       "    </tr>\n",
       "    <tr>\n",
       "      <th>5623795</th>\n",
       "      <td>95339</td>\n",
       "      <td>2020-01-17 22:32:50.242</td>\n",
       "      <td>6900</td>\n",
       "      <td>6900</td>\n",
       "      <td>0</td>\n",
       "      <td>0</td>\n",
       "      <td>0</td>\n",
       "      <td>True</td>\n",
       "      <td>female</td>\n",
       "      <td>False</td>\n",
       "      <td>...</td>\n",
       "      <td>22</td>\n",
       "      <td>32</td>\n",
       "      <td>1990</td>\n",
       "      <td>3</td>\n",
       "      <td>2</td>\n",
       "      <td>30</td>\n",
       "      <td>2019</td>\n",
       "      <td>7</td>\n",
       "      <td>31</td>\n",
       "      <td>21</td>\n",
       "    </tr>\n",
       "    <tr>\n",
       "      <th>5623801</th>\n",
       "      <td>303304</td>\n",
       "      <td>2020-01-31 22:56:06.193</td>\n",
       "      <td>10800</td>\n",
       "      <td>9800</td>\n",
       "      <td>0</td>\n",
       "      <td>1000</td>\n",
       "      <td>1000</td>\n",
       "      <td>True</td>\n",
       "      <td>female</td>\n",
       "      <td>False</td>\n",
       "      <td>...</td>\n",
       "      <td>22</td>\n",
       "      <td>56</td>\n",
       "      <td>1986</td>\n",
       "      <td>7</td>\n",
       "      <td>11</td>\n",
       "      <td>34</td>\n",
       "      <td>2019</td>\n",
       "      <td>9</td>\n",
       "      <td>19</td>\n",
       "      <td>1</td>\n",
       "    </tr>\n",
       "    <tr>\n",
       "      <th>5623803</th>\n",
       "      <td>272949</td>\n",
       "      <td>2020-01-14 10:00:48.964</td>\n",
       "      <td>11900</td>\n",
       "      <td>10900</td>\n",
       "      <td>0</td>\n",
       "      <td>1000</td>\n",
       "      <td>1000</td>\n",
       "      <td>False</td>\n",
       "      <td>female</td>\n",
       "      <td>False</td>\n",
       "      <td>...</td>\n",
       "      <td>10</td>\n",
       "      <td>0</td>\n",
       "      <td>1984</td>\n",
       "      <td>6</td>\n",
       "      <td>3</td>\n",
       "      <td>36</td>\n",
       "      <td>2019</td>\n",
       "      <td>6</td>\n",
       "      <td>17</td>\n",
       "      <td>11</td>\n",
       "    </tr>\n",
       "    <tr>\n",
       "      <th>5623807</th>\n",
       "      <td>298192</td>\n",
       "      <td>2020-01-05 01:55:28.331</td>\n",
       "      <td>19790</td>\n",
       "      <td>18790</td>\n",
       "      <td>0</td>\n",
       "      <td>1000</td>\n",
       "      <td>1000</td>\n",
       "      <td>True</td>\n",
       "      <td>female</td>\n",
       "      <td>False</td>\n",
       "      <td>...</td>\n",
       "      <td>1</td>\n",
       "      <td>55</td>\n",
       "      <td>1985</td>\n",
       "      <td>4</td>\n",
       "      <td>6</td>\n",
       "      <td>35</td>\n",
       "      <td>2019</td>\n",
       "      <td>9</td>\n",
       "      <td>13</td>\n",
       "      <td>17</td>\n",
       "    </tr>\n",
       "  </tbody>\n",
       "</table>\n",
       "<p>938568 rows × 26 columns</p>\n",
       "</div>"
      ],
      "text/plain": [
       "         customer_id              created_at  pre_discount  post_discount  \\\n",
       "6              31330 2020-01-07 21:03:33.007         32100          31100   \n",
       "9             168043 2020-01-21 20:02:59.730         26750          25750   \n",
       "14            309564 2020-01-20 05:54:34.147          3720           3720   \n",
       "15             47489 2020-01-25 08:05:22.665          9890           9890   \n",
       "29            229733 2020-01-25 09:35:00.042         24280          23280   \n",
       "...              ...                     ...           ...            ...   \n",
       "5623794       278855 2020-01-12 11:53:14.906           860            860   \n",
       "5623795        95339 2020-01-17 22:32:50.242          6900           6900   \n",
       "5623801       303304 2020-01-31 22:56:06.193         10800           9800   \n",
       "5623803       272949 2020-01-14 10:00:48.964         11900          10900   \n",
       "5623807       298192 2020-01-05 01:55:28.331         19790          18790   \n",
       "\n",
       "         cashback_amount  discount_amount  total_promotion  push_permission  \\\n",
       "6                   1605             1000             2605             True   \n",
       "9                   1337             1000             2337             True   \n",
       "14                   186                0              186             True   \n",
       "15                   494                0              494            False   \n",
       "29                  1214             1000             2214             True   \n",
       "...                  ...              ...              ...              ...   \n",
       "5623794                0                0                0             True   \n",
       "5623795                0                0                0             True   \n",
       "5623801                0             1000             1000             True   \n",
       "5623803                0             1000             1000            False   \n",
       "5623807                0             1000             1000             True   \n",
       "\n",
       "         gender  is_foreigner  ... created-hour created-minute  birth-year  \\\n",
       "6        female         False  ...           21              3        1974   \n",
       "9          male         False  ...           20              2        1977   \n",
       "14       female         False  ...            5             54        1978   \n",
       "15       female         False  ...            8              5        1988   \n",
       "29       female         False  ...            9             35        1980   \n",
       "...         ...           ...  ...          ...            ...         ...   \n",
       "5623794    male         False  ...           11             53        1984   \n",
       "5623795  female         False  ...           22             32        1990   \n",
       "5623801  female         False  ...           22             56        1986   \n",
       "5623803  female         False  ...           10              0        1984   \n",
       "5623807  female         False  ...            1             55        1985   \n",
       "\n",
       "         birth-month  birth-day  age  signup-year  signup-month  signup-day  \\\n",
       "6                  2         16   46         2019             6          19   \n",
       "9                  3         21   43         2019            11          18   \n",
       "14                 1         11   42         2019             7          26   \n",
       "15                10          7   32         2019            10          24   \n",
       "29                 2         19   40         2019            11          19   \n",
       "...              ...        ...  ...          ...           ...         ...   \n",
       "5623794            1          2   36         2019            11          23   \n",
       "5623795            3          2   30         2019             7          31   \n",
       "5623801            7         11   34         2019             9          19   \n",
       "5623803            6          3   36         2019             6          17   \n",
       "5623807            4          6   35         2019             9          13   \n",
       "\n",
       "         signup-hour  \n",
       "6                 10  \n",
       "9                 17  \n",
       "14                16  \n",
       "15                18  \n",
       "29                 3  \n",
       "...              ...  \n",
       "5623794           14  \n",
       "5623795           21  \n",
       "5623801            1  \n",
       "5623803           11  \n",
       "5623807           17  \n",
       "\n",
       "[938568 rows x 26 columns]"
      ]
     },
     "execution_count": 47,
     "metadata": {},
     "output_type": "execute_result"
    }
   ],
   "source": [
    "jan = chai[chai['created-month'] == 1]\n",
    "jan"
   ]
  },
  {
   "cell_type": "code",
   "execution_count": 48,
   "id": "5580fc17",
   "metadata": {
    "ExecuteTime": {
     "end_time": "2022-05-25T12:30:42.790100Z",
     "start_time": "2022-05-25T12:30:42.457616Z"
    }
   },
   "outputs": [
    {
     "data": {
      "text/plain": [
       "14.69271732416529"
      ]
     },
     "execution_count": 48,
     "metadata": {},
     "output_type": "execute_result"
    }
   ],
   "source": [
    "# 1월 ROAS : 광고를 통해 발생한 수익 / 광고비용 \n",
    "jan['post_discount'].sum() / jan['total_promotion'].sum()"
   ]
  },
  {
   "cell_type": "code",
   "execution_count": null,
   "id": "30b5bee1",
   "metadata": {},
   "outputs": [],
   "source": []
  },
  {
   "cell_type": "markdown",
   "id": "0d311e9d",
   "metadata": {},
   "source": [
    "> 개인화된 push_notification \n",
    "- 머신러닝과 데이터분석 a-z 올인원패키지 강의에서 가져옴"
   ]
  },
  {
   "cell_type": "code",
   "execution_count": 38,
   "id": "979410d1",
   "metadata": {
    "ExecuteTime": {
     "end_time": "2022-05-13T02:27:58.678248Z",
     "start_time": "2022-05-13T02:27:31.325890Z"
    }
   },
   "outputs": [
    {
     "data": {
      "text/plain": [
       "customer_id  created_at\n",
       "1            10            1\n",
       "             18            1\n",
       "2            17            1\n",
       "             20            1\n",
       "3            16            1\n",
       "                          ..\n",
       "544921       18            1\n",
       "             19            1\n",
       "             21            1\n",
       "             22            1\n",
       "             23            1\n",
       "Name: post_discount, Length: 2716958, dtype: int64"
      ]
     },
     "execution_count": 38,
     "metadata": {},
     "output_type": "execute_result"
    }
   ],
   "source": [
    "# 각 개인별 created 시간대와 created 건수\n",
    "order_count_by_hour = chai.set_index('created_at').groupby(['customer_id',lambda date:date.hour])['post_discount'].count()\n",
    "order_count_by_hour"
   ]
  },
  {
   "cell_type": "code",
   "execution_count": 39,
   "id": "ad1620c7",
   "metadata": {
    "ExecuteTime": {
     "end_time": "2022-05-13T02:30:05.532698Z",
     "start_time": "2022-05-13T02:30:05.437694Z"
    }
   },
   "outputs": [
    {
     "data": {
      "text/plain": [
       "created_at\n",
       "9     1\n",
       "13    1\n",
       "14    3\n",
       "18    1\n",
       "19    1\n",
       "21    1\n",
       "22    1\n",
       "23    1\n",
       "Name: post_discount, dtype: int64"
      ]
     },
     "execution_count": 39,
     "metadata": {},
     "output_type": "execute_result"
    }
   ],
   "source": [
    "# 544921 번의 경우 오후 2시 주문건수가 가장 많기때문에 이 시간이 푸시하기 가장 좋은 시간\n",
    "order_count_by_hour.loc[544921]"
   ]
  },
  {
   "cell_type": "code",
   "execution_count": null,
   "id": "ad562adf",
   "metadata": {},
   "outputs": [],
   "source": [
    "# 사용자별 최대 주문시간 계산하기"
   ]
  },
  {
   "cell_type": "code",
   "execution_count": 42,
   "id": "47adbfea",
   "metadata": {
    "ExecuteTime": {
     "end_time": "2022-05-13T02:38:26.509219Z",
     "start_time": "2022-05-13T02:35:00.823452Z"
    }
   },
   "outputs": [
    {
     "data": {
      "text/plain": [
       "customer_id\n",
       "1              (1, 10)\n",
       "2              (2, 17)\n",
       "3              (3, 16)\n",
       "4              (4, 21)\n",
       "5              (5, 12)\n",
       "              ...     \n",
       "544917     (544917, 1)\n",
       "544918     (544918, 1)\n",
       "544919    (544919, 10)\n",
       "544920     (544920, 8)\n",
       "544921    (544921, 14)\n",
       "Name: post_discount, Length: 544921, dtype: object"
      ]
     },
     "execution_count": 42,
     "metadata": {},
     "output_type": "execute_result"
    }
   ],
   "source": [
    "# 가장 많은 주문량을 보인 시간을 인덱스로 뽑기 \n",
    "idx = order_count_by_hour.groupby('customer_id').idxmax()\n",
    "idx"
   ]
  },
  {
   "cell_type": "code",
   "execution_count": null,
   "id": "94bf9f81",
   "metadata": {},
   "outputs": [],
   "source": [
    "# 해당시간 인덱싱 - 사용자별로 어떤시간에 최대 구매건수를 보이는지 뽑음"
   ]
  },
  {
   "cell_type": "code",
   "execution_count": 87,
   "id": "9e3371b4",
   "metadata": {
    "ExecuteTime": {
     "end_time": "2022-05-13T05:04:49.278643Z",
     "start_time": "2022-05-13T05:04:28.826743Z"
    }
   },
   "outputs": [
    {
     "data": {
      "text/plain": [
       "customer_id  created_at\n",
       "1            10             1\n",
       "2            17             1\n",
       "3            16             1\n",
       "4            21             2\n",
       "5            12             2\n",
       "                           ..\n",
       "544917       1              2\n",
       "544918       1              4\n",
       "544919       10            23\n",
       "544920       8              1\n",
       "544921       14             3\n",
       "Name: post_discount, Length: 544921, dtype: int64"
      ]
     },
     "execution_count": 87,
     "metadata": {},
     "output_type": "execute_result"
    }
   ],
   "source": [
    "# 사용자별로 어떤 시간대에 최대의 구매건수가 일어났는지 \n",
    "result = order_count_by_hour.loc[idx]\n",
    "result"
   ]
  },
  {
   "cell_type": "code",
   "execution_count": null,
   "id": "fc2555f7",
   "metadata": {},
   "outputs": [],
   "source": [
    "result.reset_index()"
   ]
  },
  {
   "cell_type": "code",
   "execution_count": null,
   "id": "56b336e0",
   "metadata": {},
   "outputs": [],
   "source": [
    "# 시간대별로 주문을 많이한 사용자들에게 for문을 돌려\n",
    "# 앱 푸시를 개인화 해서 보내고 앱 사용확률을 높일 수 있다. \n",
    "\n",
    "result.reset_index().groupby('created_at').groups"
   ]
  },
  {
   "cell_type": "code",
   "execution_count": null,
   "id": "be7488ea",
   "metadata": {},
   "outputs": [],
   "source": []
  },
  {
   "cell_type": "code",
   "execution_count": null,
   "id": "61f94c44",
   "metadata": {},
   "outputs": [],
   "source": []
  },
  {
   "cell_type": "markdown",
   "id": "0bc478ea",
   "metadata": {},
   "source": [
    "> 헤비유저 특징 분석"
   ]
  },
  {
   "cell_type": "code",
   "execution_count": null,
   "id": "5b216a59",
   "metadata": {},
   "outputs": [],
   "source": [
    "# 우수고객 확인"
   ]
  },
  {
   "cell_type": "code",
   "execution_count": 21,
   "id": "41f08330",
   "metadata": {
    "ExecuteTime": {
     "end_time": "2022-07-30T08:17:31.680404Z",
     "start_time": "2022-07-30T08:17:27.858821Z"
    },
    "scrolled": true
   },
   "outputs": [
    {
     "data": {
      "text/html": [
       "<div>\n",
       "<style scoped>\n",
       "    .dataframe tbody tr th:only-of-type {\n",
       "        vertical-align: middle;\n",
       "    }\n",
       "\n",
       "    .dataframe tbody tr th {\n",
       "        vertical-align: top;\n",
       "    }\n",
       "\n",
       "    .dataframe thead th {\n",
       "        text-align: right;\n",
       "    }\n",
       "</style>\n",
       "<table border=\"1\" class=\"dataframe\">\n",
       "  <thead>\n",
       "    <tr style=\"text-align: right;\">\n",
       "      <th></th>\n",
       "      <th>created_at</th>\n",
       "    </tr>\n",
       "    <tr>\n",
       "      <th>customer_id</th>\n",
       "      <th></th>\n",
       "    </tr>\n",
       "  </thead>\n",
       "  <tbody>\n",
       "    <tr>\n",
       "      <th>45419</th>\n",
       "      <td>2705</td>\n",
       "    </tr>\n",
       "    <tr>\n",
       "      <th>445691</th>\n",
       "      <td>2630</td>\n",
       "    </tr>\n",
       "    <tr>\n",
       "      <th>485910</th>\n",
       "      <td>1684</td>\n",
       "    </tr>\n",
       "    <tr>\n",
       "      <th>400418</th>\n",
       "      <td>1363</td>\n",
       "    </tr>\n",
       "    <tr>\n",
       "      <th>96306</th>\n",
       "      <td>1229</td>\n",
       "    </tr>\n",
       "    <tr>\n",
       "      <th>...</th>\n",
       "      <td>...</td>\n",
       "    </tr>\n",
       "    <tr>\n",
       "      <th>433286</th>\n",
       "      <td>1</td>\n",
       "    </tr>\n",
       "    <tr>\n",
       "      <th>101310</th>\n",
       "      <td>1</td>\n",
       "    </tr>\n",
       "    <tr>\n",
       "      <th>365346</th>\n",
       "      <td>1</td>\n",
       "    </tr>\n",
       "    <tr>\n",
       "      <th>433289</th>\n",
       "      <td>1</td>\n",
       "    </tr>\n",
       "    <tr>\n",
       "      <th>141078</th>\n",
       "      <td>1</td>\n",
       "    </tr>\n",
       "  </tbody>\n",
       "</table>\n",
       "<p>544921 rows × 1 columns</p>\n",
       "</div>"
      ],
      "text/plain": [
       "             created_at\n",
       "customer_id            \n",
       "45419              2705\n",
       "445691             2630\n",
       "485910             1684\n",
       "400418             1363\n",
       "96306              1229\n",
       "...                 ...\n",
       "433286                1\n",
       "101310                1\n",
       "365346                1\n",
       "433289                1\n",
       "141078                1\n",
       "\n",
       "[544921 rows x 1 columns]"
      ]
     },
     "execution_count": 21,
     "metadata": {},
     "output_type": "execute_result"
    }
   ],
   "source": [
    "# created_at 건수기준 우수고객\n",
    "count_created = pd.pivot_table(chai, index='customer_id',values='created_at',aggfunc='count')\n",
    "count_created.sort_values(by='created_at',ascending=False)"
   ]
  },
  {
   "cell_type": "code",
   "execution_count": 22,
   "id": "37bddc48",
   "metadata": {
    "ExecuteTime": {
     "end_time": "2022-07-30T08:18:29.166371Z",
     "start_time": "2022-07-30T08:18:28.350057Z"
    }
   },
   "outputs": [
    {
     "data": {
      "text/plain": [
       "13"
      ]
     },
     "execution_count": 22,
     "metadata": {},
     "output_type": "execute_result"
    }
   ],
   "source": [
    "count_created['created_at'].quantile(q=0.8, interpolation='nearest')"
   ]
  },
  {
   "cell_type": "code",
   "execution_count": 33,
   "id": "fc4fc6e7",
   "metadata": {
    "ExecuteTime": {
     "end_time": "2022-05-13T02:04:46.069490Z",
     "start_time": "2022-05-13T02:04:46.028494Z"
    }
   },
   "outputs": [
    {
     "data": {
      "text/html": [
       "<div>\n",
       "<style scoped>\n",
       "    .dataframe tbody tr th:only-of-type {\n",
       "        vertical-align: middle;\n",
       "    }\n",
       "\n",
       "    .dataframe tbody tr th {\n",
       "        vertical-align: top;\n",
       "    }\n",
       "\n",
       "    .dataframe thead th {\n",
       "        text-align: right;\n",
       "    }\n",
       "</style>\n",
       "<table border=\"1\" class=\"dataframe\">\n",
       "  <thead>\n",
       "    <tr style=\"text-align: right;\">\n",
       "      <th></th>\n",
       "      <th>count_created</th>\n",
       "    </tr>\n",
       "    <tr>\n",
       "      <th>customer_id</th>\n",
       "      <th></th>\n",
       "    </tr>\n",
       "  </thead>\n",
       "  <tbody>\n",
       "    <tr>\n",
       "      <th>1</th>\n",
       "      <td>2</td>\n",
       "    </tr>\n",
       "    <tr>\n",
       "      <th>2</th>\n",
       "      <td>2</td>\n",
       "    </tr>\n",
       "    <tr>\n",
       "      <th>3</th>\n",
       "      <td>1</td>\n",
       "    </tr>\n",
       "    <tr>\n",
       "      <th>4</th>\n",
       "      <td>8</td>\n",
       "    </tr>\n",
       "    <tr>\n",
       "      <th>5</th>\n",
       "      <td>6</td>\n",
       "    </tr>\n",
       "    <tr>\n",
       "      <th>...</th>\n",
       "      <td>...</td>\n",
       "    </tr>\n",
       "    <tr>\n",
       "      <th>544917</th>\n",
       "      <td>2</td>\n",
       "    </tr>\n",
       "    <tr>\n",
       "      <th>544918</th>\n",
       "      <td>21</td>\n",
       "    </tr>\n",
       "    <tr>\n",
       "      <th>544919</th>\n",
       "      <td>43</td>\n",
       "    </tr>\n",
       "    <tr>\n",
       "      <th>544920</th>\n",
       "      <td>7</td>\n",
       "    </tr>\n",
       "    <tr>\n",
       "      <th>544921</th>\n",
       "      <td>10</td>\n",
       "    </tr>\n",
       "  </tbody>\n",
       "</table>\n",
       "<p>544921 rows × 1 columns</p>\n",
       "</div>"
      ],
      "text/plain": [
       "             count_created\n",
       "customer_id               \n",
       "1                        2\n",
       "2                        2\n",
       "3                        1\n",
       "4                        8\n",
       "5                        6\n",
       "...                    ...\n",
       "544917                   2\n",
       "544918                  21\n",
       "544919                  43\n",
       "544920                   7\n",
       "544921                  10\n",
       "\n",
       "[544921 rows x 1 columns]"
      ]
     },
     "execution_count": 33,
     "metadata": {},
     "output_type": "execute_result"
    }
   ],
   "source": [
    "# 카운트된 created_at 컬럼을 count_created 컬럼으로 변경\n",
    "count_created = count_created.rename(columns={'created_at':'count_created'})\n",
    "count_created"
   ]
  },
  {
   "cell_type": "code",
   "execution_count": 34,
   "id": "6927942e",
   "metadata": {
    "ExecuteTime": {
     "end_time": "2022-05-13T02:05:41.522593Z",
     "start_time": "2022-05-13T02:04:50.949928Z"
    },
    "scrolled": true
   },
   "outputs": [
    {
     "data": {
      "text/html": [
       "<div>\n",
       "<style scoped>\n",
       "    .dataframe tbody tr th:only-of-type {\n",
       "        vertical-align: middle;\n",
       "    }\n",
       "\n",
       "    .dataframe tbody tr th {\n",
       "        vertical-align: top;\n",
       "    }\n",
       "\n",
       "    .dataframe thead th {\n",
       "        text-align: right;\n",
       "    }\n",
       "</style>\n",
       "<table border=\"1\" class=\"dataframe\">\n",
       "  <thead>\n",
       "    <tr style=\"text-align: right;\">\n",
       "      <th></th>\n",
       "      <th>customer_id</th>\n",
       "      <th>created_at</th>\n",
       "      <th>pre_discount</th>\n",
       "      <th>post_discount</th>\n",
       "      <th>cashback_amount</th>\n",
       "      <th>discount_amount</th>\n",
       "      <th>total_promotion</th>\n",
       "      <th>push_permission</th>\n",
       "      <th>gender</th>\n",
       "      <th>is_foreigner</th>\n",
       "      <th>birthday</th>\n",
       "      <th>sign_up_date</th>\n",
       "      <th>merchant_id</th>\n",
       "      <th>created-year</th>\n",
       "      <th>created-month</th>\n",
       "      <th>created-day</th>\n",
       "      <th>created-hour</th>\n",
       "      <th>created-minute</th>\n",
       "      <th>count_created</th>\n",
       "    </tr>\n",
       "  </thead>\n",
       "  <tbody>\n",
       "    <tr>\n",
       "      <th>0</th>\n",
       "      <td>1</td>\n",
       "      <td>2019-08-27 10:46:45.237</td>\n",
       "      <td>14220</td>\n",
       "      <td>12640</td>\n",
       "      <td>0</td>\n",
       "      <td>1580</td>\n",
       "      <td>1580</td>\n",
       "      <td>False</td>\n",
       "      <td>female</td>\n",
       "      <td>False</td>\n",
       "      <td>1986-03-26</td>\n",
       "      <td>2019-08-25 18:28:34.815</td>\n",
       "      <td>2</td>\n",
       "      <td>2019</td>\n",
       "      <td>8</td>\n",
       "      <td>27</td>\n",
       "      <td>10</td>\n",
       "      <td>46</td>\n",
       "      <td>2</td>\n",
       "    </tr>\n",
       "    <tr>\n",
       "      <th>1</th>\n",
       "      <td>1</td>\n",
       "      <td>2019-08-25 18:41:15.118</td>\n",
       "      <td>10110</td>\n",
       "      <td>6320</td>\n",
       "      <td>0</td>\n",
       "      <td>3790</td>\n",
       "      <td>3790</td>\n",
       "      <td>False</td>\n",
       "      <td>female</td>\n",
       "      <td>False</td>\n",
       "      <td>1986-03-26</td>\n",
       "      <td>2019-08-25 18:28:34.815</td>\n",
       "      <td>6</td>\n",
       "      <td>2019</td>\n",
       "      <td>8</td>\n",
       "      <td>25</td>\n",
       "      <td>18</td>\n",
       "      <td>41</td>\n",
       "      <td>2</td>\n",
       "    </tr>\n",
       "    <tr>\n",
       "      <th>2</th>\n",
       "      <td>2</td>\n",
       "      <td>2019-10-15 20:18:39.041</td>\n",
       "      <td>11500</td>\n",
       "      <td>9999</td>\n",
       "      <td>0</td>\n",
       "      <td>1501</td>\n",
       "      <td>1501</td>\n",
       "      <td>False</td>\n",
       "      <td>female</td>\n",
       "      <td>False</td>\n",
       "      <td>1995-07-03</td>\n",
       "      <td>2019-08-09 17:16:59.757</td>\n",
       "      <td>7</td>\n",
       "      <td>2019</td>\n",
       "      <td>10</td>\n",
       "      <td>15</td>\n",
       "      <td>20</td>\n",
       "      <td>18</td>\n",
       "      <td>2</td>\n",
       "    </tr>\n",
       "    <tr>\n",
       "      <th>3</th>\n",
       "      <td>2</td>\n",
       "      <td>2019-08-09 17:19:03.797</td>\n",
       "      <td>13530</td>\n",
       "      <td>9360</td>\n",
       "      <td>0</td>\n",
       "      <td>4170</td>\n",
       "      <td>4170</td>\n",
       "      <td>False</td>\n",
       "      <td>female</td>\n",
       "      <td>False</td>\n",
       "      <td>1995-07-03</td>\n",
       "      <td>2019-08-09 17:16:59.757</td>\n",
       "      <td>9</td>\n",
       "      <td>2019</td>\n",
       "      <td>8</td>\n",
       "      <td>9</td>\n",
       "      <td>17</td>\n",
       "      <td>19</td>\n",
       "      <td>2</td>\n",
       "    </tr>\n",
       "    <tr>\n",
       "      <th>4</th>\n",
       "      <td>3</td>\n",
       "      <td>2019-08-24 16:40:55.260</td>\n",
       "      <td>18120</td>\n",
       "      <td>13440</td>\n",
       "      <td>0</td>\n",
       "      <td>4680</td>\n",
       "      <td>4680</td>\n",
       "      <td>True</td>\n",
       "      <td>male</td>\n",
       "      <td>False</td>\n",
       "      <td>1981-09-09</td>\n",
       "      <td>2019-08-24 16:43:13.693</td>\n",
       "      <td>4</td>\n",
       "      <td>2019</td>\n",
       "      <td>8</td>\n",
       "      <td>24</td>\n",
       "      <td>16</td>\n",
       "      <td>40</td>\n",
       "      <td>1</td>\n",
       "    </tr>\n",
       "  </tbody>\n",
       "</table>\n",
       "</div>"
      ],
      "text/plain": [
       "   customer_id              created_at  pre_discount  post_discount  \\\n",
       "0            1 2019-08-27 10:46:45.237         14220          12640   \n",
       "1            1 2019-08-25 18:41:15.118         10110           6320   \n",
       "2            2 2019-10-15 20:18:39.041         11500           9999   \n",
       "3            2 2019-08-09 17:19:03.797         13530           9360   \n",
       "4            3 2019-08-24 16:40:55.260         18120          13440   \n",
       "\n",
       "   cashback_amount  discount_amount  total_promotion  push_permission  gender  \\\n",
       "0                0             1580             1580            False  female   \n",
       "1                0             3790             3790            False  female   \n",
       "2                0             1501             1501            False  female   \n",
       "3                0             4170             4170            False  female   \n",
       "4                0             4680             4680             True    male   \n",
       "\n",
       "   is_foreigner    birthday             sign_up_date  merchant_id  \\\n",
       "0         False  1986-03-26  2019-08-25 18:28:34.815            2   \n",
       "1         False  1986-03-26  2019-08-25 18:28:34.815            6   \n",
       "2         False  1995-07-03  2019-08-09 17:16:59.757            7   \n",
       "3         False  1995-07-03  2019-08-09 17:16:59.757            9   \n",
       "4         False  1981-09-09  2019-08-24 16:43:13.693            4   \n",
       "\n",
       "   created-year  created-month  created-day  created-hour  created-minute  \\\n",
       "0          2019              8           27            10              46   \n",
       "1          2019              8           25            18              41   \n",
       "2          2019             10           15            20              18   \n",
       "3          2019              8            9            17              19   \n",
       "4          2019              8           24            16              40   \n",
       "\n",
       "   count_created  \n",
       "0              2  \n",
       "1              2  \n",
       "2              2  \n",
       "3              2  \n",
       "4              1  "
      ]
     },
     "execution_count": 34,
     "metadata": {},
     "output_type": "execute_result"
    }
   ],
   "source": [
    "# 테이블 합치기 \n",
    "chai = pd.merge(chai,count_created, how='right', left_on='customer_id', right_on='customer_id')\n",
    "chai.head()"
   ]
  },
  {
   "cell_type": "code",
   "execution_count": 35,
   "id": "52518640",
   "metadata": {
    "ExecuteTime": {
     "end_time": "2022-05-13T02:11:18.811608Z",
     "start_time": "2022-05-13T02:11:16.736443Z"
    }
   },
   "outputs": [],
   "source": [
    "# created 건수 vip 고객(상위20%) 컬럼 생성\n",
    "chai.loc[chai['count_created'] >=13, 'createdcount_vip'] = 'vip'\n",
    "chai.loc[(chai['count_created'] < 13) & (chai['count_created'] >= 2), 'createdcount_vip'] = 'general'\n",
    "chai.loc[chai['count_created'] < 2, 'createdcount_vip'] = 'one'"
   ]
  },
  {
   "cell_type": "code",
   "execution_count": 79,
   "id": "4db43a44",
   "metadata": {
    "ExecuteTime": {
     "end_time": "2022-05-12T06:27:38.892508Z",
     "start_time": "2022-05-12T06:27:38.036312Z"
    }
   },
   "outputs": [
    {
     "data": {
      "text/plain": [
       "vip        4167788\n",
       "general    1292795\n",
       "one         163227\n",
       "Name: createdcount_vip, dtype: int64"
      ]
     },
     "execution_count": 79,
     "metadata": {},
     "output_type": "execute_result"
    }
   ],
   "source": [
    "chai['createdcount_vip'].value_counts()"
   ]
  },
  {
   "cell_type": "code",
   "execution_count": 81,
   "id": "8c3ecf2f",
   "metadata": {
    "ExecuteTime": {
     "end_time": "2022-05-12T06:28:29.144848Z",
     "start_time": "2022-05-12T06:28:29.108843Z"
    }
   },
   "outputs": [
    {
     "data": {
      "text/plain": [
       "0.7410968720493758"
      ]
     },
     "execution_count": 81,
     "metadata": {},
     "output_type": "execute_result"
    }
   ],
   "source": [
    "고객중 상위 20% 사람들이  전체결제 건수의 74%를 일으킴.  \n",
    "4167788/(4167788+1292795+163227) "
   ]
  },
  {
   "cell_type": "markdown",
   "id": "7fcee30d",
   "metadata": {},
   "source": [
    "> post_discount 금액기준 우수고객 (상위20%)"
   ]
  },
  {
   "cell_type": "code",
   "execution_count": 8,
   "id": "ec5acc6f",
   "metadata": {
    "ExecuteTime": {
     "end_time": "2022-05-19T01:35:14.727662Z",
     "start_time": "2022-05-19T01:35:10.016432Z"
    }
   },
   "outputs": [
    {
     "data": {
      "text/html": [
       "<div>\n",
       "<style scoped>\n",
       "    .dataframe tbody tr th:only-of-type {\n",
       "        vertical-align: middle;\n",
       "    }\n",
       "\n",
       "    .dataframe tbody tr th {\n",
       "        vertical-align: top;\n",
       "    }\n",
       "\n",
       "    .dataframe thead th {\n",
       "        text-align: right;\n",
       "    }\n",
       "</style>\n",
       "<table border=\"1\" class=\"dataframe\">\n",
       "  <thead>\n",
       "    <tr style=\"text-align: right;\">\n",
       "      <th></th>\n",
       "      <th>post_discount</th>\n",
       "    </tr>\n",
       "    <tr>\n",
       "      <th>customer_id</th>\n",
       "      <th></th>\n",
       "    </tr>\n",
       "  </thead>\n",
       "  <tbody>\n",
       "    <tr>\n",
       "      <th>377381</th>\n",
       "      <td>112273800</td>\n",
       "    </tr>\n",
       "    <tr>\n",
       "      <th>94844</th>\n",
       "      <td>108395600</td>\n",
       "    </tr>\n",
       "    <tr>\n",
       "      <th>38481</th>\n",
       "      <td>75176900</td>\n",
       "    </tr>\n",
       "    <tr>\n",
       "      <th>335736</th>\n",
       "      <td>64744230</td>\n",
       "    </tr>\n",
       "    <tr>\n",
       "      <th>52710</th>\n",
       "      <td>37914217</td>\n",
       "    </tr>\n",
       "    <tr>\n",
       "      <th>...</th>\n",
       "      <td>...</td>\n",
       "    </tr>\n",
       "    <tr>\n",
       "      <th>451115</th>\n",
       "      <td>0</td>\n",
       "    </tr>\n",
       "    <tr>\n",
       "      <th>272228</th>\n",
       "      <td>0</td>\n",
       "    </tr>\n",
       "    <tr>\n",
       "      <th>314451</th>\n",
       "      <td>0</td>\n",
       "    </tr>\n",
       "    <tr>\n",
       "      <th>398269</th>\n",
       "      <td>0</td>\n",
       "    </tr>\n",
       "    <tr>\n",
       "      <th>324664</th>\n",
       "      <td>0</td>\n",
       "    </tr>\n",
       "  </tbody>\n",
       "</table>\n",
       "<p>541018 rows × 1 columns</p>\n",
       "</div>"
      ],
      "text/plain": [
       "             post_discount\n",
       "customer_id               \n",
       "377381           112273800\n",
       "94844            108395600\n",
       "38481             75176900\n",
       "335736            64744230\n",
       "52710             37914217\n",
       "...                    ...\n",
       "451115                   0\n",
       "272228                   0\n",
       "314451                   0\n",
       "398269                   0\n",
       "324664                   0\n",
       "\n",
       "[541018 rows x 1 columns]"
      ]
     },
     "execution_count": 8,
     "metadata": {},
     "output_type": "execute_result"
    }
   ],
   "source": [
    "# post_discount 금액기준 우수고객\n",
    "cpd = pd.pivot_table(chai, index='customer_id',values='post_discount',aggfunc='sum')\n",
    "cpd.sort_values(by='post_discount',ascending=False)"
   ]
  },
  {
   "cell_type": "code",
   "execution_count": 9,
   "id": "bafd8b8d",
   "metadata": {
    "ExecuteTime": {
     "end_time": "2022-05-19T01:35:54.965076Z",
     "start_time": "2022-05-19T01:35:54.711808Z"
    }
   },
   "outputs": [
    {
     "data": {
      "text/html": [
       "<div>\n",
       "<style scoped>\n",
       "    .dataframe tbody tr th:only-of-type {\n",
       "        vertical-align: middle;\n",
       "    }\n",
       "\n",
       "    .dataframe tbody tr th {\n",
       "        vertical-align: top;\n",
       "    }\n",
       "\n",
       "    .dataframe thead th {\n",
       "        text-align: right;\n",
       "    }\n",
       "</style>\n",
       "<table border=\"1\" class=\"dataframe\">\n",
       "  <thead>\n",
       "    <tr style=\"text-align: right;\">\n",
       "      <th></th>\n",
       "      <th>sum_discount</th>\n",
       "    </tr>\n",
       "    <tr>\n",
       "      <th>customer_id</th>\n",
       "      <th></th>\n",
       "    </tr>\n",
       "  </thead>\n",
       "  <tbody>\n",
       "    <tr>\n",
       "      <th>1</th>\n",
       "      <td>18960</td>\n",
       "    </tr>\n",
       "    <tr>\n",
       "      <th>2</th>\n",
       "      <td>19359</td>\n",
       "    </tr>\n",
       "    <tr>\n",
       "      <th>3</th>\n",
       "      <td>13440</td>\n",
       "    </tr>\n",
       "    <tr>\n",
       "      <th>4</th>\n",
       "      <td>216980</td>\n",
       "    </tr>\n",
       "    <tr>\n",
       "      <th>5</th>\n",
       "      <td>55170</td>\n",
       "    </tr>\n",
       "    <tr>\n",
       "      <th>...</th>\n",
       "      <td>...</td>\n",
       "    </tr>\n",
       "    <tr>\n",
       "      <th>544917</th>\n",
       "      <td>34740</td>\n",
       "    </tr>\n",
       "    <tr>\n",
       "      <th>544918</th>\n",
       "      <td>252665</td>\n",
       "    </tr>\n",
       "    <tr>\n",
       "      <th>544919</th>\n",
       "      <td>483123</td>\n",
       "    </tr>\n",
       "    <tr>\n",
       "      <th>544920</th>\n",
       "      <td>429100</td>\n",
       "    </tr>\n",
       "    <tr>\n",
       "      <th>544921</th>\n",
       "      <td>214464</td>\n",
       "    </tr>\n",
       "  </tbody>\n",
       "</table>\n",
       "<p>541018 rows × 1 columns</p>\n",
       "</div>"
      ],
      "text/plain": [
       "             sum_discount\n",
       "customer_id              \n",
       "1                   18960\n",
       "2                   19359\n",
       "3                   13440\n",
       "4                  216980\n",
       "5                   55170\n",
       "...                   ...\n",
       "544917              34740\n",
       "544918             252665\n",
       "544919             483123\n",
       "544920             429100\n",
       "544921             214464\n",
       "\n",
       "[541018 rows x 1 columns]"
      ]
     },
     "execution_count": 9,
     "metadata": {},
     "output_type": "execute_result"
    }
   ],
   "source": [
    "# 카운트된  컬럼을 sum_discount 컬럼으로 변경\n",
    "cpd = cpd.rename(columns={'post_discount':'sum_discount'})\n",
    "cpd"
   ]
  },
  {
   "cell_type": "code",
   "execution_count": 10,
   "id": "56c1104e",
   "metadata": {
    "ExecuteTime": {
     "end_time": "2022-05-19T01:37:39.618288Z",
     "start_time": "2022-05-19T01:36:38.549333Z"
    },
    "scrolled": false
   },
   "outputs": [
    {
     "data": {
      "text/html": [
       "<div>\n",
       "<style scoped>\n",
       "    .dataframe tbody tr th:only-of-type {\n",
       "        vertical-align: middle;\n",
       "    }\n",
       "\n",
       "    .dataframe tbody tr th {\n",
       "        vertical-align: top;\n",
       "    }\n",
       "\n",
       "    .dataframe thead th {\n",
       "        text-align: right;\n",
       "    }\n",
       "</style>\n",
       "<table border=\"1\" class=\"dataframe\">\n",
       "  <thead>\n",
       "    <tr style=\"text-align: right;\">\n",
       "      <th></th>\n",
       "      <th>customer_id</th>\n",
       "      <th>created_at</th>\n",
       "      <th>pre_discount</th>\n",
       "      <th>post_discount</th>\n",
       "      <th>cashback_amount</th>\n",
       "      <th>discount_amount</th>\n",
       "      <th>total_promotion</th>\n",
       "      <th>push_permission</th>\n",
       "      <th>gender</th>\n",
       "      <th>is_foreigner</th>\n",
       "      <th>...</th>\n",
       "      <th>created-minute</th>\n",
       "      <th>birth-year</th>\n",
       "      <th>birth-month</th>\n",
       "      <th>birth-day</th>\n",
       "      <th>age</th>\n",
       "      <th>signup-year</th>\n",
       "      <th>signup-month</th>\n",
       "      <th>signup-day</th>\n",
       "      <th>signup-hour</th>\n",
       "      <th>sum_discount</th>\n",
       "    </tr>\n",
       "  </thead>\n",
       "  <tbody>\n",
       "    <tr>\n",
       "      <th>0</th>\n",
       "      <td>1</td>\n",
       "      <td>2019-08-27 10:46:45.237</td>\n",
       "      <td>14220</td>\n",
       "      <td>12640</td>\n",
       "      <td>0</td>\n",
       "      <td>1580</td>\n",
       "      <td>1580</td>\n",
       "      <td>False</td>\n",
       "      <td>female</td>\n",
       "      <td>False</td>\n",
       "      <td>...</td>\n",
       "      <td>46</td>\n",
       "      <td>1986</td>\n",
       "      <td>3</td>\n",
       "      <td>26</td>\n",
       "      <td>34</td>\n",
       "      <td>2019</td>\n",
       "      <td>8</td>\n",
       "      <td>25</td>\n",
       "      <td>18</td>\n",
       "      <td>18960</td>\n",
       "    </tr>\n",
       "    <tr>\n",
       "      <th>1</th>\n",
       "      <td>1</td>\n",
       "      <td>2019-08-25 18:41:15.118</td>\n",
       "      <td>10110</td>\n",
       "      <td>6320</td>\n",
       "      <td>0</td>\n",
       "      <td>3790</td>\n",
       "      <td>3790</td>\n",
       "      <td>False</td>\n",
       "      <td>female</td>\n",
       "      <td>False</td>\n",
       "      <td>...</td>\n",
       "      <td>41</td>\n",
       "      <td>1986</td>\n",
       "      <td>3</td>\n",
       "      <td>26</td>\n",
       "      <td>34</td>\n",
       "      <td>2019</td>\n",
       "      <td>8</td>\n",
       "      <td>25</td>\n",
       "      <td>18</td>\n",
       "      <td>18960</td>\n",
       "    </tr>\n",
       "    <tr>\n",
       "      <th>2</th>\n",
       "      <td>2</td>\n",
       "      <td>2019-10-15 20:18:39.041</td>\n",
       "      <td>11500</td>\n",
       "      <td>9999</td>\n",
       "      <td>0</td>\n",
       "      <td>1501</td>\n",
       "      <td>1501</td>\n",
       "      <td>False</td>\n",
       "      <td>female</td>\n",
       "      <td>False</td>\n",
       "      <td>...</td>\n",
       "      <td>18</td>\n",
       "      <td>1995</td>\n",
       "      <td>7</td>\n",
       "      <td>3</td>\n",
       "      <td>25</td>\n",
       "      <td>2019</td>\n",
       "      <td>8</td>\n",
       "      <td>9</td>\n",
       "      <td>17</td>\n",
       "      <td>19359</td>\n",
       "    </tr>\n",
       "    <tr>\n",
       "      <th>3</th>\n",
       "      <td>2</td>\n",
       "      <td>2019-08-09 17:19:03.797</td>\n",
       "      <td>13530</td>\n",
       "      <td>9360</td>\n",
       "      <td>0</td>\n",
       "      <td>4170</td>\n",
       "      <td>4170</td>\n",
       "      <td>False</td>\n",
       "      <td>female</td>\n",
       "      <td>False</td>\n",
       "      <td>...</td>\n",
       "      <td>19</td>\n",
       "      <td>1995</td>\n",
       "      <td>7</td>\n",
       "      <td>3</td>\n",
       "      <td>25</td>\n",
       "      <td>2019</td>\n",
       "      <td>8</td>\n",
       "      <td>9</td>\n",
       "      <td>17</td>\n",
       "      <td>19359</td>\n",
       "    </tr>\n",
       "    <tr>\n",
       "      <th>4</th>\n",
       "      <td>3</td>\n",
       "      <td>2019-08-24 16:40:55.260</td>\n",
       "      <td>18120</td>\n",
       "      <td>13440</td>\n",
       "      <td>0</td>\n",
       "      <td>4680</td>\n",
       "      <td>4680</td>\n",
       "      <td>True</td>\n",
       "      <td>male</td>\n",
       "      <td>False</td>\n",
       "      <td>...</td>\n",
       "      <td>40</td>\n",
       "      <td>1981</td>\n",
       "      <td>9</td>\n",
       "      <td>9</td>\n",
       "      <td>39</td>\n",
       "      <td>2019</td>\n",
       "      <td>8</td>\n",
       "      <td>24</td>\n",
       "      <td>16</td>\n",
       "      <td>13440</td>\n",
       "    </tr>\n",
       "  </tbody>\n",
       "</table>\n",
       "<p>5 rows × 27 columns</p>\n",
       "</div>"
      ],
      "text/plain": [
       "   customer_id              created_at  pre_discount  post_discount  \\\n",
       "0            1 2019-08-27 10:46:45.237         14220          12640   \n",
       "1            1 2019-08-25 18:41:15.118         10110           6320   \n",
       "2            2 2019-10-15 20:18:39.041         11500           9999   \n",
       "3            2 2019-08-09 17:19:03.797         13530           9360   \n",
       "4            3 2019-08-24 16:40:55.260         18120          13440   \n",
       "\n",
       "   cashback_amount  discount_amount  total_promotion  push_permission  gender  \\\n",
       "0                0             1580             1580            False  female   \n",
       "1                0             3790             3790            False  female   \n",
       "2                0             1501             1501            False  female   \n",
       "3                0             4170             4170            False  female   \n",
       "4                0             4680             4680             True    male   \n",
       "\n",
       "   is_foreigner  ... created-minute birth-year  birth-month  birth-day  age  \\\n",
       "0         False  ...             46       1986            3         26   34   \n",
       "1         False  ...             41       1986            3         26   34   \n",
       "2         False  ...             18       1995            7          3   25   \n",
       "3         False  ...             19       1995            7          3   25   \n",
       "4         False  ...             40       1981            9          9   39   \n",
       "\n",
       "   signup-year  signup-month  signup-day  signup-hour  sum_discount  \n",
       "0         2019             8          25           18         18960  \n",
       "1         2019             8          25           18         18960  \n",
       "2         2019             8           9           17         19359  \n",
       "3         2019             8           9           17         19359  \n",
       "4         2019             8          24           16         13440  \n",
       "\n",
       "[5 rows x 27 columns]"
      ]
     },
     "execution_count": 10,
     "metadata": {},
     "output_type": "execute_result"
    }
   ],
   "source": [
    "# 테이블 합쳐 컬럼추가 \n",
    "chai = pd.merge(chai,cpd, how='right', left_on='customer_id', right_on='customer_id')\n",
    "chai.head()"
   ]
  },
  {
   "cell_type": "code",
   "execution_count": 26,
   "id": "328c3622",
   "metadata": {
    "scrolled": true
   },
   "outputs": [
    {
     "data": {
      "text/plain": [
       "1203185"
      ]
     },
     "execution_count": 26,
     "metadata": {},
     "output_type": "execute_result"
    }
   ],
   "source": [
    "chai['sum_discount'].quantile(q=0.8, interpolation='nearest')"
   ]
  },
  {
   "cell_type": "markdown",
   "id": "237780ef",
   "metadata": {},
   "source": [
    "> 상위 20% 분석"
   ]
  },
  {
   "cell_type": "code",
   "execution_count": 56,
   "id": "67f8ca81",
   "metadata": {},
   "outputs": [
    {
     "data": {
      "text/plain": [
       "customer_id\n",
       "1          18960\n",
       "2          19359\n",
       "3          13440\n",
       "4         216980\n",
       "5          55170\n",
       "           ...  \n",
       "544917     34740\n",
       "544918    252665\n",
       "544919    483123\n",
       "544920    429100\n",
       "544921    214464\n",
       "Name: post_discount, Length: 541018, dtype: int64"
      ]
     },
     "execution_count": 56,
     "metadata": {},
     "output_type": "execute_result"
    }
   ],
   "source": [
    "chai.groupby('customer_id')['post_discount'].sum()"
   ]
  },
  {
   "cell_type": "code",
   "execution_count": 11,
   "id": "4f105a8e",
   "metadata": {},
   "outputs": [
    {
     "data": {
      "text/plain": [
       "1203185"
      ]
     },
     "execution_count": 11,
     "metadata": {},
     "output_type": "execute_result"
    }
   ],
   "source": [
    "# 인당 결제 상위 20% 금액\n",
    "chai['sum_discount'].quantile(q=0.8, interpolation='nearest')"
   ]
  },
  {
   "cell_type": "code",
   "execution_count": 24,
   "id": "f3777292",
   "metadata": {},
   "outputs": [
    {
     "data": {
      "text/html": [
       "<div>\n",
       "<style scoped>\n",
       "    .dataframe tbody tr th:only-of-type {\n",
       "        vertical-align: middle;\n",
       "    }\n",
       "\n",
       "    .dataframe tbody tr th {\n",
       "        vertical-align: top;\n",
       "    }\n",
       "\n",
       "    .dataframe thead th {\n",
       "        text-align: right;\n",
       "    }\n",
       "</style>\n",
       "<table border=\"1\" class=\"dataframe\">\n",
       "  <thead>\n",
       "    <tr style=\"text-align: right;\">\n",
       "      <th></th>\n",
       "      <th>customer_id</th>\n",
       "      <th>created_at</th>\n",
       "      <th>pre_discount</th>\n",
       "      <th>post_discount</th>\n",
       "      <th>cashback_amount</th>\n",
       "      <th>discount_amount</th>\n",
       "      <th>total_promotion</th>\n",
       "      <th>push_permission</th>\n",
       "      <th>gender</th>\n",
       "      <th>is_foreigner</th>\n",
       "      <th>...</th>\n",
       "      <th>birth-year</th>\n",
       "      <th>birth-month</th>\n",
       "      <th>birth-day</th>\n",
       "      <th>age</th>\n",
       "      <th>signup-year</th>\n",
       "      <th>signup-month</th>\n",
       "      <th>signup-day</th>\n",
       "      <th>signup-hour</th>\n",
       "      <th>sum_discount</th>\n",
       "      <th>discount_ratio</th>\n",
       "    </tr>\n",
       "  </thead>\n",
       "  <tbody>\n",
       "    <tr>\n",
       "      <th>5614535</th>\n",
       "      <td>544881</td>\n",
       "      <td>2020-02-21 13:01:34.570</td>\n",
       "      <td>21840</td>\n",
       "      <td>21840</td>\n",
       "      <td>655</td>\n",
       "      <td>0</td>\n",
       "      <td>655</td>\n",
       "      <td>True</td>\n",
       "      <td>female</td>\n",
       "      <td>False</td>\n",
       "      <td>...</td>\n",
       "      <td>1970</td>\n",
       "      <td>3</td>\n",
       "      <td>27</td>\n",
       "      <td>50</td>\n",
       "      <td>2019</td>\n",
       "      <td>6</td>\n",
       "      <td>17</td>\n",
       "      <td>8</td>\n",
       "      <td>1461848</td>\n",
       "      <td>0.00</td>\n",
       "    </tr>\n",
       "    <tr>\n",
       "      <th>5614536</th>\n",
       "      <td>544881</td>\n",
       "      <td>2019-09-22 01:10:28.598</td>\n",
       "      <td>4410</td>\n",
       "      <td>3920</td>\n",
       "      <td>0</td>\n",
       "      <td>490</td>\n",
       "      <td>490</td>\n",
       "      <td>True</td>\n",
       "      <td>female</td>\n",
       "      <td>False</td>\n",
       "      <td>...</td>\n",
       "      <td>1970</td>\n",
       "      <td>3</td>\n",
       "      <td>27</td>\n",
       "      <td>50</td>\n",
       "      <td>2019</td>\n",
       "      <td>6</td>\n",
       "      <td>17</td>\n",
       "      <td>8</td>\n",
       "      <td>1461848</td>\n",
       "      <td>11.00</td>\n",
       "    </tr>\n",
       "    <tr>\n",
       "      <th>5614537</th>\n",
       "      <td>544881</td>\n",
       "      <td>2020-03-17 18:00:12.023</td>\n",
       "      <td>5700</td>\n",
       "      <td>5700</td>\n",
       "      <td>0</td>\n",
       "      <td>0</td>\n",
       "      <td>0</td>\n",
       "      <td>True</td>\n",
       "      <td>female</td>\n",
       "      <td>False</td>\n",
       "      <td>...</td>\n",
       "      <td>1970</td>\n",
       "      <td>3</td>\n",
       "      <td>27</td>\n",
       "      <td>50</td>\n",
       "      <td>2019</td>\n",
       "      <td>6</td>\n",
       "      <td>17</td>\n",
       "      <td>8</td>\n",
       "      <td>1461848</td>\n",
       "      <td>0.00</td>\n",
       "    </tr>\n",
       "    <tr>\n",
       "      <th>5614538</th>\n",
       "      <td>544881</td>\n",
       "      <td>2019-11-26 07:14:09.313</td>\n",
       "      <td>11800</td>\n",
       "      <td>11800</td>\n",
       "      <td>0</td>\n",
       "      <td>0</td>\n",
       "      <td>0</td>\n",
       "      <td>True</td>\n",
       "      <td>female</td>\n",
       "      <td>False</td>\n",
       "      <td>...</td>\n",
       "      <td>1970</td>\n",
       "      <td>3</td>\n",
       "      <td>27</td>\n",
       "      <td>50</td>\n",
       "      <td>2019</td>\n",
       "      <td>6</td>\n",
       "      <td>17</td>\n",
       "      <td>8</td>\n",
       "      <td>1461848</td>\n",
       "      <td>0.00</td>\n",
       "    </tr>\n",
       "    <tr>\n",
       "      <th>5614539</th>\n",
       "      <td>544881</td>\n",
       "      <td>2019-09-16 07:21:16.127</td>\n",
       "      <td>9810</td>\n",
       "      <td>8720</td>\n",
       "      <td>0</td>\n",
       "      <td>1090</td>\n",
       "      <td>1090</td>\n",
       "      <td>True</td>\n",
       "      <td>female</td>\n",
       "      <td>False</td>\n",
       "      <td>...</td>\n",
       "      <td>1970</td>\n",
       "      <td>3</td>\n",
       "      <td>27</td>\n",
       "      <td>50</td>\n",
       "      <td>2019</td>\n",
       "      <td>6</td>\n",
       "      <td>17</td>\n",
       "      <td>8</td>\n",
       "      <td>1461848</td>\n",
       "      <td>11.00</td>\n",
       "    </tr>\n",
       "  </tbody>\n",
       "</table>\n",
       "<p>5 rows × 28 columns</p>\n",
       "</div>"
      ],
      "text/plain": [
       "         customer_id              created_at  pre_discount  post_discount  \\\n",
       "5614535       544881 2020-02-21 13:01:34.570         21840          21840   \n",
       "5614536       544881 2019-09-22 01:10:28.598          4410           3920   \n",
       "5614537       544881 2020-03-17 18:00:12.023          5700           5700   \n",
       "5614538       544881 2019-11-26 07:14:09.313         11800          11800   \n",
       "5614539       544881 2019-09-16 07:21:16.127          9810           8720   \n",
       "\n",
       "         cashback_amount  discount_amount  total_promotion  push_permission  \\\n",
       "5614535              655                0              655             True   \n",
       "5614536                0              490              490             True   \n",
       "5614537                0                0                0             True   \n",
       "5614538                0                0                0             True   \n",
       "5614539                0             1090             1090             True   \n",
       "\n",
       "         gender  is_foreigner  ... birth-year birth-month  birth-day  age  \\\n",
       "5614535  female         False  ...       1970           3         27   50   \n",
       "5614536  female         False  ...       1970           3         27   50   \n",
       "5614537  female         False  ...       1970           3         27   50   \n",
       "5614538  female         False  ...       1970           3         27   50   \n",
       "5614539  female         False  ...       1970           3         27   50   \n",
       "\n",
       "         signup-year  signup-month  signup-day  signup-hour  sum_discount  \\\n",
       "5614535         2019             6          17            8       1461848   \n",
       "5614536         2019             6          17            8       1461848   \n",
       "5614537         2019             6          17            8       1461848   \n",
       "5614538         2019             6          17            8       1461848   \n",
       "5614539         2019             6          17            8       1461848   \n",
       "\n",
       "         discount_ratio  \n",
       "5614535            0.00  \n",
       "5614536           11.00  \n",
       "5614537            0.00  \n",
       "5614538            0.00  \n",
       "5614539           11.00  \n",
       "\n",
       "[5 rows x 28 columns]"
      ]
     },
     "execution_count": 24,
     "metadata": {},
     "output_type": "execute_result"
    }
   ],
   "source": [
    "# 인당결제금액이 상위 20%를 넘는 경우 vip\n",
    "vip = chai[chai['sum_discount'] >= 1203185] \n",
    "vip.tail()"
   ]
  },
  {
   "cell_type": "code",
   "execution_count": 25,
   "id": "1a3dcbf1",
   "metadata": {},
   "outputs": [
    {
     "data": {
      "text/html": [
       "<div>\n",
       "<style scoped>\n",
       "    .dataframe tbody tr th:only-of-type {\n",
       "        vertical-align: middle;\n",
       "    }\n",
       "\n",
       "    .dataframe tbody tr th {\n",
       "        vertical-align: top;\n",
       "    }\n",
       "\n",
       "    .dataframe thead th {\n",
       "        text-align: right;\n",
       "    }\n",
       "</style>\n",
       "<table border=\"1\" class=\"dataframe\">\n",
       "  <thead>\n",
       "    <tr style=\"text-align: right;\">\n",
       "      <th></th>\n",
       "      <th>customer_id</th>\n",
       "      <th>created_at</th>\n",
       "      <th>pre_discount</th>\n",
       "      <th>post_discount</th>\n",
       "      <th>cashback_amount</th>\n",
       "      <th>discount_amount</th>\n",
       "      <th>total_promotion</th>\n",
       "      <th>push_permission</th>\n",
       "      <th>gender</th>\n",
       "      <th>is_foreigner</th>\n",
       "      <th>...</th>\n",
       "      <th>birth-year</th>\n",
       "      <th>birth-month</th>\n",
       "      <th>birth-day</th>\n",
       "      <th>age</th>\n",
       "      <th>signup-year</th>\n",
       "      <th>signup-month</th>\n",
       "      <th>signup-day</th>\n",
       "      <th>signup-hour</th>\n",
       "      <th>sum_discount</th>\n",
       "      <th>discount_ratio</th>\n",
       "    </tr>\n",
       "  </thead>\n",
       "  <tbody>\n",
       "    <tr>\n",
       "      <th>5614886</th>\n",
       "      <td>544921</td>\n",
       "      <td>2019-11-17 23:03:23.821</td>\n",
       "      <td>9945</td>\n",
       "      <td>8840</td>\n",
       "      <td>0</td>\n",
       "      <td>1105</td>\n",
       "      <td>1105</td>\n",
       "      <td>False</td>\n",
       "      <td>male</td>\n",
       "      <td>False</td>\n",
       "      <td>...</td>\n",
       "      <td>1986</td>\n",
       "      <td>12</td>\n",
       "      <td>25</td>\n",
       "      <td>34</td>\n",
       "      <td>2019</td>\n",
       "      <td>11</td>\n",
       "      <td>14</td>\n",
       "      <td>11</td>\n",
       "      <td>214464</td>\n",
       "      <td>11.00</td>\n",
       "    </tr>\n",
       "    <tr>\n",
       "      <th>5614887</th>\n",
       "      <td>544921</td>\n",
       "      <td>2019-11-18 14:05:09.043</td>\n",
       "      <td>17478</td>\n",
       "      <td>15536</td>\n",
       "      <td>0</td>\n",
       "      <td>1942</td>\n",
       "      <td>1942</td>\n",
       "      <td>False</td>\n",
       "      <td>male</td>\n",
       "      <td>False</td>\n",
       "      <td>...</td>\n",
       "      <td>1986</td>\n",
       "      <td>12</td>\n",
       "      <td>25</td>\n",
       "      <td>34</td>\n",
       "      <td>2019</td>\n",
       "      <td>11</td>\n",
       "      <td>14</td>\n",
       "      <td>11</td>\n",
       "      <td>214464</td>\n",
       "      <td>11.00</td>\n",
       "    </tr>\n",
       "    <tr>\n",
       "      <th>5614888</th>\n",
       "      <td>544921</td>\n",
       "      <td>2019-12-28 14:14:43.166</td>\n",
       "      <td>13900</td>\n",
       "      <td>13900</td>\n",
       "      <td>0</td>\n",
       "      <td>0</td>\n",
       "      <td>0</td>\n",
       "      <td>False</td>\n",
       "      <td>male</td>\n",
       "      <td>False</td>\n",
       "      <td>...</td>\n",
       "      <td>1986</td>\n",
       "      <td>12</td>\n",
       "      <td>25</td>\n",
       "      <td>34</td>\n",
       "      <td>2019</td>\n",
       "      <td>11</td>\n",
       "      <td>14</td>\n",
       "      <td>11</td>\n",
       "      <td>214464</td>\n",
       "      <td>0.00</td>\n",
       "    </tr>\n",
       "    <tr>\n",
       "      <th>5614889</th>\n",
       "      <td>544921</td>\n",
       "      <td>2019-11-17 22:15:19.415</td>\n",
       "      <td>11259</td>\n",
       "      <td>10008</td>\n",
       "      <td>0</td>\n",
       "      <td>1251</td>\n",
       "      <td>1251</td>\n",
       "      <td>False</td>\n",
       "      <td>male</td>\n",
       "      <td>False</td>\n",
       "      <td>...</td>\n",
       "      <td>1986</td>\n",
       "      <td>12</td>\n",
       "      <td>25</td>\n",
       "      <td>34</td>\n",
       "      <td>2019</td>\n",
       "      <td>11</td>\n",
       "      <td>14</td>\n",
       "      <td>11</td>\n",
       "      <td>214464</td>\n",
       "      <td>11.00</td>\n",
       "    </tr>\n",
       "    <tr>\n",
       "      <th>5614890</th>\n",
       "      <td>544921</td>\n",
       "      <td>2019-12-05 18:05:12.585</td>\n",
       "      <td>12900</td>\n",
       "      <td>11900</td>\n",
       "      <td>0</td>\n",
       "      <td>1000</td>\n",
       "      <td>1000</td>\n",
       "      <td>False</td>\n",
       "      <td>male</td>\n",
       "      <td>False</td>\n",
       "      <td>...</td>\n",
       "      <td>1986</td>\n",
       "      <td>12</td>\n",
       "      <td>25</td>\n",
       "      <td>34</td>\n",
       "      <td>2019</td>\n",
       "      <td>11</td>\n",
       "      <td>14</td>\n",
       "      <td>11</td>\n",
       "      <td>214464</td>\n",
       "      <td>8.00</td>\n",
       "    </tr>\n",
       "  </tbody>\n",
       "</table>\n",
       "<p>5 rows × 28 columns</p>\n",
       "</div>"
      ],
      "text/plain": [
       "         customer_id              created_at  pre_discount  post_discount  \\\n",
       "5614886       544921 2019-11-17 23:03:23.821          9945           8840   \n",
       "5614887       544921 2019-11-18 14:05:09.043         17478          15536   \n",
       "5614888       544921 2019-12-28 14:14:43.166         13900          13900   \n",
       "5614889       544921 2019-11-17 22:15:19.415         11259          10008   \n",
       "5614890       544921 2019-12-05 18:05:12.585         12900          11900   \n",
       "\n",
       "         cashback_amount  discount_amount  total_promotion  push_permission  \\\n",
       "5614886                0             1105             1105            False   \n",
       "5614887                0             1942             1942            False   \n",
       "5614888                0                0                0            False   \n",
       "5614889                0             1251             1251            False   \n",
       "5614890                0             1000             1000            False   \n",
       "\n",
       "        gender  is_foreigner  ... birth-year birth-month  birth-day  age  \\\n",
       "5614886   male         False  ...       1986          12         25   34   \n",
       "5614887   male         False  ...       1986          12         25   34   \n",
       "5614888   male         False  ...       1986          12         25   34   \n",
       "5614889   male         False  ...       1986          12         25   34   \n",
       "5614890   male         False  ...       1986          12         25   34   \n",
       "\n",
       "         signup-year  signup-month  signup-day  signup-hour  sum_discount  \\\n",
       "5614886         2019            11          14           11        214464   \n",
       "5614887         2019            11          14           11        214464   \n",
       "5614888         2019            11          14           11        214464   \n",
       "5614889         2019            11          14           11        214464   \n",
       "5614890         2019            11          14           11        214464   \n",
       "\n",
       "         discount_ratio  \n",
       "5614886           11.00  \n",
       "5614887           11.00  \n",
       "5614888            0.00  \n",
       "5614889           11.00  \n",
       "5614890            8.00  \n",
       "\n",
       "[5 rows x 28 columns]"
      ]
     },
     "execution_count": 25,
     "metadata": {},
     "output_type": "execute_result"
    }
   ],
   "source": [
    "general = chai[chai['sum_discount'] < 1203185] \n",
    "general.tail()"
   ]
  },
  {
   "cell_type": "code",
   "execution_count": 38,
   "id": "81995669",
   "metadata": {},
   "outputs": [],
   "source": [
    "vip_age = vip.groupby('age')['post_discount'].sum() "
   ]
  },
  {
   "cell_type": "code",
   "execution_count": 40,
   "id": "1383e981",
   "metadata": {},
   "outputs": [
    {
     "data": {
      "text/plain": [
       "<AxesSubplot:xlabel='age'>"
      ]
     },
     "execution_count": 40,
     "metadata": {},
     "output_type": "execute_result"
    },
    {
     "data": {
      "image/png": "[encoded data removed]",
      "text/plain": [
       "<Figure size 1296x288 with 1 Axes>"
      ]
     },
     "metadata": {
      "needs_background": "light"
     },
     "output_type": "display_data"
    }
   ],
   "source": [
    "# 상위 20%의 나이별 결제금액합계 분포\n",
    "# 35세부터 44세까지 구간이 가장 많음 \n",
    "\n",
    "vip_age.plot(kind='bar', grid=False, figsize=(18,4))\n"
   ]
  },
  {
   "cell_type": "code",
   "execution_count": 50,
   "id": "1ed3867c",
   "metadata": {},
   "outputs": [
    {
     "data": {
      "text/plain": [
       "0.1282974686862284"
      ]
     },
     "execution_count": 50,
     "metadata": {},
     "output_type": "execute_result"
    }
   ],
   "source": [
    "# vip의 캐시백 이용금액대비 할인금액 비율\n",
    "vip['cashback_amount'].sum() / vip['discount_amount'].sum()"
   ]
  },
  {
   "cell_type": "code",
   "execution_count": 51,
   "id": "12e4791b",
   "metadata": {},
   "outputs": [
    {
     "data": {
      "text/plain": [
       "0.08658458905941528"
      ]
     },
     "execution_count": 51,
     "metadata": {},
     "output_type": "execute_result"
    }
   ],
   "source": [
    "# 전체고객의 캐시백 이용금액대비 할인금액 비율\n",
    "chai['cashback_amount'].sum() / chai['discount_amount'].sum()"
   ]
  },
  {
   "cell_type": "code",
   "execution_count": 20,
   "id": "69882b96",
   "metadata": {},
   "outputs": [],
   "source": [
    "# 할인율\n",
    "chai['discount_ratio'] = round(((chai['pre_discount']-chai['post_discount']) / chai['pre_discount'])*100,0)"
   ]
  },
  {
   "cell_type": "code",
   "execution_count": 21,
   "id": "6a15ccae",
   "metadata": {},
   "outputs": [
    {
     "data": {
      "text/html": [
       "<div>\n",
       "<style scoped>\n",
       "    .dataframe tbody tr th:only-of-type {\n",
       "        vertical-align: middle;\n",
       "    }\n",
       "\n",
       "    .dataframe tbody tr th {\n",
       "        vertical-align: top;\n",
       "    }\n",
       "\n",
       "    .dataframe thead th {\n",
       "        text-align: right;\n",
       "    }\n",
       "</style>\n",
       "<table border=\"1\" class=\"dataframe\">\n",
       "  <thead>\n",
       "    <tr style=\"text-align: right;\">\n",
       "      <th></th>\n",
       "      <th>customer_id</th>\n",
       "      <th>created_at</th>\n",
       "      <th>pre_discount</th>\n",
       "      <th>post_discount</th>\n",
       "      <th>cashback_amount</th>\n",
       "      <th>discount_amount</th>\n",
       "      <th>total_promotion</th>\n",
       "      <th>push_permission</th>\n",
       "      <th>gender</th>\n",
       "      <th>is_foreigner</th>\n",
       "      <th>...</th>\n",
       "      <th>birth-year</th>\n",
       "      <th>birth-month</th>\n",
       "      <th>birth-day</th>\n",
       "      <th>age</th>\n",
       "      <th>signup-year</th>\n",
       "      <th>signup-month</th>\n",
       "      <th>signup-day</th>\n",
       "      <th>signup-hour</th>\n",
       "      <th>sum_discount</th>\n",
       "      <th>discount_ratio</th>\n",
       "    </tr>\n",
       "  </thead>\n",
       "  <tbody>\n",
       "    <tr>\n",
       "      <th>5614886</th>\n",
       "      <td>544921</td>\n",
       "      <td>2019-11-17 23:03:23.821</td>\n",
       "      <td>9945</td>\n",
       "      <td>8840</td>\n",
       "      <td>0</td>\n",
       "      <td>1105</td>\n",
       "      <td>1105</td>\n",
       "      <td>False</td>\n",
       "      <td>male</td>\n",
       "      <td>False</td>\n",
       "      <td>...</td>\n",
       "      <td>1986</td>\n",
       "      <td>12</td>\n",
       "      <td>25</td>\n",
       "      <td>34</td>\n",
       "      <td>2019</td>\n",
       "      <td>11</td>\n",
       "      <td>14</td>\n",
       "      <td>11</td>\n",
       "      <td>214464</td>\n",
       "      <td>11.00</td>\n",
       "    </tr>\n",
       "    <tr>\n",
       "      <th>5614887</th>\n",
       "      <td>544921</td>\n",
       "      <td>2019-11-18 14:05:09.043</td>\n",
       "      <td>17478</td>\n",
       "      <td>15536</td>\n",
       "      <td>0</td>\n",
       "      <td>1942</td>\n",
       "      <td>1942</td>\n",
       "      <td>False</td>\n",
       "      <td>male</td>\n",
       "      <td>False</td>\n",
       "      <td>...</td>\n",
       "      <td>1986</td>\n",
       "      <td>12</td>\n",
       "      <td>25</td>\n",
       "      <td>34</td>\n",
       "      <td>2019</td>\n",
       "      <td>11</td>\n",
       "      <td>14</td>\n",
       "      <td>11</td>\n",
       "      <td>214464</td>\n",
       "      <td>11.00</td>\n",
       "    </tr>\n",
       "    <tr>\n",
       "      <th>5614888</th>\n",
       "      <td>544921</td>\n",
       "      <td>2019-12-28 14:14:43.166</td>\n",
       "      <td>13900</td>\n",
       "      <td>13900</td>\n",
       "      <td>0</td>\n",
       "      <td>0</td>\n",
       "      <td>0</td>\n",
       "      <td>False</td>\n",
       "      <td>male</td>\n",
       "      <td>False</td>\n",
       "      <td>...</td>\n",
       "      <td>1986</td>\n",
       "      <td>12</td>\n",
       "      <td>25</td>\n",
       "      <td>34</td>\n",
       "      <td>2019</td>\n",
       "      <td>11</td>\n",
       "      <td>14</td>\n",
       "      <td>11</td>\n",
       "      <td>214464</td>\n",
       "      <td>0.00</td>\n",
       "    </tr>\n",
       "    <tr>\n",
       "      <th>5614889</th>\n",
       "      <td>544921</td>\n",
       "      <td>2019-11-17 22:15:19.415</td>\n",
       "      <td>11259</td>\n",
       "      <td>10008</td>\n",
       "      <td>0</td>\n",
       "      <td>1251</td>\n",
       "      <td>1251</td>\n",
       "      <td>False</td>\n",
       "      <td>male</td>\n",
       "      <td>False</td>\n",
       "      <td>...</td>\n",
       "      <td>1986</td>\n",
       "      <td>12</td>\n",
       "      <td>25</td>\n",
       "      <td>34</td>\n",
       "      <td>2019</td>\n",
       "      <td>11</td>\n",
       "      <td>14</td>\n",
       "      <td>11</td>\n",
       "      <td>214464</td>\n",
       "      <td>11.00</td>\n",
       "    </tr>\n",
       "    <tr>\n",
       "      <th>5614890</th>\n",
       "      <td>544921</td>\n",
       "      <td>2019-12-05 18:05:12.585</td>\n",
       "      <td>12900</td>\n",
       "      <td>11900</td>\n",
       "      <td>0</td>\n",
       "      <td>1000</td>\n",
       "      <td>1000</td>\n",
       "      <td>False</td>\n",
       "      <td>male</td>\n",
       "      <td>False</td>\n",
       "      <td>...</td>\n",
       "      <td>1986</td>\n",
       "      <td>12</td>\n",
       "      <td>25</td>\n",
       "      <td>34</td>\n",
       "      <td>2019</td>\n",
       "      <td>11</td>\n",
       "      <td>14</td>\n",
       "      <td>11</td>\n",
       "      <td>214464</td>\n",
       "      <td>8.00</td>\n",
       "    </tr>\n",
       "  </tbody>\n",
       "</table>\n",
       "<p>5 rows × 28 columns</p>\n",
       "</div>"
      ],
      "text/plain": [
       "         customer_id              created_at  pre_discount  post_discount  \\\n",
       "5614886       544921 2019-11-17 23:03:23.821          9945           8840   \n",
       "5614887       544921 2019-11-18 14:05:09.043         17478          15536   \n",
       "5614888       544921 2019-12-28 14:14:43.166         13900          13900   \n",
       "5614889       544921 2019-11-17 22:15:19.415         11259          10008   \n",
       "5614890       544921 2019-12-05 18:05:12.585         12900          11900   \n",
       "\n",
       "         cashback_amount  discount_amount  total_promotion  push_permission  \\\n",
       "5614886                0             1105             1105            False   \n",
       "5614887                0             1942             1942            False   \n",
       "5614888                0                0                0            False   \n",
       "5614889                0             1251             1251            False   \n",
       "5614890                0             1000             1000            False   \n",
       "\n",
       "        gender  is_foreigner  ... birth-year birth-month  birth-day  age  \\\n",
       "5614886   male         False  ...       1986          12         25   34   \n",
       "5614887   male         False  ...       1986          12         25   34   \n",
       "5614888   male         False  ...       1986          12         25   34   \n",
       "5614889   male         False  ...       1986          12         25   34   \n",
       "5614890   male         False  ...       1986          12         25   34   \n",
       "\n",
       "         signup-year  signup-month  signup-day  signup-hour  sum_discount  \\\n",
       "5614886         2019            11          14           11        214464   \n",
       "5614887         2019            11          14           11        214464   \n",
       "5614888         2019            11          14           11        214464   \n",
       "5614889         2019            11          14           11        214464   \n",
       "5614890         2019            11          14           11        214464   \n",
       "\n",
       "         discount_ratio  \n",
       "5614886           11.00  \n",
       "5614887           11.00  \n",
       "5614888            0.00  \n",
       "5614889           11.00  \n",
       "5614890            8.00  \n",
       "\n",
       "[5 rows x 28 columns]"
      ]
     },
     "execution_count": 21,
     "metadata": {},
     "output_type": "execute_result"
    }
   ],
   "source": [
    "chai.tail()"
   ]
  },
  {
   "cell_type": "code",
   "execution_count": 71,
   "id": "b3052b24",
   "metadata": {},
   "outputs": [
    {
     "name": "stderr",
     "output_type": "stream",
     "text": [
      "C:\\Users\\a\\anaconda3\\lib\\site-packages\\seaborn\\distributions.py:2619: FutureWarning: `distplot` is a deprecated function and will be removed in a future version. Please adapt your code to use either `displot` (a figure-level function with similar flexibility) or `histplot` (an axes-level function for histograms).\n",
      "  warnings.warn(msg, FutureWarning)\n"
     ]
    },
    {
     "data": {
      "text/plain": [
       "<AxesSubplot:xlabel='discount_ratio', ylabel='Density'>"
      ]
     },
     "execution_count": 71,
     "metadata": {},
     "output_type": "execute_result"
    },
    {
     "data": {
      "image/png": "[encoded data removed]",
      "text/plain": [
       "<Figure size 432x288 with 1 Axes>"
      ]
     },
     "metadata": {
      "needs_background": "light"
     },
     "output_type": "display_data"
    }
   ],
   "source": [
    "sns.distplot(vip['discount_ratio'])"
   ]
  },
  {
   "cell_type": "code",
   "execution_count": 73,
   "id": "f3406cef",
   "metadata": {},
   "outputs": [
    {
     "name": "stderr",
     "output_type": "stream",
     "text": [
      "C:\\Users\\a\\anaconda3\\lib\\site-packages\\seaborn\\distributions.py:2619: FutureWarning: `distplot` is a deprecated function and will be removed in a future version. Please adapt your code to use either `displot` (a figure-level function with similar flexibility) or `histplot` (an axes-level function for histograms).\n",
      "  warnings.warn(msg, FutureWarning)\n"
     ]
    },
    {
     "data": {
      "text/plain": [
       "<AxesSubplot:xlabel='discount_ratio', ylabel='Density'>"
      ]
     },
     "execution_count": 73,
     "metadata": {},
     "output_type": "execute_result"
    },
    {
     "data": {
      "image/png": "[encoded data removed]",
      "text/plain": [
       "<Figure size 432x288 with 1 Axes>"
      ]
     },
     "metadata": {
      "needs_background": "light"
     },
     "output_type": "display_data"
    }
   ],
   "source": [
    "low_ratio = vip[vip['discount_ratio'] <= 20]\n",
    "sns.distplot(low_ratio['discount_ratio'])"
   ]
  },
  {
   "cell_type": "code",
   "execution_count": null,
   "id": "9f6237c8",
   "metadata": {},
   "outputs": [],
   "source": []
  },
  {
   "cell_type": "markdown",
   "id": "f1fe54d8",
   "metadata": {},
   "source": [
    "> 코호트 분석 "
   ]
  },
  {
   "cell_type": "code",
   "execution_count": 10,
   "id": "1662275c",
   "metadata": {
    "ExecuteTime": {
     "end_time": "2022-05-10T16:07:24.010298Z",
     "start_time": "2022-05-10T16:05:05.301075Z"
    }
   },
   "outputs": [
    {
     "data": {
      "text/html": [
       "<div>\n",
       "<style scoped>\n",
       "    .dataframe tbody tr th:only-of-type {\n",
       "        vertical-align: middle;\n",
       "    }\n",
       "\n",
       "    .dataframe tbody tr th {\n",
       "        vertical-align: top;\n",
       "    }\n",
       "\n",
       "    .dataframe thead th {\n",
       "        text-align: right;\n",
       "    }\n",
       "</style>\n",
       "<table border=\"1\" class=\"dataframe\">\n",
       "  <thead>\n",
       "    <tr style=\"text-align: right;\">\n",
       "      <th></th>\n",
       "      <th>customer_id</th>\n",
       "      <th>created_at</th>\n",
       "      <th>pre_discount</th>\n",
       "      <th>post_discount</th>\n",
       "      <th>cashback_amount</th>\n",
       "      <th>discount_amount</th>\n",
       "      <th>total_promotion</th>\n",
       "      <th>push_permission</th>\n",
       "      <th>gender</th>\n",
       "      <th>is_foreigner</th>\n",
       "      <th>...</th>\n",
       "      <th>merchant_id</th>\n",
       "      <th>created-year</th>\n",
       "      <th>created-month</th>\n",
       "      <th>created-day</th>\n",
       "      <th>created-hour</th>\n",
       "      <th>birth-year</th>\n",
       "      <th>birth-month</th>\n",
       "      <th>birth-day</th>\n",
       "      <th>age</th>\n",
       "      <th>month</th>\n",
       "    </tr>\n",
       "  </thead>\n",
       "  <tbody>\n",
       "    <tr>\n",
       "      <th>0</th>\n",
       "      <td>207317</td>\n",
       "      <td>2020-03-22 10:27:52.498</td>\n",
       "      <td>36236</td>\n",
       "      <td>36236</td>\n",
       "      <td>1087</td>\n",
       "      <td>0</td>\n",
       "      <td>1087</td>\n",
       "      <td>True</td>\n",
       "      <td>female</td>\n",
       "      <td>False</td>\n",
       "      <td>...</td>\n",
       "      <td>9</td>\n",
       "      <td>2020</td>\n",
       "      <td>3</td>\n",
       "      <td>22</td>\n",
       "      <td>10</td>\n",
       "      <td>1957</td>\n",
       "      <td>11</td>\n",
       "      <td>5</td>\n",
       "      <td>63</td>\n",
       "      <td>2020-03-01</td>\n",
       "    </tr>\n",
       "    <tr>\n",
       "      <th>1</th>\n",
       "      <td>95246</td>\n",
       "      <td>2020-03-12 09:41:09.845</td>\n",
       "      <td>12900</td>\n",
       "      <td>12900</td>\n",
       "      <td>387</td>\n",
       "      <td>0</td>\n",
       "      <td>387</td>\n",
       "      <td>True</td>\n",
       "      <td>female</td>\n",
       "      <td>False</td>\n",
       "      <td>...</td>\n",
       "      <td>6</td>\n",
       "      <td>2020</td>\n",
       "      <td>3</td>\n",
       "      <td>12</td>\n",
       "      <td>9</td>\n",
       "      <td>1983</td>\n",
       "      <td>10</td>\n",
       "      <td>23</td>\n",
       "      <td>37</td>\n",
       "      <td>2020-03-01</td>\n",
       "    </tr>\n",
       "    <tr>\n",
       "      <th>2</th>\n",
       "      <td>208074</td>\n",
       "      <td>2020-02-01 08:54:53.246</td>\n",
       "      <td>7500</td>\n",
       "      <td>7500</td>\n",
       "      <td>225</td>\n",
       "      <td>0</td>\n",
       "      <td>225</td>\n",
       "      <td>True</td>\n",
       "      <td>female</td>\n",
       "      <td>False</td>\n",
       "      <td>...</td>\n",
       "      <td>9</td>\n",
       "      <td>2020</td>\n",
       "      <td>2</td>\n",
       "      <td>1</td>\n",
       "      <td>8</td>\n",
       "      <td>1975</td>\n",
       "      <td>7</td>\n",
       "      <td>6</td>\n",
       "      <td>45</td>\n",
       "      <td>2020-02-01</td>\n",
       "    </tr>\n",
       "    <tr>\n",
       "      <th>3</th>\n",
       "      <td>15552</td>\n",
       "      <td>2020-03-06 10:23:21.183</td>\n",
       "      <td>11800</td>\n",
       "      <td>11800</td>\n",
       "      <td>354</td>\n",
       "      <td>0</td>\n",
       "      <td>354</td>\n",
       "      <td>False</td>\n",
       "      <td>male</td>\n",
       "      <td>False</td>\n",
       "      <td>...</td>\n",
       "      <td>4</td>\n",
       "      <td>2020</td>\n",
       "      <td>3</td>\n",
       "      <td>6</td>\n",
       "      <td>10</td>\n",
       "      <td>1996</td>\n",
       "      <td>8</td>\n",
       "      <td>21</td>\n",
       "      <td>24</td>\n",
       "      <td>2020-03-01</td>\n",
       "    </tr>\n",
       "    <tr>\n",
       "      <th>4</th>\n",
       "      <td>511595</td>\n",
       "      <td>2020-03-13 12:00:27.914</td>\n",
       "      <td>29700</td>\n",
       "      <td>29700</td>\n",
       "      <td>891</td>\n",
       "      <td>0</td>\n",
       "      <td>891</td>\n",
       "      <td>True</td>\n",
       "      <td>female</td>\n",
       "      <td>False</td>\n",
       "      <td>...</td>\n",
       "      <td>5</td>\n",
       "      <td>2020</td>\n",
       "      <td>3</td>\n",
       "      <td>13</td>\n",
       "      <td>12</td>\n",
       "      <td>1999</td>\n",
       "      <td>1</td>\n",
       "      <td>23</td>\n",
       "      <td>21</td>\n",
       "      <td>2020-03-01</td>\n",
       "    </tr>\n",
       "  </tbody>\n",
       "</table>\n",
       "<p>5 rows × 22 columns</p>\n",
       "</div>"
      ],
      "text/plain": [
       "   customer_id              created_at  pre_discount  post_discount  \\\n",
       "0       207317 2020-03-22 10:27:52.498         36236          36236   \n",
       "1        95246 2020-03-12 09:41:09.845         12900          12900   \n",
       "2       208074 2020-02-01 08:54:53.246          7500           7500   \n",
       "3        15552 2020-03-06 10:23:21.183         11800          11800   \n",
       "4       511595 2020-03-13 12:00:27.914         29700          29700   \n",
       "\n",
       "   cashback_amount  discount_amount  total_promotion  push_permission  gender  \\\n",
       "0             1087                0             1087             True  female   \n",
       "1              387                0              387             True  female   \n",
       "2              225                0              225             True  female   \n",
       "3              354                0              354            False    male   \n",
       "4              891                0              891             True  female   \n",
       "\n",
       "   is_foreigner  ... merchant_id created-year  created-month  created-day  \\\n",
       "0         False  ...           9         2020              3           22   \n",
       "1         False  ...           6         2020              3           12   \n",
       "2         False  ...           9         2020              2            1   \n",
       "3         False  ...           4         2020              3            6   \n",
       "4         False  ...           5         2020              3           13   \n",
       "\n",
       "   created-hour  birth-year  birth-month  birth-day  age      month  \n",
       "0            10        1957           11          5   63 2020-03-01  \n",
       "1             9        1983           10         23   37 2020-03-01  \n",
       "2             8        1975            7          6   45 2020-02-01  \n",
       "3            10        1996            8         21   24 2020-03-01  \n",
       "4            12        1999            1         23   21 2020-03-01  \n",
       "\n",
       "[5 rows x 22 columns]"
      ]
     },
     "execution_count": 10,
     "metadata": {},
     "output_type": "execute_result"
    }
   ],
   "source": [
    "def get_month_as_datetime(date):\n",
    "    return datetime(date.year,date.month,1)\n",
    "\n",
    "\n",
    "chai['month'] = chai['created_at'].apply(get_month_as_datetime)\n",
    "\n",
    "chai.head()"
   ]
  },
  {
   "cell_type": "code",
   "execution_count": null,
   "id": "4e9d63b5",
   "metadata": {},
   "outputs": [],
   "source": [
    "# 사용자가 최초 created_at 한 월을 표시"
   ]
  },
  {
   "cell_type": "code",
   "execution_count": 11,
   "id": "14ca268d",
   "metadata": {
    "ExecuteTime": {
     "end_time": "2022-05-10T16:09:45.362923Z",
     "start_time": "2022-05-10T16:09:38.776104Z"
    }
   },
   "outputs": [
    {
     "data": {
      "text/html": [
       "<div>\n",
       "<style scoped>\n",
       "    .dataframe tbody tr th:only-of-type {\n",
       "        vertical-align: middle;\n",
       "    }\n",
       "\n",
       "    .dataframe tbody tr th {\n",
       "        vertical-align: top;\n",
       "    }\n",
       "\n",
       "    .dataframe thead th {\n",
       "        text-align: right;\n",
       "    }\n",
       "</style>\n",
       "<table border=\"1\" class=\"dataframe\">\n",
       "  <thead>\n",
       "    <tr style=\"text-align: right;\">\n",
       "      <th></th>\n",
       "      <th>customer_id</th>\n",
       "      <th>created_at</th>\n",
       "      <th>pre_discount</th>\n",
       "      <th>post_discount</th>\n",
       "      <th>cashback_amount</th>\n",
       "      <th>discount_amount</th>\n",
       "      <th>total_promotion</th>\n",
       "      <th>push_permission</th>\n",
       "      <th>gender</th>\n",
       "      <th>is_foreigner</th>\n",
       "      <th>...</th>\n",
       "      <th>created-year</th>\n",
       "      <th>created-month</th>\n",
       "      <th>created-day</th>\n",
       "      <th>created-hour</th>\n",
       "      <th>birth-year</th>\n",
       "      <th>birth-month</th>\n",
       "      <th>birth-day</th>\n",
       "      <th>age</th>\n",
       "      <th>month</th>\n",
       "      <th>monthstarted</th>\n",
       "    </tr>\n",
       "  </thead>\n",
       "  <tbody>\n",
       "    <tr>\n",
       "      <th>5623805</th>\n",
       "      <td>434398</td>\n",
       "      <td>2019-12-12 07:48:51.491</td>\n",
       "      <td>7547</td>\n",
       "      <td>7547</td>\n",
       "      <td>0</td>\n",
       "      <td>0</td>\n",
       "      <td>0</td>\n",
       "      <td>True</td>\n",
       "      <td>female</td>\n",
       "      <td>False</td>\n",
       "      <td>...</td>\n",
       "      <td>2019</td>\n",
       "      <td>12</td>\n",
       "      <td>12</td>\n",
       "      <td>7</td>\n",
       "      <td>1975</td>\n",
       "      <td>2</td>\n",
       "      <td>6</td>\n",
       "      <td>45</td>\n",
       "      <td>2019-12-01</td>\n",
       "      <td>2019-08-01</td>\n",
       "    </tr>\n",
       "    <tr>\n",
       "      <th>5623806</th>\n",
       "      <td>481515</td>\n",
       "      <td>2019-12-20 07:37:15.259</td>\n",
       "      <td>22900</td>\n",
       "      <td>20900</td>\n",
       "      <td>0</td>\n",
       "      <td>2000</td>\n",
       "      <td>2000</td>\n",
       "      <td>True</td>\n",
       "      <td>female</td>\n",
       "      <td>False</td>\n",
       "      <td>...</td>\n",
       "      <td>2019</td>\n",
       "      <td>12</td>\n",
       "      <td>20</td>\n",
       "      <td>7</td>\n",
       "      <td>1989</td>\n",
       "      <td>1</td>\n",
       "      <td>23</td>\n",
       "      <td>31</td>\n",
       "      <td>2019-12-01</td>\n",
       "      <td>2019-08-01</td>\n",
       "    </tr>\n",
       "    <tr>\n",
       "      <th>5623807</th>\n",
       "      <td>298192</td>\n",
       "      <td>2020-01-05 01:55:28.331</td>\n",
       "      <td>19790</td>\n",
       "      <td>18790</td>\n",
       "      <td>0</td>\n",
       "      <td>1000</td>\n",
       "      <td>1000</td>\n",
       "      <td>True</td>\n",
       "      <td>female</td>\n",
       "      <td>False</td>\n",
       "      <td>...</td>\n",
       "      <td>2020</td>\n",
       "      <td>1</td>\n",
       "      <td>5</td>\n",
       "      <td>1</td>\n",
       "      <td>1985</td>\n",
       "      <td>4</td>\n",
       "      <td>6</td>\n",
       "      <td>35</td>\n",
       "      <td>2020-01-01</td>\n",
       "      <td>2019-09-01</td>\n",
       "    </tr>\n",
       "    <tr>\n",
       "      <th>5623808</th>\n",
       "      <td>430962</td>\n",
       "      <td>2019-10-01 03:32:17.435</td>\n",
       "      <td>15921</td>\n",
       "      <td>14152</td>\n",
       "      <td>0</td>\n",
       "      <td>1769</td>\n",
       "      <td>1769</td>\n",
       "      <td>False</td>\n",
       "      <td>male</td>\n",
       "      <td>False</td>\n",
       "      <td>...</td>\n",
       "      <td>2019</td>\n",
       "      <td>10</td>\n",
       "      <td>1</td>\n",
       "      <td>3</td>\n",
       "      <td>1983</td>\n",
       "      <td>7</td>\n",
       "      <td>25</td>\n",
       "      <td>37</td>\n",
       "      <td>2019-10-01</td>\n",
       "      <td>2019-08-01</td>\n",
       "    </tr>\n",
       "    <tr>\n",
       "      <th>5623809</th>\n",
       "      <td>246136</td>\n",
       "      <td>2019-11-07 11:33:34.230</td>\n",
       "      <td>6750</td>\n",
       "      <td>6000</td>\n",
       "      <td>0</td>\n",
       "      <td>750</td>\n",
       "      <td>750</td>\n",
       "      <td>True</td>\n",
       "      <td>female</td>\n",
       "      <td>False</td>\n",
       "      <td>...</td>\n",
       "      <td>2019</td>\n",
       "      <td>11</td>\n",
       "      <td>7</td>\n",
       "      <td>11</td>\n",
       "      <td>1987</td>\n",
       "      <td>8</td>\n",
       "      <td>20</td>\n",
       "      <td>33</td>\n",
       "      <td>2019-11-01</td>\n",
       "      <td>2019-09-01</td>\n",
       "    </tr>\n",
       "  </tbody>\n",
       "</table>\n",
       "<p>5 rows × 23 columns</p>\n",
       "</div>"
      ],
      "text/plain": [
       "         customer_id              created_at  pre_discount  post_discount  \\\n",
       "5623805       434398 2019-12-12 07:48:51.491          7547           7547   \n",
       "5623806       481515 2019-12-20 07:37:15.259         22900          20900   \n",
       "5623807       298192 2020-01-05 01:55:28.331         19790          18790   \n",
       "5623808       430962 2019-10-01 03:32:17.435         15921          14152   \n",
       "5623809       246136 2019-11-07 11:33:34.230          6750           6000   \n",
       "\n",
       "         cashback_amount  discount_amount  total_promotion  push_permission  \\\n",
       "5623805                0                0                0             True   \n",
       "5623806                0             2000             2000             True   \n",
       "5623807                0             1000             1000             True   \n",
       "5623808                0             1769             1769            False   \n",
       "5623809                0              750              750             True   \n",
       "\n",
       "         gender  is_foreigner  ... created-year created-month  created-day  \\\n",
       "5623805  female         False  ...         2019            12           12   \n",
       "5623806  female         False  ...         2019            12           20   \n",
       "5623807  female         False  ...         2020             1            5   \n",
       "5623808    male         False  ...         2019            10            1   \n",
       "5623809  female         False  ...         2019            11            7   \n",
       "\n",
       "         created-hour  birth-year  birth-month  birth-day  age      month  \\\n",
       "5623805             7        1975            2          6   45 2019-12-01   \n",
       "5623806             7        1989            1         23   31 2019-12-01   \n",
       "5623807             1        1985            4          6   35 2020-01-01   \n",
       "5623808             3        1983            7         25   37 2019-10-01   \n",
       "5623809            11        1987            8         20   33 2019-11-01   \n",
       "\n",
       "         monthstarted  \n",
       "5623805    2019-08-01  \n",
       "5623806    2019-08-01  \n",
       "5623807    2019-09-01  \n",
       "5623808    2019-08-01  \n",
       "5623809    2019-09-01  \n",
       "\n",
       "[5 rows x 23 columns]"
      ]
     },
     "execution_count": 11,
     "metadata": {},
     "output_type": "execute_result"
    }
   ],
   "source": [
    "month_group = chai.groupby('customer_id')['month']\n",
    "chai['monthstarted'] = month_group.transform(np.min)\n",
    "\n",
    "chai.tail()"
   ]
  },
  {
   "cell_type": "code",
   "execution_count": null,
   "id": "da5ab87b",
   "metadata": {},
   "outputs": [],
   "source": [
    "# 최초 구매월로부터 몇개월이 지났는지 계산하기"
   ]
  },
  {
   "cell_type": "code",
   "execution_count": 60,
   "id": "1bc52c4d",
   "metadata": {
    "ExecuteTime": {
     "end_time": "2022-05-09T05:00:26.831304Z",
     "start_time": "2022-05-09T05:00:23.863929Z"
    }
   },
   "outputs": [],
   "source": [
    "chai['monthpassed'] = (chai['month'].dt.year - chai['monthstarted'].dt.year)*12 + (chai['month'].dt.month - chai['monthstarted'].dt.month)"
   ]
  },
  {
   "cell_type": "code",
   "execution_count": 75,
   "id": "cd0bbb25",
   "metadata": {
    "ExecuteTime": {
     "end_time": "2022-05-09T05:16:56.964088Z",
     "start_time": "2022-05-09T05:16:56.754552Z"
    }
   },
   "outputs": [
    {
     "data": {
      "text/plain": [
       "0    1403516\n",
       "1     933698\n",
       "2     827921\n",
       "3     704900\n",
       "5     561928\n",
       "4     537623\n",
       "6     375196\n",
       "7     279028\n",
       "Name: monthpassed, dtype: int64"
      ]
     },
     "execution_count": 75,
     "metadata": {},
     "output_type": "execute_result"
    }
   ],
   "source": [
    "chai['monthpassed'].value_counts()"
   ]
  },
  {
   "cell_type": "markdown",
   "id": "0915bb78",
   "metadata": {
    "ExecuteTime": {
     "end_time": "2022-05-09T05:02:31.117644Z",
     "start_time": "2022-05-09T05:02:31.021635Z"
    }
   },
   "source": [
    "#### 기준월 monthpassed를 기준으로 고객 카운팅\n",
    " > 기준이 되는 월과 그 월로부터 지난 기간의 고객 수를 계산"
   ]
  },
  {
   "cell_type": "code",
   "execution_count": 67,
   "id": "488b4626",
   "metadata": {
    "ExecuteTime": {
     "end_time": "2022-05-09T05:09:15.370012Z",
     "start_time": "2022-05-09T05:09:10.878756Z"
    }
   },
   "outputs": [
    {
     "data": {
      "text/html": [
       "<div>\n",
       "<style scoped>\n",
       "    .dataframe tbody tr th:only-of-type {\n",
       "        vertical-align: middle;\n",
       "    }\n",
       "\n",
       "    .dataframe tbody tr th {\n",
       "        vertical-align: top;\n",
       "    }\n",
       "\n",
       "    .dataframe thead th {\n",
       "        text-align: right;\n",
       "    }\n",
       "</style>\n",
       "<table border=\"1\" class=\"dataframe\">\n",
       "  <thead>\n",
       "    <tr style=\"text-align: right;\">\n",
       "      <th></th>\n",
       "      <th>monthstarted</th>\n",
       "      <th>monthpassed</th>\n",
       "      <th>customer_id</th>\n",
       "    </tr>\n",
       "  </thead>\n",
       "  <tbody>\n",
       "    <tr>\n",
       "      <th>0</th>\n",
       "      <td>2019-08-01</td>\n",
       "      <td>0</td>\n",
       "      <td>196064</td>\n",
       "    </tr>\n",
       "    <tr>\n",
       "      <th>1</th>\n",
       "      <td>2019-08-01</td>\n",
       "      <td>1</td>\n",
       "      <td>101998</td>\n",
       "    </tr>\n",
       "    <tr>\n",
       "      <th>2</th>\n",
       "      <td>2019-08-01</td>\n",
       "      <td>2</td>\n",
       "      <td>97411</td>\n",
       "    </tr>\n",
       "    <tr>\n",
       "      <th>3</th>\n",
       "      <td>2019-08-01</td>\n",
       "      <td>3</td>\n",
       "      <td>95789</td>\n",
       "    </tr>\n",
       "    <tr>\n",
       "      <th>4</th>\n",
       "      <td>2019-08-01</td>\n",
       "      <td>4</td>\n",
       "      <td>85824</td>\n",
       "    </tr>\n",
       "  </tbody>\n",
       "</table>\n",
       "</div>"
      ],
      "text/plain": [
       "  monthstarted  monthpassed  customer_id\n",
       "0   2019-08-01            0       196064\n",
       "1   2019-08-01            1       101998\n",
       "2   2019-08-01            2        97411\n",
       "3   2019-08-01            3        95789\n",
       "4   2019-08-01            4        85824"
      ]
     },
     "execution_count": 67,
     "metadata": {},
     "output_type": "execute_result"
    }
   ],
   "source": [
    "def get_unique_no(x):\n",
    "    return len(np.unique(x))\n",
    "\n",
    "cohort_group = chai.groupby(['monthstarted','monthpassed'])\n",
    "cohort_df = cohort_group['customer_id'].apply(get_unique_no).reset_index()\n",
    "cohort_df.head()"
   ]
  },
  {
   "cell_type": "markdown",
   "id": "b5b392d0",
   "metadata": {
    "ExecuteTime": {
     "end_time": "2022-05-09T05:12:05.293670Z",
     "start_time": "2022-05-09T05:12:05.181488Z"
    }
   },
   "source": [
    "#### 테이블 피벗\n",
    "> 피벗함수를 이용해 index는 monthstarted, columns을 monthpassed로 변경해 테이블 변경\n",
    ">> 첫번째 column을 기준으로 100분위 연산"
   ]
  },
  {
   "cell_type": "code",
   "execution_count": 68,
   "id": "db6b87df",
   "metadata": {
    "ExecuteTime": {
     "end_time": "2022-05-09T05:10:23.247438Z",
     "start_time": "2022-05-09T05:10:22.915071Z"
    }
   },
   "outputs": [
    {
     "data": {
      "text/html": [
       "<div>\n",
       "<style scoped>\n",
       "    .dataframe tbody tr th:only-of-type {\n",
       "        vertical-align: middle;\n",
       "    }\n",
       "\n",
       "    .dataframe tbody tr th {\n",
       "        vertical-align: top;\n",
       "    }\n",
       "\n",
       "    .dataframe thead tr th {\n",
       "        text-align: left;\n",
       "    }\n",
       "\n",
       "    .dataframe thead tr:last-of-type th {\n",
       "        text-align: right;\n",
       "    }\n",
       "</style>\n",
       "<table border=\"1\" class=\"dataframe\">\n",
       "  <thead>\n",
       "    <tr>\n",
       "      <th></th>\n",
       "      <th colspan=\"8\" halign=\"left\">customer_id</th>\n",
       "    </tr>\n",
       "    <tr>\n",
       "      <th>monthpassed</th>\n",
       "      <th>0</th>\n",
       "      <th>1</th>\n",
       "      <th>2</th>\n",
       "      <th>3</th>\n",
       "      <th>4</th>\n",
       "      <th>5</th>\n",
       "      <th>6</th>\n",
       "      <th>7</th>\n",
       "    </tr>\n",
       "    <tr>\n",
       "      <th>monthstarted</th>\n",
       "      <th></th>\n",
       "      <th></th>\n",
       "      <th></th>\n",
       "      <th></th>\n",
       "      <th></th>\n",
       "      <th></th>\n",
       "      <th></th>\n",
       "      <th></th>\n",
       "    </tr>\n",
       "  </thead>\n",
       "  <tbody>\n",
       "    <tr>\n",
       "      <th>2019-08-01</th>\n",
       "      <td>196064.0</td>\n",
       "      <td>101998.0</td>\n",
       "      <td>97411.0</td>\n",
       "      <td>95789.0</td>\n",
       "      <td>85824.0</td>\n",
       "      <td>93696.0</td>\n",
       "      <td>83601.0</td>\n",
       "      <td>71082.0</td>\n",
       "    </tr>\n",
       "    <tr>\n",
       "      <th>2019-09-01</th>\n",
       "      <td>54728.0</td>\n",
       "      <td>25612.0</td>\n",
       "      <td>23315.0</td>\n",
       "      <td>20487.0</td>\n",
       "      <td>22151.0</td>\n",
       "      <td>19936.0</td>\n",
       "      <td>16766.0</td>\n",
       "      <td>NaN</td>\n",
       "    </tr>\n",
       "    <tr>\n",
       "      <th>2019-10-01</th>\n",
       "      <td>48211.0</td>\n",
       "      <td>20056.0</td>\n",
       "      <td>17067.0</td>\n",
       "      <td>18366.0</td>\n",
       "      <td>16177.0</td>\n",
       "      <td>13323.0</td>\n",
       "      <td>NaN</td>\n",
       "      <td>NaN</td>\n",
       "    </tr>\n",
       "    <tr>\n",
       "      <th>2019-11-01</th>\n",
       "      <td>45404.0</td>\n",
       "      <td>18296.0</td>\n",
       "      <td>19085.0</td>\n",
       "      <td>16610.0</td>\n",
       "      <td>13365.0</td>\n",
       "      <td>NaN</td>\n",
       "      <td>NaN</td>\n",
       "      <td>NaN</td>\n",
       "    </tr>\n",
       "    <tr>\n",
       "      <th>2019-12-01</th>\n",
       "      <td>54914.0</td>\n",
       "      <td>25139.0</td>\n",
       "      <td>21576.0</td>\n",
       "      <td>17053.0</td>\n",
       "      <td>NaN</td>\n",
       "      <td>NaN</td>\n",
       "      <td>NaN</td>\n",
       "      <td>NaN</td>\n",
       "    </tr>\n",
       "  </tbody>\n",
       "</table>\n",
       "</div>"
      ],
      "text/plain": [
       "             customer_id                                                \\\n",
       "monthpassed            0         1        2        3        4        5   \n",
       "monthstarted                                                             \n",
       "2019-08-01      196064.0  101998.0  97411.0  95789.0  85824.0  93696.0   \n",
       "2019-09-01       54728.0   25612.0  23315.0  20487.0  22151.0  19936.0   \n",
       "2019-10-01       48211.0   20056.0  17067.0  18366.0  16177.0  13323.0   \n",
       "2019-11-01       45404.0   18296.0  19085.0  16610.0  13365.0      NaN   \n",
       "2019-12-01       54914.0   25139.0  21576.0  17053.0      NaN      NaN   \n",
       "\n",
       "                                \n",
       "monthpassed         6        7  \n",
       "monthstarted                    \n",
       "2019-08-01    83601.0  71082.0  \n",
       "2019-09-01    16766.0      NaN  \n",
       "2019-10-01        NaN      NaN  \n",
       "2019-11-01        NaN      NaN  \n",
       "2019-12-01        NaN      NaN  "
      ]
     },
     "execution_count": 68,
     "metadata": {},
     "output_type": "execute_result"
    }
   ],
   "source": [
    "cohort_df = cohort_df.pivot(index='monthstarted',columns='monthpassed')\n",
    "cohort_df.head()"
   ]
  },
  {
   "cell_type": "code",
   "execution_count": 73,
   "id": "dd610b14",
   "metadata": {
    "ExecuteTime": {
     "end_time": "2022-05-09T05:15:42.485877Z",
     "start_time": "2022-05-09T05:15:42.188759Z"
    }
   },
   "outputs": [
    {
     "data": {
      "text/html": [
       "<div>\n",
       "<style scoped>\n",
       "    .dataframe tbody tr th:only-of-type {\n",
       "        vertical-align: middle;\n",
       "    }\n",
       "\n",
       "    .dataframe tbody tr th {\n",
       "        vertical-align: top;\n",
       "    }\n",
       "\n",
       "    .dataframe thead tr th {\n",
       "        text-align: left;\n",
       "    }\n",
       "\n",
       "    .dataframe thead tr:last-of-type th {\n",
       "        text-align: right;\n",
       "    }\n",
       "</style>\n",
       "<table border=\"1\" class=\"dataframe\">\n",
       "  <thead>\n",
       "    <tr>\n",
       "      <th></th>\n",
       "      <th colspan=\"8\" halign=\"left\">customer_id</th>\n",
       "    </tr>\n",
       "    <tr>\n",
       "      <th>monthpassed</th>\n",
       "      <th>0</th>\n",
       "      <th>1</th>\n",
       "      <th>2</th>\n",
       "      <th>3</th>\n",
       "      <th>4</th>\n",
       "      <th>5</th>\n",
       "      <th>6</th>\n",
       "      <th>7</th>\n",
       "    </tr>\n",
       "    <tr>\n",
       "      <th>monthstarted</th>\n",
       "      <th></th>\n",
       "      <th></th>\n",
       "      <th></th>\n",
       "      <th></th>\n",
       "      <th></th>\n",
       "      <th></th>\n",
       "      <th></th>\n",
       "      <th></th>\n",
       "    </tr>\n",
       "  </thead>\n",
       "  <tbody>\n",
       "    <tr>\n",
       "      <th>2019-08-01</th>\n",
       "      <td>100.0</td>\n",
       "      <td>52.02</td>\n",
       "      <td>49.68</td>\n",
       "      <td>48.86</td>\n",
       "      <td>43.77</td>\n",
       "      <td>47.79</td>\n",
       "      <td>42.64</td>\n",
       "      <td>36.25</td>\n",
       "    </tr>\n",
       "    <tr>\n",
       "      <th>2019-09-01</th>\n",
       "      <td>100.0</td>\n",
       "      <td>46.80</td>\n",
       "      <td>42.60</td>\n",
       "      <td>37.43</td>\n",
       "      <td>40.47</td>\n",
       "      <td>36.43</td>\n",
       "      <td>30.64</td>\n",
       "      <td>NaN</td>\n",
       "    </tr>\n",
       "    <tr>\n",
       "      <th>2019-10-01</th>\n",
       "      <td>100.0</td>\n",
       "      <td>41.60</td>\n",
       "      <td>35.40</td>\n",
       "      <td>38.10</td>\n",
       "      <td>33.55</td>\n",
       "      <td>27.63</td>\n",
       "      <td>NaN</td>\n",
       "      <td>NaN</td>\n",
       "    </tr>\n",
       "    <tr>\n",
       "      <th>2019-11-01</th>\n",
       "      <td>100.0</td>\n",
       "      <td>40.30</td>\n",
       "      <td>42.03</td>\n",
       "      <td>36.58</td>\n",
       "      <td>29.44</td>\n",
       "      <td>NaN</td>\n",
       "      <td>NaN</td>\n",
       "      <td>NaN</td>\n",
       "    </tr>\n",
       "    <tr>\n",
       "      <th>2019-12-01</th>\n",
       "      <td>100.0</td>\n",
       "      <td>45.78</td>\n",
       "      <td>39.29</td>\n",
       "      <td>31.05</td>\n",
       "      <td>NaN</td>\n",
       "      <td>NaN</td>\n",
       "      <td>NaN</td>\n",
       "      <td>NaN</td>\n",
       "    </tr>\n",
       "    <tr>\n",
       "      <th>2020-01-01</th>\n",
       "      <td>100.0</td>\n",
       "      <td>38.84</td>\n",
       "      <td>28.67</td>\n",
       "      <td>NaN</td>\n",
       "      <td>NaN</td>\n",
       "      <td>NaN</td>\n",
       "      <td>NaN</td>\n",
       "      <td>NaN</td>\n",
       "    </tr>\n",
       "    <tr>\n",
       "      <th>2020-02-01</th>\n",
       "      <td>100.0</td>\n",
       "      <td>31.88</td>\n",
       "      <td>NaN</td>\n",
       "      <td>NaN</td>\n",
       "      <td>NaN</td>\n",
       "      <td>NaN</td>\n",
       "      <td>NaN</td>\n",
       "      <td>NaN</td>\n",
       "    </tr>\n",
       "    <tr>\n",
       "      <th>2020-03-01</th>\n",
       "      <td>100.0</td>\n",
       "      <td>NaN</td>\n",
       "      <td>NaN</td>\n",
       "      <td>NaN</td>\n",
       "      <td>NaN</td>\n",
       "      <td>NaN</td>\n",
       "      <td>NaN</td>\n",
       "      <td>NaN</td>\n",
       "    </tr>\n",
       "  </tbody>\n",
       "</table>\n",
       "</div>"
      ],
      "text/plain": [
       "             customer_id                                                 \n",
       "monthpassed            0      1      2      3      4      5      6      7\n",
       "monthstarted                                                             \n",
       "2019-08-01         100.0  52.02  49.68  48.86  43.77  47.79  42.64  36.25\n",
       "2019-09-01         100.0  46.80  42.60  37.43  40.47  36.43  30.64    NaN\n",
       "2019-10-01         100.0  41.60  35.40  38.10  33.55  27.63    NaN    NaN\n",
       "2019-11-01         100.0  40.30  42.03  36.58  29.44    NaN    NaN    NaN\n",
       "2019-12-01         100.0  45.78  39.29  31.05    NaN    NaN    NaN    NaN\n",
       "2020-01-01         100.0  38.84  28.67    NaN    NaN    NaN    NaN    NaN\n",
       "2020-02-01         100.0  31.88    NaN    NaN    NaN    NaN    NaN    NaN\n",
       "2020-03-01         100.0    NaN    NaN    NaN    NaN    NaN    NaN    NaN"
      ]
     },
     "execution_count": 73,
     "metadata": {},
     "output_type": "execute_result"
    }
   ],
   "source": [
    "customer_cohort = cohort_df.div(cohort_df.iloc[:,0], axis=0) * 100\n",
    "customer_cohort = customer_cohort.round(decimals=2)\n",
    "customer_cohort"
   ]
  },
  {
   "cell_type": "code",
   "execution_count": null,
   "id": "67ffffe8",
   "metadata": {},
   "outputs": [],
   "source": [
    "# heatmap 출력하기"
   ]
  },
  {
   "cell_type": "code",
   "execution_count": 76,
   "id": "484cd51b",
   "metadata": {
    "ExecuteTime": {
     "end_time": "2022-05-09T05:20:55.972664Z",
     "start_time": "2022-05-09T05:20:53.725575Z"
    }
   },
   "outputs": [
    {
     "data": {
      "text/plain": [
       "<AxesSubplot:xlabel='None-monthpassed', ylabel='monthstarted'>"
      ]
     },
     "execution_count": 76,
     "metadata": {},
     "output_type": "execute_result"
    },
    {
     "data": {
      "image/png": "[encoded data removed]",
      "text/plain": [
       "<Figure size 1080x576 with 2 Axes>"
      ]
     },
     "metadata": {
      "needs_background": "light"
     },
     "output_type": "display_data"
    }
   ],
   "source": [
    "xticks = np.arange(0,8)\n",
    "yticks = ['2019/08','2019/9','2019/10','2019/11','2019/12','2020/01','2020/02','2020/03']\n",
    "\n",
    "plt.figure(figsize= (15,8))\n",
    "sns.heatmap(customer_cohort,\n",
    "           annot=True,\n",
    "           xticklabels=xticks,\n",
    "           yticklabels=yticks,\n",
    "           fmt='.1f')"
   ]
  },
  {
   "cell_type": "code",
   "execution_count": null,
   "id": "ce34f12d",
   "metadata": {},
   "outputs": [],
   "source": []
  },
  {
   "cell_type": "code",
   "execution_count": null,
   "id": "58df0217",
   "metadata": {},
   "outputs": [],
   "source": []
  },
  {
   "cell_type": "code",
   "execution_count": null,
   "id": "c0aea707",
   "metadata": {},
   "outputs": [],
   "source": []
  },
  {
   "cell_type": "code",
   "execution_count": null,
   "id": "3404f0cb",
   "metadata": {},
   "outputs": [],
   "source": [
    "# 에러 코드 : 왜 에러가 났는지 나중에 다시 해볼것 "
   ]
  },
  {
   "cell_type": "code",
   "execution_count": null,
   "id": "5fb7b471",
   "metadata": {},
   "outputs": [],
   "source": [
    "best_review = naver_total.groupby('product_rename')['review_cnt'].sum().sort_values(ascending=False).head(10)\n",
    "best_review\n",
    "\n",
    "plt.figure(figsize=(8,4))\n",
    "best_review.plot(kind='barh',grid=True, title='bb')"
   ]
  },
  {
   "cell_type": "code",
   "execution_count": null,
   "id": "528a0f08",
   "metadata": {},
   "outputs": [],
   "source": [
    "for customer_id,customer_ids,count_created in zip(chai['customer_id'],count_created['customer_ids'],count_created['count_created']):\n",
    "        \n",
    "    if count_created >= 10:\n",
    "        chai.loc[chai['customer_id']== count_created['customer_ids'],'created_count_vip'] = 'vip'\n",
    "    elif count_created < 10:\n",
    "        chai.loc[chai['customer_id']== count_created['customer_ids'],'created_count_vip'] = 'general customer'\n"
   ]
  },
  {
   "cell_type": "code",
   "execution_count": null,
   "id": "a759af69",
   "metadata": {},
   "outputs": [],
   "source": []
  }
 ],
 "metadata": {
  "kernelspec": {
   "display_name": "Python 3 (ipykernel)",
   "language": "python",
   "name": "python3"
  },
  "language_info": {
   "codemirror_mode": {
    "name": "ipython",
    "version": 3
   },
   "file_extension": ".py",
   "mimetype": "text/x-python",
   "name": "python",
   "nbconvert_exporter": "python",
   "pygments_lexer": "ipython3",
   "version": "3.7.11"
  },
  "toc": {
   "base_numbering": 1,
   "nav_menu": {},
   "number_sections": true,
   "sideBar": true,
   "skip_h1_title": false,
   "title_cell": "Table of Contents",
   "title_sidebar": "Contents",
   "toc_cell": false,
   "toc_position": {},
   "toc_section_display": true,
   "toc_window_display": false
  },
  "varInspector": {
   "cols": {
    "lenName": 16,
    "lenType": 16,
    "lenVar": 40
   },
   "kernels_config": {
    "python": {
     "delete_cmd_postfix": "",
     "delete_cmd_prefix": "del ",
     "library": "var_list.py",
     "varRefreshCmd": "print(var_dic_list())"
    },
    "r": {
     "delete_cmd_postfix": ") ",
     "delete_cmd_prefix": "rm(",
     "library": "var_list.r",
     "varRefreshCmd": "cat(var_dic_list()) "
    }
   },
   "types_to_exclude": [
    "module",
    "function",
    "builtin_function_or_method",
    "instance",
    "_Feature"
   ],
   "window_display": false
  }
 },
 "nbformat": 4,
 "nbformat_minor": 5
}
